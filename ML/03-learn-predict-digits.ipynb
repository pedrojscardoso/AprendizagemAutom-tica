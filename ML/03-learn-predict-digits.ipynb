{
 "cells": [
  {
   "cell_type": "markdown",
   "metadata": {
    "collapsed": false,
    "jupyter": {
     "outputs_hidden": false
    }
   },
   "source": [
    "___\n",
    "<h1> Machine Learning </h1>\n",
    "<h2> Systems Engineering and Computer Technologies / Engenharia de Sistemas e Tecnologias Informáticas\n",
    "(LESTI)</h2>\n",
    "<h3> Instituto Superior de Engenharia / Universidade do Algarve </h3>\n",
    "\n",
    "[LESTI](https://ise.ualg.pt/curso/1941) / [ISE](https://ise.ualg.pt) / [UAlg](https://www.ualg.pt)\n",
    "\n",
    "Pedro J. S. Cardoso (pcardoso@ualg.pt)\n",
    "\n",
    "___"
   ]
  },
  {
   "cell_type": "markdown",
   "metadata": {
    "ExecuteTime": {
     "end_time": "2018-04-11T20:22:19.949805Z",
     "start_time": "2018-04-11T20:22:19.946294Z"
    }
   },
   "source": [
    "# Learning and predicting\n",
    "\n",
    "To make predictions about the data, we need to have a model that can be applied to the data. In scikit-learn, models are called estimators.\n",
    "\n",
    "So, we need to choose an estimator class, import the class, and instantiate the estimator.\n",
    "\n",
    "Then, we need to choose the model hyperparameters by instantiating the estimator with desired values.\n",
    "\n",
    "Finally, we need to fit the model to the data by calling the `fit()` method of the model instance.\n",
    "\n",
    "And, we'll be ready to predict new values with the `predict()` method of the model instance."
   ]
  },
  {
   "cell_type": "code",
   "execution_count": 1,
   "metadata": {
    "ExecuteTime": {
     "end_time": "2023-09-28T07:33:22.607764Z",
     "start_time": "2023-09-28T07:33:21.635102Z"
    }
   },
   "outputs": [],
   "source": [
    "# inline plotting instead of popping out\n",
    "%matplotlib inline\n",
    "\n",
    "# import the necessary modules from the packages\n",
    "# datasets: to load the data\n",
    "# svm: the estimator\n",
    "from sklearn import datasets, svm\n",
    "\n",
    "# import matplotlib to plot the images\n",
    "import matplotlib.pyplot as plt"
   ]
  },
  {
   "cell_type": "markdown",
   "metadata": {
    "collapsed": false,
    "jupyter": {
     "outputs_hidden": false
    }
   },
   "source": [
    "## Loading an example dataset"
   ]
  },
  {
   "cell_type": "code",
   "execution_count": 2,
   "metadata": {
    "ExecuteTime": {
     "end_time": "2023-09-28T07:33:22.631213Z",
     "start_time": "2023-09-28T07:33:22.609394Z"
    }
   },
   "outputs": [
    {
     "data": {
      "text/plain": "(1797, 64)"
     },
     "execution_count": 2,
     "metadata": {},
     "output_type": "execute_result"
    }
   ],
   "source": [
    "# Load the digits dataset\n",
    "digits = datasets.load_digits()\n",
    "\n",
    "# check the shape of the data\n",
    "digits.data.shape"
   ]
  },
  {
   "cell_type": "markdown",
   "metadata": {
    "ExecuteTime": {
     "end_time": "2018-04-11T20:02:06.790245Z",
     "start_time": "2018-04-11T20:02:06.583156Z"
    }
   },
   "source": [
    "An example of an estimator is the class `sklearn.svm.SVC` that implements support vector classification. The constructor of an estimator takes as arguments the parameters of the model but, **for the time being we will consider the estimator as a black box**."
   ]
  },
  {
   "cell_type": "code",
   "execution_count": 3,
   "metadata": {
    "ExecuteTime": {
     "end_time": "2023-09-28T07:33:22.631474Z",
     "start_time": "2023-09-28T07:33:22.621664Z"
    }
   },
   "outputs": [],
   "source": [
    "# Create a classifier: a support vector classifier\n",
    "clf = svm.SVC(gamma=0.001, C=100.)"
   ]
  },
  {
   "cell_type": "markdown",
   "metadata": {},
   "source": [
    "We call our estimator instance `clf`, as it is a classifier. \n",
    "\n",
    "The model must now be fitted to data, that is, it must \"learn the model\". This is done by passing our training set to the fit method. \n",
    "\n",
    "As a training set, let us use all the images of our dataset apart from the last five ones. We select this training set with the `[:-5]` Python syntax, which produces a new array that contains all but the last entry of digits.data (latter we'll see who to do this the right way)"
   ]
  },
  {
   "cell_type": "code",
   "execution_count": 4,
   "metadata": {
    "ExecuteTime": {
     "end_time": "2023-09-28T07:33:22.631608Z",
     "start_time": "2023-09-28T07:33:22.624857Z"
    }
   },
   "outputs": [],
   "source": [
    "# Note this is not the right way to do it, but it is just to show the idea\n",
    "\n",
    "# set the training set - note that the last five images are not used\n",
    "training_set_X = digits.data[:-5]\n",
    "training_set_y = digits.target[:-5]\n",
    "\n",
    "# set the validation set\n",
    "validation_set_X = digits.data[-5:]\n",
    "validation_set_y = digits.target[-5:]"
   ]
  },
  {
   "cell_type": "markdown",
   "metadata": {},
   "source": [
    "And now it is posible to fit the model to the data (kind of a convenction, usually models have the `fit` method)"
   ]
  },
  {
   "cell_type": "code",
   "execution_count": 5,
   "metadata": {
    "ExecuteTime": {
     "end_time": "2023-09-28T07:33:22.714100Z",
     "start_time": "2023-09-28T07:33:22.628160Z"
    }
   },
   "outputs": [
    {
     "data": {
      "text/plain": "SVC(C=100.0, gamma=0.001)",
      "text/html": "<style>#sk-container-id-1 {color: black;background-color: white;}#sk-container-id-1 pre{padding: 0;}#sk-container-id-1 div.sk-toggleable {background-color: white;}#sk-container-id-1 label.sk-toggleable__label {cursor: pointer;display: block;width: 100%;margin-bottom: 0;padding: 0.3em;box-sizing: border-box;text-align: center;}#sk-container-id-1 label.sk-toggleable__label-arrow:before {content: \"▸\";float: left;margin-right: 0.25em;color: #696969;}#sk-container-id-1 label.sk-toggleable__label-arrow:hover:before {color: black;}#sk-container-id-1 div.sk-estimator:hover label.sk-toggleable__label-arrow:before {color: black;}#sk-container-id-1 div.sk-toggleable__content {max-height: 0;max-width: 0;overflow: hidden;text-align: left;background-color: #f0f8ff;}#sk-container-id-1 div.sk-toggleable__content pre {margin: 0.2em;color: black;border-radius: 0.25em;background-color: #f0f8ff;}#sk-container-id-1 input.sk-toggleable__control:checked~div.sk-toggleable__content {max-height: 200px;max-width: 100%;overflow: auto;}#sk-container-id-1 input.sk-toggleable__control:checked~label.sk-toggleable__label-arrow:before {content: \"▾\";}#sk-container-id-1 div.sk-estimator input.sk-toggleable__control:checked~label.sk-toggleable__label {background-color: #d4ebff;}#sk-container-id-1 div.sk-label input.sk-toggleable__control:checked~label.sk-toggleable__label {background-color: #d4ebff;}#sk-container-id-1 input.sk-hidden--visually {border: 0;clip: rect(1px 1px 1px 1px);clip: rect(1px, 1px, 1px, 1px);height: 1px;margin: -1px;overflow: hidden;padding: 0;position: absolute;width: 1px;}#sk-container-id-1 div.sk-estimator {font-family: monospace;background-color: #f0f8ff;border: 1px dotted black;border-radius: 0.25em;box-sizing: border-box;margin-bottom: 0.5em;}#sk-container-id-1 div.sk-estimator:hover {background-color: #d4ebff;}#sk-container-id-1 div.sk-parallel-item::after {content: \"\";width: 100%;border-bottom: 1px solid gray;flex-grow: 1;}#sk-container-id-1 div.sk-label:hover label.sk-toggleable__label {background-color: #d4ebff;}#sk-container-id-1 div.sk-serial::before {content: \"\";position: absolute;border-left: 1px solid gray;box-sizing: border-box;top: 0;bottom: 0;left: 50%;z-index: 0;}#sk-container-id-1 div.sk-serial {display: flex;flex-direction: column;align-items: center;background-color: white;padding-right: 0.2em;padding-left: 0.2em;position: relative;}#sk-container-id-1 div.sk-item {position: relative;z-index: 1;}#sk-container-id-1 div.sk-parallel {display: flex;align-items: stretch;justify-content: center;background-color: white;position: relative;}#sk-container-id-1 div.sk-item::before, #sk-container-id-1 div.sk-parallel-item::before {content: \"\";position: absolute;border-left: 1px solid gray;box-sizing: border-box;top: 0;bottom: 0;left: 50%;z-index: -1;}#sk-container-id-1 div.sk-parallel-item {display: flex;flex-direction: column;z-index: 1;position: relative;background-color: white;}#sk-container-id-1 div.sk-parallel-item:first-child::after {align-self: flex-end;width: 50%;}#sk-container-id-1 div.sk-parallel-item:last-child::after {align-self: flex-start;width: 50%;}#sk-container-id-1 div.sk-parallel-item:only-child::after {width: 0;}#sk-container-id-1 div.sk-dashed-wrapped {border: 1px dashed gray;margin: 0 0.4em 0.5em 0.4em;box-sizing: border-box;padding-bottom: 0.4em;background-color: white;}#sk-container-id-1 div.sk-label label {font-family: monospace;font-weight: bold;display: inline-block;line-height: 1.2em;}#sk-container-id-1 div.sk-label-container {text-align: center;}#sk-container-id-1 div.sk-container {/* jupyter's `normalize.less` sets `[hidden] { display: none; }` but bootstrap.min.css set `[hidden] { display: none !important; }` so we also need the `!important` here to be able to override the default hidden behavior on the sphinx rendered scikit-learn.org. See: https://github.com/scikit-learn/scikit-learn/issues/21755 */display: inline-block !important;position: relative;}#sk-container-id-1 div.sk-text-repr-fallback {display: none;}</style><div id=\"sk-container-id-1\" class=\"sk-top-container\"><div class=\"sk-text-repr-fallback\"><pre>SVC(C=100.0, gamma=0.001)</pre><b>In a Jupyter environment, please rerun this cell to show the HTML representation or trust the notebook. <br />On GitHub, the HTML representation is unable to render, please try loading this page with nbviewer.org.</b></div><div class=\"sk-container\" hidden><div class=\"sk-item\"><div class=\"sk-estimator sk-toggleable\"><input class=\"sk-toggleable__control sk-hidden--visually\" id=\"sk-estimator-id-1\" type=\"checkbox\" checked><label for=\"sk-estimator-id-1\" class=\"sk-toggleable__label sk-toggleable__label-arrow\">SVC</label><div class=\"sk-toggleable__content\"><pre>SVC(C=100.0, gamma=0.001)</pre></div></div></div></div></div>"
     },
     "execution_count": 5,
     "metadata": {},
     "output_type": "execute_result"
    }
   ],
   "source": [
    "clf.fit(training_set_X, training_set_y)"
   ]
  },
  {
   "cell_type": "markdown",
   "metadata": {},
   "source": [
    "So, what does the classifier predicts for the last five images?"
   ]
  },
  {
   "cell_type": "code",
   "execution_count": 6,
   "metadata": {
    "ExecuteTime": {
     "end_time": "2023-09-28T07:33:22.714466Z",
     "start_time": "2023-09-28T07:33:22.701497Z"
    }
   },
   "outputs": [
    {
     "data": {
      "text/plain": "array([9, 0, 8, 9, 8])"
     },
     "execution_count": 6,
     "metadata": {},
     "output_type": "execute_result"
    }
   ],
   "source": [
    "clf.predict(validation_set_X)"
   ]
  },
  {
   "cell_type": "markdown",
   "metadata": {},
   "source": [
    "And the real values is "
   ]
  },
  {
   "cell_type": "code",
   "execution_count": 7,
   "metadata": {
    "ExecuteTime": {
     "end_time": "2023-09-28T07:33:22.714605Z",
     "start_time": "2023-09-28T07:33:22.705048Z"
    }
   },
   "outputs": [
    {
     "data": {
      "text/plain": "array([9, 0, 8, 9, 8])"
     },
     "execution_count": 7,
     "metadata": {},
     "output_type": "execute_result"
    }
   ],
   "source": [
    "validation_set_y"
   ]
  },
  {
   "cell_type": "markdown",
   "metadata": {},
   "source": [
    "Good... heim? What do you think...?"
   ]
  },
  {
   "cell_type": "code",
   "execution_count": 8,
   "metadata": {
    "ExecuteTime": {
     "end_time": "2023-09-28T07:33:22.714819Z",
     "start_time": "2023-09-28T07:33:22.709642Z"
    }
   },
   "outputs": [
    {
     "name": "stdout",
     "output_type": "stream",
     "text": [
      "[[ 0.  0.  4. 10. 13.  6.  0.  0.]\n",
      " [ 0.  1. 16. 14. 12. 16.  3.  0.]\n",
      " [ 0.  4. 16.  6.  3. 16.  4.  0.]\n",
      " [ 0.  0. 12. 16. 16. 16.  5.  0.]\n",
      " [ 0.  0.  0.  4.  4. 16.  8.  0.]\n",
      " [ 0.  0.  0.  0.  0. 15.  5.  0.]\n",
      " [ 0.  0.  5.  7.  7. 16.  4.  0.]\n",
      " [ 0.  0.  2. 14. 15.  9.  0.  0.]]\n",
      "[[ 0.  0.  6. 16. 13. 11.  1.  0.]\n",
      " [ 0.  0. 16. 15. 12. 16.  1.  0.]\n",
      " [ 0.  3. 16.  7.  0. 13.  6.  0.]\n",
      " [ 0.  4. 16.  0.  0. 10.  8.  0.]\n",
      " [ 0.  8. 16.  0.  0. 14.  6.  0.]\n",
      " [ 0.  5. 16.  7.  9. 16.  5.  0.]\n",
      " [ 0.  1. 15. 16. 16. 16.  1.  0.]\n",
      " [ 0.  0.  6. 16. 14.  6.  0.  0.]]\n",
      "[[ 0.  0.  1. 11. 15.  1.  0.  0.]\n",
      " [ 0.  0. 13. 16.  8.  2.  1.  0.]\n",
      " [ 0.  0. 16. 15. 10. 16.  5.  0.]\n",
      " [ 0.  0.  8. 16. 16.  7.  0.  0.]\n",
      " [ 0.  0.  9. 16. 16.  4.  0.  0.]\n",
      " [ 0.  0. 16. 14. 16. 15.  0.  0.]\n",
      " [ 0.  0. 15. 15. 15. 16.  0.  0.]\n",
      " [ 0.  0.  2.  9. 13.  6.  0.  0.]]\n",
      "[[ 0.  0.  2. 10.  7.  0.  0.  0.]\n",
      " [ 0.  0. 14. 16. 16. 15.  1.  0.]\n",
      " [ 0.  4. 16.  7.  3. 16.  7.  0.]\n",
      " [ 0.  5. 16. 10.  7. 16.  4.  0.]\n",
      " [ 0.  0.  5. 14. 14. 16.  4.  0.]\n",
      " [ 0.  0.  0.  0.  0. 16.  2.  0.]\n",
      " [ 0.  0.  4.  7.  7. 16.  2.  0.]\n",
      " [ 0.  0.  5. 12. 16. 12.  0.  0.]]\n",
      "[[ 0.  0. 10. 14.  8.  1.  0.  0.]\n",
      " [ 0.  2. 16. 14.  6.  1.  0.  0.]\n",
      " [ 0.  0. 15. 15.  8. 15.  0.  0.]\n",
      " [ 0.  0.  5. 16. 16. 10.  0.  0.]\n",
      " [ 0.  0. 12. 15. 15. 12.  0.  0.]\n",
      " [ 0.  4. 16.  6.  4. 16.  6.  0.]\n",
      " [ 0.  8. 16. 10.  8. 16.  8.  0.]\n",
      " [ 0.  1.  8. 12. 14. 12.  1.  0.]]\n"
     ]
    }
   ],
   "source": [
    "m, n = digits.data.shape\n",
    "for image in digits.data[-5:]:\n",
    "    image = image.reshape((8,8))\n",
    "    print(image)"
   ]
  },
  {
   "cell_type": "markdown",
   "metadata": {},
   "source": [
    "We can improve the visualization..."
   ]
  },
  {
   "cell_type": "code",
   "execution_count": 9,
   "metadata": {
    "ExecuteTime": {
     "end_time": "2023-09-28T07:33:23.097159Z",
     "start_time": "2023-09-28T07:33:22.711366Z"
    }
   },
   "outputs": [
    {
     "data": {
      "text/plain": "<Figure size 2500x500 with 5 Axes>",
      "image/png": "[encoded data removed]"
     },
     "metadata": {},
     "output_type": "display_data"
    },
    {
     "name": "stdout",
     "output_type": "stream",
     "text": [
      "[9 0 8 9 8]\n"
     ]
    }
   ],
   "source": [
    "fig, ax = plt.subplots(1, 5, figsize=(25, 5))\n",
    "for i, image in enumerate(digits.data[-5:]):\n",
    "    image = image.reshape((8,8))\n",
    "    ax[i].imshow(image, cmap=plt.cm.gray_r, interpolation='nearest')\n",
    "plt.show()\n",
    "\n",
    "# to recall\n",
    "print(digits.target[m-5:])\n"
   ]
  },
  {
   "cell_type": "markdown",
   "source": [
    "# The ML flow\n",
    "\n",
    "So, the ML flow is:\n",
    "- Choose a class of model by importing the appropriate estimator class from Scikit-Learn.\n",
    "- Choose model hyperparameters by instantiating this class with desired values.\n",
    "- Arrange data into a features matrix and target vector.\n",
    "- Fit the model to your data by calling the `fit()` method of the model instance.\n",
    "- Apply the Model to new data using the `predict()` method.\n",
    "\n",
    "\n",
    "Other steps can be added, such as:\n",
    "- Transform data using operations such as scaling, encoding, or imputation of missing values.\n",
    "- Evaluate the model's performance.\n",
    "- Tune hyperparameters.\n",
    "- Deploy the model to production.\n",
    "\n",
    "We'll see some of these steps in the next classes."
   ],
   "metadata": {
    "collapsed": false
   }
  },
  {
   "cell_type": "markdown",
   "source": [
    "This can be transleted into a sklearn pipeline"
   ],
   "metadata": {
    "collapsed": false
   }
  },
  {
   "cell_type": "code",
   "execution_count": 10,
   "outputs": [],
   "source": [
    "from sklearn.pipeline import Pipeline\n",
    "from sklearn.preprocessing import StandardScaler\n",
    "from sklearn.svm import SVC"
   ],
   "metadata": {
    "collapsed": false,
    "ExecuteTime": {
     "end_time": "2023-09-28T07:33:23.098257Z",
     "start_time": "2023-09-28T07:33:23.095302Z"
    }
   }
  },
  {
   "cell_type": "code",
   "execution_count": 11,
   "outputs": [
    {
     "data": {
      "text/plain": "array([9, 0, 8, 9, 8])"
     },
     "execution_count": 11,
     "metadata": {},
     "output_type": "execute_result"
    }
   ],
   "source": [
    "pipe = Pipeline([\n",
    "    ('scaler', StandardScaler()),\n",
    "    ('svc', SVC())\n",
    "])\n",
    "\n",
    "pipe.fit(training_set_X, training_set_y)\n",
    "\n",
    "pipe.predict(validation_set_X)\n"
   ],
   "metadata": {
    "collapsed": false,
    "ExecuteTime": {
     "end_time": "2023-09-28T07:33:23.180656Z",
     "start_time": "2023-09-28T07:33:23.099956Z"
    }
   }
  },
  {
   "cell_type": "markdown",
   "source": [],
   "metadata": {
    "collapsed": false
   }
  }
 ],
 "metadata": {
  "kernelspec": {
   "display_name": "Python 3 (ipykernel)",
   "language": "python",
   "name": "python3"
  },
  "language_info": {
   "codemirror_mode": {
    "name": "ipython",
    "version": 3
   },
   "file_extension": ".py",
   "mimetype": "text/x-python",
   "name": "python",
   "nbconvert_exporter": "python",
   "pygments_lexer": "ipython3",
   "version": "3.10.13"
  },
  "nbTranslate": {
   "displayLangs": [
    "*"
   ],
   "hotkey": "alt-t",
   "langInMainMenu": true,
   "sourceLang": "en",
   "targetLang": "fr",
   "useGoogleTranslate": true
  },
  "toc": {
   "base_numbering": 1,
   "nav_menu": {},
   "number_sections": true,
   "sideBar": true,
   "skip_h1_title": false,
   "title_cell": "Table of Contents",
   "title_sidebar": "Contents",
   "toc_cell": false,
   "toc_position": {},
   "toc_section_display": "block",
   "toc_window_display": false
  },
  "varInspector": {
   "cols": {
    "lenName": 16,
    "lenType": 16,
    "lenVar": 40
   },
   "kernels_config": {
    "python": {
     "delete_cmd_postfix": "",
     "delete_cmd_prefix": "del ",
     "library": "var_list.py",
     "varRefreshCmd": "print(var_dic_list())"
    },
    "r": {
     "delete_cmd_postfix": ") ",
     "delete_cmd_prefix": "rm(",
     "library": "var_list.r",
     "varRefreshCmd": "cat(var_dic_list()) "
    }
   },
   "types_to_exclude": [
    "module",
    "function",
    "builtin_function_or_method",
    "instance",
    "_Feature"
   ],
   "window_display": false
  }
 },
 "nbformat": 4,
 "nbformat_minor": 4
}
