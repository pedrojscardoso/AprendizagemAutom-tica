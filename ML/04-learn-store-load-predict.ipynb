{
 "cells": [
  {
   "cell_type": "markdown",
   "source": [
    "___\n",
    "<h1> Machine Learning </h1>\n",
    "<h2> Systems Engineering and Computer Technologies / Engenharia de Sistemas e Tecnologias Informáticas\n",
    "(LESTI)</h2>\n",
    "<h3> Instituto Superior de Engenharia / Universidade do Algarve </h3>\n",
    "\n",
    "[LESTI](https://ise.ualg.pt/curso/1941) / [ISE](https://ise.ualg.pt) / [UAlg](https://www.ualg.pt)\n",
    "\n",
    "Pedro J. S. Cardoso (pcardoso@ualg.pt)\n",
    "\n",
    "___"
   ],
   "metadata": {
    "collapsed": false
   }
  },
  {
   "cell_type": "markdown",
   "metadata": {},
   "source": [
    "# Model persistence\n",
    "\n",
    "In this section we will see how to save a model and load it for later use. This is known as model persistence.\n",
    "\n",
    "Saving a model in scikit-learn is very easy. It can be done using Python’s built-in persistence model, namely with pickle, or using joblib, an efficient implementation of the same algorithm specialized on big data, but only able to pickle to the disk and not to a string.\n",
    "\n",
    "The advantages of saving the model are the possibility to:\n",
    "- reuse the model without having to retrain (and possibly reconfigure) it.\n",
    "- share the model with others.\n",
    "- compare different models.\n",
    "- use it as part of a larger application of workflow.\n",
    "- save the model on a remote machine (with more resources) and use it later for predictions, as usually the predictions are much faster than the training.\n",
    "- use it as part of a service / web application / mobile application."
   ]
  },
  {
   "cell_type": "markdown",
   "metadata": {},
   "source": [
    "## Training of the model\n",
    "So, let start by training a model, as we did before..."
   ]
  },
  {
   "cell_type": "code",
   "execution_count": 1,
   "metadata": {
    "ExecuteTime": {
     "end_time": "2023-09-16T13:57:03.358359Z",
     "start_time": "2023-09-16T13:57:02.476574Z"
    }
   },
   "outputs": [
    {
     "data": {
      "text/plain": "SVC(C=100.0, gamma=0.001)",
      "text/html": "<style>#sk-container-id-1 {color: black;background-color: white;}#sk-container-id-1 pre{padding: 0;}#sk-container-id-1 div.sk-toggleable {background-color: white;}#sk-container-id-1 label.sk-toggleable__label {cursor: pointer;display: block;width: 100%;margin-bottom: 0;padding: 0.3em;box-sizing: border-box;text-align: center;}#sk-container-id-1 label.sk-toggleable__label-arrow:before {content: \"▸\";float: left;margin-right: 0.25em;color: #696969;}#sk-container-id-1 label.sk-toggleable__label-arrow:hover:before {color: black;}#sk-container-id-1 div.sk-estimator:hover label.sk-toggleable__label-arrow:before {color: black;}#sk-container-id-1 div.sk-toggleable__content {max-height: 0;max-width: 0;overflow: hidden;text-align: left;background-color: #f0f8ff;}#sk-container-id-1 div.sk-toggleable__content pre {margin: 0.2em;color: black;border-radius: 0.25em;background-color: #f0f8ff;}#sk-container-id-1 input.sk-toggleable__control:checked~div.sk-toggleable__content {max-height: 200px;max-width: 100%;overflow: auto;}#sk-container-id-1 input.sk-toggleable__control:checked~label.sk-toggleable__label-arrow:before {content: \"▾\";}#sk-container-id-1 div.sk-estimator input.sk-toggleable__control:checked~label.sk-toggleable__label {background-color: #d4ebff;}#sk-container-id-1 div.sk-label input.sk-toggleable__control:checked~label.sk-toggleable__label {background-color: #d4ebff;}#sk-container-id-1 input.sk-hidden--visually {border: 0;clip: rect(1px 1px 1px 1px);clip: rect(1px, 1px, 1px, 1px);height: 1px;margin: -1px;overflow: hidden;padding: 0;position: absolute;width: 1px;}#sk-container-id-1 div.sk-estimator {font-family: monospace;background-color: #f0f8ff;border: 1px dotted black;border-radius: 0.25em;box-sizing: border-box;margin-bottom: 0.5em;}#sk-container-id-1 div.sk-estimator:hover {background-color: #d4ebff;}#sk-container-id-1 div.sk-parallel-item::after {content: \"\";width: 100%;border-bottom: 1px solid gray;flex-grow: 1;}#sk-container-id-1 div.sk-label:hover label.sk-toggleable__label {background-color: #d4ebff;}#sk-container-id-1 div.sk-serial::before {content: \"\";position: absolute;border-left: 1px solid gray;box-sizing: border-box;top: 0;bottom: 0;left: 50%;z-index: 0;}#sk-container-id-1 div.sk-serial {display: flex;flex-direction: column;align-items: center;background-color: white;padding-right: 0.2em;padding-left: 0.2em;position: relative;}#sk-container-id-1 div.sk-item {position: relative;z-index: 1;}#sk-container-id-1 div.sk-parallel {display: flex;align-items: stretch;justify-content: center;background-color: white;position: relative;}#sk-container-id-1 div.sk-item::before, #sk-container-id-1 div.sk-parallel-item::before {content: \"\";position: absolute;border-left: 1px solid gray;box-sizing: border-box;top: 0;bottom: 0;left: 50%;z-index: -1;}#sk-container-id-1 div.sk-parallel-item {display: flex;flex-direction: column;z-index: 1;position: relative;background-color: white;}#sk-container-id-1 div.sk-parallel-item:first-child::after {align-self: flex-end;width: 50%;}#sk-container-id-1 div.sk-parallel-item:last-child::after {align-self: flex-start;width: 50%;}#sk-container-id-1 div.sk-parallel-item:only-child::after {width: 0;}#sk-container-id-1 div.sk-dashed-wrapped {border: 1px dashed gray;margin: 0 0.4em 0.5em 0.4em;box-sizing: border-box;padding-bottom: 0.4em;background-color: white;}#sk-container-id-1 div.sk-label label {font-family: monospace;font-weight: bold;display: inline-block;line-height: 1.2em;}#sk-container-id-1 div.sk-label-container {text-align: center;}#sk-container-id-1 div.sk-container {/* jupyter's `normalize.less` sets `[hidden] { display: none; }` but bootstrap.min.css set `[hidden] { display: none !important; }` so we also need the `!important` here to be able to override the default hidden behavior on the sphinx rendered scikit-learn.org. See: https://github.com/scikit-learn/scikit-learn/issues/21755 */display: inline-block !important;position: relative;}#sk-container-id-1 div.sk-text-repr-fallback {display: none;}</style><div id=\"sk-container-id-1\" class=\"sk-top-container\"><div class=\"sk-text-repr-fallback\"><pre>SVC(C=100.0, gamma=0.001)</pre><b>In a Jupyter environment, please rerun this cell to show the HTML representation or trust the notebook. <br />On GitHub, the HTML representation is unable to render, please try loading this page with nbviewer.org.</b></div><div class=\"sk-container\" hidden><div class=\"sk-item\"><div class=\"sk-estimator sk-toggleable\"><input class=\"sk-toggleable__control sk-hidden--visually\" id=\"sk-estimator-id-1\" type=\"checkbox\" checked><label for=\"sk-estimator-id-1\" class=\"sk-toggleable__label sk-toggleable__label-arrow\">SVC</label><div class=\"sk-toggleable__content\"><pre>SVC(C=100.0, gamma=0.001)</pre></div></div></div></div></div>"
     },
     "execution_count": 1,
     "metadata": {},
     "output_type": "execute_result"
    }
   ],
   "source": [
    "from sklearn import datasets, svm\n",
    "import matplotlib.pyplot as plt\n",
    "\n",
    "digits = datasets.load_digits()\n",
    "training_set = digits.data[:-1]\n",
    "target_set = digits.target[:-1]\n",
    "\n",
    "clf = svm.SVC(gamma=0.001, C=100.)\n",
    "clf.fit(training_set, target_set)\n"
   ]
  },
  {
   "cell_type": "markdown",
   "metadata": {},
   "source": [
    "# Saving & loading the model\n",
    "\n",
    "Several ways of saving the model are possible. We will see two of them: pickle and joblib.\n",
    "\n",
    "## pickle\n",
    "It is possible to save a model in the scikit by using Python’s built-in persistence model, namely with pickle:"
   ]
  },
  {
   "cell_type": "code",
   "execution_count": 2,
   "metadata": {
    "ExecuteTime": {
     "end_time": "2023-09-16T13:57:03.362723Z",
     "start_time": "2023-09-16T13:57:03.358880Z"
    }
   },
   "outputs": [],
   "source": [
    "import pickle\n",
    "\n",
    "with open('digits-svc.pickle', 'wb') as f:\n",
    "    pickle.dump(clf, f)"
   ]
  },
  {
   "cell_type": "markdown",
   "metadata": {
    "ExecuteTime": {
     "end_time": "2018-04-11T20:45:26.486247Z",
     "start_time": "2018-04-11T20:45:26.481736Z"
    }
   },
   "source": [
    "And latter we can reload it"
   ]
  },
  {
   "cell_type": "code",
   "execution_count": 3,
   "metadata": {
    "ExecuteTime": {
     "end_time": "2023-09-16T13:57:03.365456Z",
     "start_time": "2023-09-16T13:57:03.363134Z"
    }
   },
   "outputs": [],
   "source": [
    "with open('digits-svc.pickle', 'rb') as f:\n",
    "    clf_copy = pickle.load(f)"
   ]
  },
  {
   "cell_type": "markdown",
   "metadata": {},
   "source": [
    "and do predictions"
   ]
  },
  {
   "cell_type": "code",
   "execution_count": 4,
   "metadata": {
    "ExecuteTime": {
     "end_time": "2023-09-16T13:57:03.370452Z",
     "start_time": "2023-09-16T13:57:03.366688Z"
    }
   },
   "outputs": [
    {
     "data": {
      "text/plain": "'predicting 8 for 8'"
     },
     "execution_count": 4,
     "metadata": {},
     "output_type": "execute_result"
    }
   ],
   "source": [
    "clf_copy.predict([digits.data[-1]])\n",
    "'predicting {} for {}'.format(clf_copy.predict([digits.data[-1]])[0], digits.target[-1])"
   ]
  },
  {
   "cell_type": "markdown",
   "metadata": {},
   "source": [
    "## joblib\n",
    "\n",
    "In the specific case of the scikit, it may be more interesting to use joblib’s replacement of pickle (joblib.dump & joblib.load), which is more efficient on big data, but can only pickle to the disk and not to a string, which is probably what you want to do if you want to send your model to another machine."
   ]
  },
  {
   "cell_type": "code",
   "execution_count": 5,
   "metadata": {
    "ExecuteTime": {
     "end_time": "2023-09-16T13:57:03.377098Z",
     "start_time": "2023-09-16T13:57:03.372713Z"
    }
   },
   "outputs": [
    {
     "data": {
      "text/plain": "['digits-svc.joblib']"
     },
     "execution_count": 5,
     "metadata": {},
     "output_type": "execute_result"
    }
   ],
   "source": [
    "import joblib\n",
    "joblib.dump(clf, 'digits-svc.joblib')"
   ]
  },
  {
   "cell_type": "markdown",
   "metadata": {
    "ExecuteTime": {
     "end_time": "2018-04-11T20:50:17.632684Z",
     "start_time": "2018-04-11T20:50:17.628171Z"
    }
   },
   "source": [
    "And, as before,  latter we can reload it"
   ]
  },
  {
   "cell_type": "code",
   "execution_count": 6,
   "metadata": {
    "ExecuteTime": {
     "end_time": "2023-09-16T13:57:03.409496Z",
     "start_time": "2023-09-16T13:57:03.378038Z"
    }
   },
   "outputs": [],
   "source": [
    "clf_copy = joblib.load('digits-svc.joblib')"
   ]
  },
  {
   "cell_type": "markdown",
   "source": [
    "and do predictions"
   ],
   "metadata": {
    "collapsed": false
   }
  },
  {
   "cell_type": "code",
   "execution_count": 7,
   "metadata": {
    "ExecuteTime": {
     "end_time": "2023-09-16T13:57:03.426034Z",
     "start_time": "2023-09-16T13:57:03.381981Z"
    }
   },
   "outputs": [
    {
     "data": {
      "text/plain": "'predicting 8 for 8'"
     },
     "execution_count": 7,
     "metadata": {},
     "output_type": "execute_result"
    }
   ],
   "source": [
    "clf_copy.predict([digits.data[-1]])\n",
    "'predicting {} for {}'.format(clf_copy.predict([digits.data[-1]])[0], digits.target[-1])"
   ]
  },
  {
   "cell_type": "markdown",
   "metadata": {},
   "source": [
    "# Model from Orange\n",
    "You can also use model prepared in other places, such as Orange. So, use Orange to train a model and save it, then load it and use it for predictions."
   ]
  },
  {
   "cell_type": "code",
   "execution_count": 8,
   "metadata": {
    "ExecuteTime": {
     "end_time": "2023-09-16T13:57:04.091602Z",
     "start_time": "2023-09-16T13:57:03.387089Z"
    }
   },
   "outputs": [
    {
     "data": {
      "text/plain": "SklModelClassification(skl_model=KNeighborsClassifier(metric='euclidean', n_neighbors=8))  # params={'n_neighbors': 8, 'weights': 'uniform', 'algorithm': 'auto', 'metric': 'euclidean', 'metric_params': None}"
     },
     "execution_count": 8,
     "metadata": {},
     "output_type": "execute_result"
    }
   ],
   "source": [
    "# you might need to install Orange3 and pyqt\n",
    "# !pip install Orange3\n",
    "# !pip install PyQt5\n",
    "\n",
    "import pickle\n",
    "from sklearn.datasets import load_iris\n",
    "iris = load_iris()\n",
    "\n",
    "# load the model from disk\n",
    "with open('../Orange/iris_orange_knn_model.pkcls', 'rb') as model:\n",
    "    knn = pickle.load(model)\n",
    "\n",
    "knn"
   ]
  },
  {
   "cell_type": "markdown",
   "source": [
    "And do predictions"
   ],
   "metadata": {
    "collapsed": false
   }
  },
  {
   "cell_type": "code",
   "execution_count": 9,
   "metadata": {
    "ExecuteTime": {
     "end_time": "2023-09-16T13:57:04.102136Z",
     "start_time": "2023-09-16T13:57:04.092687Z"
    }
   },
   "outputs": [
    {
     "data": {
      "text/plain": "(array([0., 0., 0., 0., 0., 0., 0., 0., 0., 0., 0., 0., 0., 0., 0., 0., 0.,\n        0., 0., 0., 0., 0., 0., 0., 0., 0., 0., 0., 0., 0., 0., 0., 0., 0.,\n        0., 0., 0., 0., 0., 0., 0., 0., 0., 0., 0., 0., 0., 0., 0., 0., 1.,\n        1., 1., 1., 1., 1., 1., 1., 1., 1., 1., 1., 1., 1., 1., 1., 1., 1.,\n        1., 1., 1., 1., 2., 1., 1., 1., 1., 1., 1., 1., 1., 1., 1., 2., 1.,\n        1., 1., 1., 1., 1., 1., 1., 1., 1., 1., 1., 1., 1., 1., 1., 2., 2.,\n        2., 2., 2., 2., 1., 2., 2., 2., 2., 2., 2., 2., 2., 2., 2., 2., 2.,\n        2., 2., 2., 2., 2., 2., 2., 2., 2., 2., 2., 2., 2., 2., 2., 2., 2.,\n        2., 2., 2., 2., 2., 2., 2., 2., 2., 2., 2., 2., 2., 2.]),\n array([[1.   , 0.   , 0.   ],\n        [1.   , 0.   , 0.   ],\n        [1.   , 0.   , 0.   ],\n        [1.   , 0.   , 0.   ],\n        [1.   , 0.   , 0.   ],\n        [1.   , 0.   , 0.   ],\n        [1.   , 0.   , 0.   ],\n        [1.   , 0.   , 0.   ],\n        [1.   , 0.   , 0.   ],\n        [1.   , 0.   , 0.   ],\n        [1.   , 0.   , 0.   ],\n        [1.   , 0.   , 0.   ],\n        [1.   , 0.   , 0.   ],\n        [1.   , 0.   , 0.   ],\n        [1.   , 0.   , 0.   ],\n        [1.   , 0.   , 0.   ],\n        [1.   , 0.   , 0.   ],\n        [1.   , 0.   , 0.   ],\n        [1.   , 0.   , 0.   ],\n        [1.   , 0.   , 0.   ],\n        [1.   , 0.   , 0.   ],\n        [1.   , 0.   , 0.   ],\n        [1.   , 0.   , 0.   ],\n        [1.   , 0.   , 0.   ],\n        [1.   , 0.   , 0.   ],\n        [1.   , 0.   , 0.   ],\n        [1.   , 0.   , 0.   ],\n        [1.   , 0.   , 0.   ],\n        [1.   , 0.   , 0.   ],\n        [1.   , 0.   , 0.   ],\n        [1.   , 0.   , 0.   ],\n        [1.   , 0.   , 0.   ],\n        [1.   , 0.   , 0.   ],\n        [1.   , 0.   , 0.   ],\n        [1.   , 0.   , 0.   ],\n        [1.   , 0.   , 0.   ],\n        [1.   , 0.   , 0.   ],\n        [1.   , 0.   , 0.   ],\n        [1.   , 0.   , 0.   ],\n        [1.   , 0.   , 0.   ],\n        [1.   , 0.   , 0.   ],\n        [1.   , 0.   , 0.   ],\n        [1.   , 0.   , 0.   ],\n        [1.   , 0.   , 0.   ],\n        [1.   , 0.   , 0.   ],\n        [1.   , 0.   , 0.   ],\n        [1.   , 0.   , 0.   ],\n        [1.   , 0.   , 0.   ],\n        [1.   , 0.   , 0.   ],\n        [1.   , 0.   , 0.   ],\n        [0.   , 1.   , 0.   ],\n        [0.   , 1.   , 0.   ],\n        [0.   , 1.   , 0.   ],\n        [0.   , 1.   , 0.   ],\n        [0.   , 1.   , 0.   ],\n        [0.   , 1.   , 0.   ],\n        [0.   , 0.75 , 0.25 ],\n        [0.   , 1.   , 0.   ],\n        [0.   , 1.   , 0.   ],\n        [0.   , 1.   , 0.   ],\n        [0.   , 1.   , 0.   ],\n        [0.   , 1.   , 0.   ],\n        [0.   , 1.   , 0.   ],\n        [0.   , 0.75 , 0.25 ],\n        [0.   , 1.   , 0.   ],\n        [0.   , 1.   , 0.   ],\n        [0.   , 1.   , 0.   ],\n        [0.   , 1.   , 0.   ],\n        [0.   , 0.625, 0.375],\n        [0.   , 1.   , 0.   ],\n        [0.   , 0.5  , 0.5  ],\n        [0.   , 1.   , 0.   ],\n        [0.   , 0.375, 0.625],\n        [0.   , 1.   , 0.   ],\n        [0.   , 1.   , 0.   ],\n        [0.   , 1.   , 0.   ],\n        [0.   , 1.   , 0.   ],\n        [0.   , 0.5  , 0.5  ],\n        [0.   , 1.   , 0.   ],\n        [0.   , 1.   , 0.   ],\n        [0.   , 1.   , 0.   ],\n        [0.   , 1.   , 0.   ],\n        [0.   , 1.   , 0.   ],\n        [0.   , 0.25 , 0.75 ],\n        [0.   , 1.   , 0.   ],\n        [0.   , 0.875, 0.125],\n        [0.   , 1.   , 0.   ],\n        [0.   , 1.   , 0.   ],\n        [0.   , 1.   , 0.   ],\n        [0.   , 1.   , 0.   ],\n        [0.   , 1.   , 0.   ],\n        [0.   , 1.   , 0.   ],\n        [0.   , 1.   , 0.   ],\n        [0.   , 1.   , 0.   ],\n        [0.   , 1.   , 0.   ],\n        [0.   , 1.   , 0.   ],\n        [0.   , 1.   , 0.   ],\n        [0.   , 1.   , 0.   ],\n        [0.   , 1.   , 0.   ],\n        [0.   , 1.   , 0.   ],\n        [0.   , 0.   , 1.   ],\n        [0.   , 0.125, 0.875],\n        [0.   , 0.   , 1.   ],\n        [0.   , 0.   , 1.   ],\n        [0.   , 0.   , 1.   ],\n        [0.   , 0.   , 1.   ],\n        [0.   , 0.875, 0.125],\n        [0.   , 0.   , 1.   ],\n        [0.   , 0.   , 1.   ],\n        [0.   , 0.   , 1.   ],\n        [0.   , 0.125, 0.875],\n        [0.   , 0.   , 1.   ],\n        [0.   , 0.   , 1.   ],\n        [0.   , 0.125, 0.875],\n        [0.   , 0.   , 1.   ],\n        [0.   , 0.   , 1.   ],\n        [0.   , 0.   , 1.   ],\n        [0.   , 0.   , 1.   ],\n        [0.   , 0.   , 1.   ],\n        [0.   , 0.375, 0.625],\n        [0.   , 0.   , 1.   ],\n        [0.   , 0.125, 0.875],\n        [0.   , 0.   , 1.   ],\n        [0.   , 0.25 , 0.75 ],\n        [0.   , 0.   , 1.   ],\n        [0.   , 0.   , 1.   ],\n        [0.   , 0.25 , 0.75 ],\n        [0.   , 0.25 , 0.75 ],\n        [0.   , 0.   , 1.   ],\n        [0.   , 0.   , 1.   ],\n        [0.   , 0.   , 1.   ],\n        [0.   , 0.   , 1.   ],\n        [0.   , 0.   , 1.   ],\n        [0.   , 0.375, 0.625],\n        [0.   , 0.125, 0.875],\n        [0.   , 0.   , 1.   ],\n        [0.   , 0.   , 1.   ],\n        [0.   , 0.   , 1.   ],\n        [0.   , 0.375, 0.625],\n        [0.   , 0.   , 1.   ],\n        [0.   , 0.   , 1.   ],\n        [0.   , 0.   , 1.   ],\n        [0.   , 0.125, 0.875],\n        [0.   , 0.   , 1.   ],\n        [0.   , 0.   , 1.   ],\n        [0.   , 0.   , 1.   ],\n        [0.   , 0.25 , 0.75 ],\n        [0.   , 0.125, 0.875],\n        [0.   , 0.   , 1.   ],\n        [0.   , 0.25 , 0.75 ]]))"
     },
     "execution_count": 9,
     "metadata": {},
     "output_type": "execute_result"
    }
   ],
   "source": [
    "pred = knn.predict(iris.data)\n",
    "pred"
   ]
  },
  {
   "cell_type": "markdown",
   "source": [
    "And check the accuracy (over many of the samples used to train the model! So, this is not a good measure of the accuracy of the model)"
   ],
   "metadata": {
    "collapsed": false
   }
  },
  {
   "cell_type": "code",
   "execution_count": 10,
   "metadata": {
    "ExecuteTime": {
     "end_time": "2023-09-16T13:57:04.105561Z",
     "start_time": "2023-09-16T13:57:04.102763Z"
    }
   },
   "outputs": [
    {
     "data": {
      "text/plain": "array([ True,  True,  True,  True,  True,  True,  True,  True,  True,\n        True,  True,  True,  True,  True,  True,  True,  True,  True,\n        True,  True,  True,  True,  True,  True,  True,  True,  True,\n        True,  True,  True,  True,  True,  True,  True,  True,  True,\n        True,  True,  True,  True,  True,  True,  True,  True,  True,\n        True,  True,  True,  True,  True,  True,  True,  True,  True,\n        True,  True,  True,  True,  True,  True,  True,  True,  True,\n        True,  True,  True,  True,  True,  True,  True,  True,  True,\n       False,  True,  True,  True,  True,  True,  True,  True,  True,\n        True,  True, False,  True,  True,  True,  True,  True,  True,\n        True,  True,  True,  True,  True,  True,  True,  True,  True,\n        True,  True,  True,  True,  True,  True,  True, False,  True,\n        True,  True,  True,  True,  True,  True,  True,  True,  True,\n        True,  True,  True,  True,  True,  True,  True,  True,  True,\n        True,  True,  True,  True,  True,  True,  True,  True,  True,\n        True,  True,  True,  True,  True,  True,  True,  True,  True,\n        True,  True,  True,  True,  True,  True])"
     },
     "execution_count": 10,
     "metadata": {},
     "output_type": "execute_result"
    }
   ],
   "source": [
    "iris.target == pred[0]"
   ]
  }
 ],
 "metadata": {
  "finalized": {
   "timestamp": 1652118351651,
   "trusted": false
  },
  "kernelspec": {
   "display_name": "Python 3 (ipykernel)",
   "language": "python",
   "name": "python3"
  },
  "language_info": {
   "codemirror_mode": {
    "name": "ipython",
    "version": 3
   },
   "file_extension": ".py",
   "mimetype": "text/x-python",
   "name": "python",
   "nbconvert_exporter": "python",
   "pygments_lexer": "ipython3",
   "version": "3.10.6"
  },
  "latex_envs": {
   "LaTeX_envs_menu_present": true,
   "autoclose": true,
   "autocomplete": true,
   "bibliofile": "references.bib",
   "cite_by": "apalike",
   "current_citInitial": 1,
   "eqLabelWithNumbers": false,
   "eqNumInitial": 1,
   "hotkeys": {
    "equation": "Ctrl-E",
    "itemize": "Ctrl-I"
   },
   "labels_anchors": false,
   "latex_user_defs": false,
   "report_style_numbering": true,
   "user_envs_cfg": false
  },
  "nbTranslate": {
   "displayLangs": [
    "*"
   ],
   "hotkey": "alt-t",
   "langInMainMenu": true,
   "sourceLang": "en",
   "targetLang": "fr",
   "useGoogleTranslate": true
  },
  "toc": {
   "base_numbering": 1,
   "nav_menu": {},
   "number_sections": true,
   "sideBar": true,
   "skip_h1_title": false,
   "title_cell": "Table of Contents",
   "title_sidebar": "Contents",
   "toc_cell": false,
   "toc_position": {},
   "toc_section_display": "block",
   "toc_window_display": false
  },
  "varInspector": {
   "cols": {
    "lenName": 16,
    "lenType": 16,
    "lenVar": 40
   },
   "kernels_config": {
    "python": {
     "delete_cmd_postfix": "",
     "delete_cmd_prefix": "del ",
     "library": "var_list.py",
     "varRefreshCmd": "print(var_dic_list())"
    },
    "r": {
     "delete_cmd_postfix": ") ",
     "delete_cmd_prefix": "rm(",
     "library": "var_list.r",
     "varRefreshCmd": "cat(var_dic_list()) "
    }
   },
   "types_to_exclude": [
    "module",
    "function",
    "builtin_function_or_method",
    "instance",
    "_Feature"
   ],
   "window_display": false
  }
 },
 "nbformat": 4,
 "nbformat_minor": 2
}
