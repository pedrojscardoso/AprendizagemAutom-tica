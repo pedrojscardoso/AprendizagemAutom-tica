{
 "cells": [
  {
   "cell_type": "markdown",
   "source": [
    "___\n",
    "<h1> Machine Learning </h1>\n",
    "<h2> M. Sc. in Electrical and Computer Engineering </h2>\n",
    "<h3> Instituto Superior de Engenharia / Universidade do Algarve </h3>\n",
    "\n",
    "[MEEC](https://ise.ualg.pt/en/curso/1477) / [ISE](https://ise.ualg.pt) / [UAlg](https://www.ualg.pt)\n",
    "\n",
    "Pedro J. S. Cardoso (pcardoso@ualg.pt)\n",
    "___"
   ],
   "metadata": {
    "collapsed": false
   }
  },
  {
   "cell_type": "markdown",
   "source": [
    "Considere o wine quality dataset ([https://archive.ics.uci.edu/dataset/186/wine+quality](https://archive.ics.uci.edu/dataset/186/wine+quality)), que contém 11 variáveis de entrada (atributos/features) e uma variável de saída (target). O dataset pode ser carregado com o código seguinte:"
   ],
   "metadata": {
    "collapsed": false
   }
  },
  {
   "cell_type": "code",
   "execution_count": null,
   "outputs": [],
   "source": [
    "# se necessário instalar o pacote ucimlrepo descomentar a linha seguinte\n",
    "#!pip install ucimlrepo\n",
    "\n",
    "from pprint import pprint\n",
    "from ucimlrepo import fetch_ucirepo\n",
    "\n",
    "# fetch dataset\n",
    "wine_quality = fetch_ucirepo(id=186)\n",
    "\n",
    "# dados (como pandas dataframes)\n",
    "X = wine_quality.data.features\n",
    "y = wine_quality.data.targets\n",
    "\n",
    "# metadata\n",
    "pprint(wine_quality.metadata)"
   ],
   "metadata": {
    "collapsed": false
   }
  },
  {
   "cell_type": "markdown",
   "source": [
    "__Curiosidade__: Usando o Pandas também poderia, de forma muito simples, carregar os dados com o código seguinte. Note que o código seguinte carrega os dados diretamente do repositório da UCI, pelo que não é necessário instalar o pacote ucimlrepo. Além disso, o target é uma das colunas dos dados carregados (faça _scroll_ até à última coluna)."
   ],
   "metadata": {
    "collapsed": false
   }
  },
  {
   "cell_type": "code",
   "execution_count": null,
   "outputs": [],
   "source": [
    "import pandas as pd\n",
    "\n",
    "df = pd.read_csv('https://archive.ics.uci.edu/ml/machine-learning-databases/wine-quality/winequality-red.csv', sep=';')\n",
    "df.head()"
   ],
   "metadata": {
    "collapsed": false
   }
  },
  {
   "cell_type": "markdown",
   "source": [
    "Voltado aos dados de entrada carregados, temos:"
   ],
   "metadata": {
    "collapsed": false
   }
  },
  {
   "cell_type": "code",
   "execution_count": null,
   "outputs": [],
   "source": [
    "X"
   ],
   "metadata": {
    "collapsed": false
   }
  },
  {
   "cell_type": "markdown",
   "source": [
    "A variável de saída é:"
   ],
   "metadata": {
    "collapsed": false
   }
  },
  {
   "cell_type": "code",
   "execution_count": null,
   "outputs": [],
   "source": [
    "y"
   ],
   "metadata": {
    "collapsed": false
   }
  },
  {
   "cell_type": "markdown",
   "source": [
    "Vejamo como estão distribuídas as classes em função de cada atributo:"
   ],
   "metadata": {
    "collapsed": false
   }
  },
  {
   "cell_type": "code",
   "execution_count": null,
   "outputs": [],
   "source": [
    "# Plot dos dados:\n",
    "import matplotlib.pyplot as plt\n",
    "\n",
    "# plot dos dados originais (sem escalar), com uma cor para cada classe\n",
    "for c in X.columns:\n",
    "    plt.scatter(X.loc[:, c], y,\n",
    "                alpha = 0.5,\n",
    "                c = [plt.cm.tab10.colors[int(i)] for i in y.values],\n",
    "                label = 'original')\n",
    "    plt.title(c)\n",
    "    plt.show()\n"
   ],
   "metadata": {
    "collapsed": false
   }
  },
  {
   "cell_type": "markdown",
   "source": [
    "# Problema de classificação\n",
    "\n",
    "## Dados originais\n",
    "\n",
    "Treine um classificador kNN com os dados de treino e calcule a acurácia do classificador com os dados de teste.\n",
    "\n",
    "Para tal comece por utilizar a função `train_test_split` do scikit-learn para dividir os dados em treino e teste. Por exemplo, para dividir os dados em 70% para treino e 30% para teste. Além disso, deve aplicar estratificação para garantir que a divisão é feita de forma a manter a proporção de cada classe nos dados de treino e teste."
   ],
   "metadata": {
    "collapsed": false
   }
  },
  {
   "cell_type": "code",
   "execution_count": null,
   "outputs": [],
   "source": [
    "# TODO: importar train_test_split\n",
    "\n",
    "# TODO: dividir os dados em treino e teste\n"
   ],
   "metadata": {
    "collapsed": false
   }
  },
  {
   "cell_type": "markdown",
   "source": [
    "Agora, descubra qual o melhor valor de $k$ (considere $k \\in \\{1, 3, 5, 7, 9, 11, 13, 15, 17, 19\\}$) para o classificador kNN. Para tal, treine o classificador kNN com os dados de treino e calcule a acurácia, recall, precisão e F1-score do classificador com os dados de teste."
   ],
   "metadata": {
    "collapsed": false
   }
  },
  {
   "cell_type": "code",
   "execution_count": null,
   "outputs": [],
   "source": [
    "# TODO: importar KNeighborsClassifier\n",
    "\n",
    "for k in [1, 3, 5, 7, 9, 11, 13, 15, 17, 19]:\n",
    "\n",
    "    # TODO: treinar o classificador kNN com os dados de treino\n",
    "\n",
    "    # TODO: calcular a acurácia do classificador com os dados de teste"
   ],
   "metadata": {
    "collapsed": false
   }
  },
  {
   "cell_type": "markdown",
   "source": [
    "## Dados normalizados\n",
    "Normalizar os dados pode melhorar o desempenho do classificador kNN. Para tal, utilize a função `MinMaxScaler` do scikit-learn para normalizar os dados.\n",
    " Ver [MinMaxScaler](https://scikit-learn.org/stable/modules/generated/sklearn.preprocessing.MinMaxScaler.html#sklearn.preprocessing.MinMaxScaler)"
   ],
   "metadata": {
    "collapsed": false
   }
  },
  {
   "cell_type": "code",
   "execution_count": null,
   "outputs": [],
   "source": [
    "# TODO: importar sklearn.preprocessing.MinMaxScaler\n",
    "\n",
    "# TODO: Escalar os dados\n",
    "X_scaled = None\n",
    "y_scaled = None\n"
   ],
   "metadata": {
    "collapsed": false
   }
  },
  {
   "cell_type": "markdown",
   "source": [
    "De seguida repita o procedimento anterior para descobrir qual o melhor valor de $k$ (para $k \\in \\{1, 3, 5, 7, 9, 11, 13, 15, 17, 19\\}$) para o classificador kNN. Para tal, treine o classificador kNN com os dados de treino e calcule a acurácia, recall, precisão e F1-score do classificador com os dados de teste."
   ],
   "metadata": {
    "collapsed": false
   }
  },
  {
   "cell_type": "code",
   "execution_count": null,
   "outputs": [],
   "source": [
    "# TODO: importar KNeighborsClassifier\n",
    "\n",
    "for k in [1, 3, 5, 7, 9, 11, 13, 15, 17, 19]:\n",
    "\n",
    "    # TODO: treinar o classificador kNN com os dados de treino\n",
    "\n",
    "    # TODO: calcular a acurácia do classificador com os dados de teste"
   ],
   "metadata": {
    "collapsed": false
   }
  },
  {
   "cell_type": "markdown",
   "source": [
    "## Que conclusões pode tirar?\n",
    "\n",
    "Tire conclusões sobre o desempenho do classificador kNN com e sem escalamento dos dados. Qual o melhor valor de $k$? Porquê?"
   ],
   "metadata": {
    "collapsed": false
   }
  },
  {
   "cell_type": "markdown",
   "source": [
    "# Regressão\n",
    "\n",
    "Como já foi referido, o dataset wine quality pode ser utilizado para resolver um problema de classificação ou um problema de regressão. Repita o procedimento anterior para resolver um problema de regressão. Para tal, treine um regressor kNN com os dados de treino e calcule o erro quadrático médio (MSE) e o coeficiente de determinação ($R^2$) do regressor com os dados de teste. Teste novamente com e sem escalar os dados."
   ],
   "metadata": {
    "collapsed": false
   }
  },
  {
   "cell_type": "code",
   "execution_count": null,
   "outputs": [],
   "source": [],
   "metadata": {
    "collapsed": false
   }
  },
  {
   "cell_type": "markdown",
   "source": [
    "# Outros classificadores / regressores\n",
    "\n",
    "Use outros classificadores / regressores para resolver o problema de classificação / regressão."
   ],
   "metadata": {
    "collapsed": false
   }
  }
 ],
 "metadata": {
  "kernelspec": {
   "display_name": "Python 3",
   "language": "python",
   "name": "python3"
  },
  "language_info": {
   "codemirror_mode": {
    "name": "ipython",
    "version": 2
   },
   "file_extension": ".py",
   "mimetype": "text/x-python",
   "name": "python",
   "nbconvert_exporter": "python",
   "pygments_lexer": "ipython2",
   "version": "2.7.6"
  }
 },
 "nbformat": 4,
 "nbformat_minor": 0
}
