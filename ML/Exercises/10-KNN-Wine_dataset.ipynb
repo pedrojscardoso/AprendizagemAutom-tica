{
 "cells": [
  {
   "cell_type": "markdown",
   "source": [
    "___\n",
    "<h1> Machine Learning </h1>\n",
    "<h2> M. Sc. in Electrical and Computer Engineering </h2>\n",
    "<h3> Instituto Superior de Engenharia / Universidade do Algarve </h3>\n",
    "\n",
    "[MEEC](https://ise.ualg.pt/en/curso/1477) / [ISE](https://ise.ualg.pt) / [UAlg](https://www.ualg.pt)\n",
    "\n",
    "Pedro J. S. Cardoso (pcardoso@ualg.pt)\n",
    "___"
   ],
   "metadata": {
    "collapsed": false
   }
  },
  {
   "cell_type": "markdown",
   "source": [
    "Considere o wine quality dataset (https://archive.ics.uci.edu/dataset/186/wine+quality), que contém 11 variáveis de entrada (atributos/faetures) e uma variável de saída (target). O dataset pode ser carregado com o código seguinte:"
   ],
   "metadata": {
    "collapsed": false
   }
  },
  {
   "cell_type": "code",
   "execution_count": 18,
   "outputs": [
    {
     "name": "stdout",
     "output_type": "stream",
     "text": [
      "{'abstract': 'Two datasets are included, related to red and white vinho verde '\n",
      "             'wine samples, from the north of Portugal. The goal is to model '\n",
      "             'wine quality based on physicochemical tests (see [Cortez et al., '\n",
      "             '2009], http://www3.dsi.uminho.pt/pcortez/wine/).',\n",
      " 'additional_info': {'citation': None,\n",
      "                     'funded_by': None,\n",
      "                     'instances_represent': None,\n",
      "                     'preprocessing_description': None,\n",
      "                     'purpose': None,\n",
      "                     'recommended_data_splits': None,\n",
      "                     'sensitive_data': None,\n",
      "                     'summary': 'The two datasets are related to red and white '\n",
      "                                'variants of the Portuguese \"Vinho Verde\" '\n",
      "                                'wine. For more details, consult: '\n",
      "                                'http://www.vinhoverde.pt/en/ or the reference '\n",
      "                                '[Cortez et al., 2009].  Due to privacy and '\n",
      "                                'logistic issues, only physicochemical '\n",
      "                                '(inputs) and sensory (the output) variables '\n",
      "                                'are available (e.g. there is no data about '\n",
      "                                'grape types, wine brand, wine selling price, '\n",
      "                                'etc.).\\n'\n",
      "                                '\\n'\n",
      "                                'These datasets can be viewed as '\n",
      "                                'classification or regression tasks.  The '\n",
      "                                'classes are ordered and not balanced (e.g. '\n",
      "                                'there are many more normal wines than '\n",
      "                                'excellent or poor ones). Outlier detection '\n",
      "                                'algorithms could be used to detect the few '\n",
      "                                'excellent or poor wines. Also, we are not '\n",
      "                                'sure if all input variables are relevant. So '\n",
      "                                'it could be interesting to test feature '\n",
      "                                'selection methods.\\n',\n",
      "                     'variable_info': 'For more information, read [Cortez et '\n",
      "                                      'al., 2009].\\r\\n'\n",
      "                                      'Input variables (based on '\n",
      "                                      'physicochemical tests):\\r\\n'\n",
      "                                      '   1 - fixed acidity\\r\\n'\n",
      "                                      '   2 - volatile acidity\\r\\n'\n",
      "                                      '   3 - citric acid\\r\\n'\n",
      "                                      '   4 - residual sugar\\r\\n'\n",
      "                                      '   5 - chlorides\\r\\n'\n",
      "                                      '   6 - free sulfur dioxide\\r\\n'\n",
      "                                      '   7 - total sulfur dioxide\\r\\n'\n",
      "                                      '   8 - density\\r\\n'\n",
      "                                      '   9 - pH\\r\\n'\n",
      "                                      '   10 - sulphates\\r\\n'\n",
      "                                      '   11 - alcohol\\r\\n'\n",
      "                                      'Output variable (based on sensory '\n",
      "                                      'data): \\r\\n'\n",
      "                                      '   12 - quality (score between 0 and '\n",
      "                                      '10)'},\n",
      " 'area': 'Business',\n",
      " 'characteristics': ['Multivariate'],\n",
      " 'creators': ['Paulo Cortez',\n",
      "              'A. Cerdeira',\n",
      "              'F. Almeida',\n",
      "              'T. Matos',\n",
      "              'J. Reis'],\n",
      " 'data_url': 'https://archive.ics.uci.edu/static/public/186/data.csv',\n",
      " 'dataset_doi': '10.24432/C56S3T',\n",
      " 'demographics': [],\n",
      " 'feature_types': ['Real'],\n",
      " 'has_missing_values': 'no',\n",
      " 'index_col': None,\n",
      " 'intro_paper': {'authors': 'P. Cortez, A. Cerdeira, Fernando Almeida, Telmo '\n",
      "                            'Matos, J. Reis',\n",
      "                 'doi': None,\n",
      "                 'published_in': 'Decision Support Systems',\n",
      "                 'title': 'Modeling wine preferences by data mining from '\n",
      "                          'physicochemical properties',\n",
      "                 'url': 'https://www.semanticscholar.org/paper/Modeling-wine-preferences-by-data-mining-from-Cortez-Cerdeira/bf15a0ccc14ac1deb5cea570c870389c16be019c',\n",
      "                 'year': 2009},\n",
      " 'last_updated': 'Thu Aug 10 2023',\n",
      " 'missing_values_symbol': None,\n",
      " 'name': 'Wine Quality',\n",
      " 'num_features': 11,\n",
      " 'num_instances': 4898,\n",
      " 'repository_url': 'https://archive.ics.uci.edu/dataset/186/wine+quality',\n",
      " 'target_col': ['quality'],\n",
      " 'tasks': ['Classification', 'Regression'],\n",
      " 'uci_id': 186,\n",
      " 'year_of_dataset_creation': 2009}\n"
     ]
    }
   ],
   "source": [
    "#!pip install ucimlrepo\n",
    "from pprint import pprint\n",
    "\n",
    "from ucimlrepo import fetch_ucirepo\n",
    "\n",
    "# fetch dataset\n",
    "wine_quality = fetch_ucirepo(id=186)\n",
    "\n",
    "# data (as pandas dataframes)\n",
    "X = wine_quality.data.features\n",
    "y = wine_quality.data.targets\n",
    "\n",
    "# metadata\n",
    "pprint(wine_quality.metadata)"
   ],
   "metadata": {
    "collapsed": false,
    "ExecuteTime": {
     "end_time": "2023-10-22T22:32:09.117384Z",
     "start_time": "2023-10-22T22:32:07.040666Z"
    }
   }
  },
  {
   "cell_type": "markdown",
   "source": [
    "Os dados de entrada são:"
   ],
   "metadata": {
    "collapsed": false
   }
  },
  {
   "cell_type": "code",
   "execution_count": 19,
   "outputs": [
    {
     "data": {
      "text/plain": "      fixed_acidity  volatile_acidity  citric_acid  residual_sugar  chlorides  \\\n0               7.0              0.27         0.36            20.7      0.045   \n1               6.3              0.30         0.34             1.6      0.049   \n2               8.1              0.28         0.40             6.9      0.050   \n3               7.2              0.23         0.32             8.5      0.058   \n4               7.2              0.23         0.32             8.5      0.058   \n...             ...               ...          ...             ...        ...   \n4893            6.2              0.21         0.29             1.6      0.039   \n4894            6.6              0.32         0.36             8.0      0.047   \n4895            6.5              0.24         0.19             1.2      0.041   \n4896            5.5              0.29         0.30             1.1      0.022   \n4897            6.0              0.21         0.38             0.8      0.020   \n\n      free_sulfur_dioxide  total_sulfur_dioxide  density    pH  sulphates  \\\n0                    45.0                 170.0  1.00100  3.00       0.45   \n1                    14.0                 132.0  0.99400  3.30       0.49   \n2                    30.0                  97.0  0.99510  3.26       0.44   \n3                    47.0                 186.0  0.99560  3.19       0.40   \n4                    47.0                 186.0  0.99560  3.19       0.40   \n...                   ...                   ...      ...   ...        ...   \n4893                 24.0                  92.0  0.99114  3.27       0.50   \n4894                 57.0                 168.0  0.99490  3.15       0.46   \n4895                 30.0                 111.0  0.99254  2.99       0.46   \n4896                 20.0                 110.0  0.98869  3.34       0.38   \n4897                 22.0                  98.0  0.98941  3.26       0.32   \n\n      alcohol  \n0         8.8  \n1         9.5  \n2        10.1  \n3         9.9  \n4         9.9  \n...       ...  \n4893     11.2  \n4894      9.6  \n4895      9.4  \n4896     12.8  \n4897     11.8  \n\n[4898 rows x 11 columns]",
      "text/html": "<div>\n<style scoped>\n    .dataframe tbody tr th:only-of-type {\n        vertical-align: middle;\n    }\n\n    .dataframe tbody tr th {\n        vertical-align: top;\n    }\n\n    .dataframe thead th {\n        text-align: right;\n    }\n</style>\n<table border=\"1\" class=\"dataframe\">\n  <thead>\n    <tr style=\"text-align: right;\">\n      <th></th>\n      <th>fixed_acidity</th>\n      <th>volatile_acidity</th>\n      <th>citric_acid</th>\n      <th>residual_sugar</th>\n      <th>chlorides</th>\n      <th>free_sulfur_dioxide</th>\n      <th>total_sulfur_dioxide</th>\n      <th>density</th>\n      <th>pH</th>\n      <th>sulphates</th>\n      <th>alcohol</th>\n    </tr>\n  </thead>\n  <tbody>\n    <tr>\n      <th>0</th>\n      <td>7.0</td>\n      <td>0.27</td>\n      <td>0.36</td>\n      <td>20.7</td>\n      <td>0.045</td>\n      <td>45.0</td>\n      <td>170.0</td>\n      <td>1.00100</td>\n      <td>3.00</td>\n      <td>0.45</td>\n      <td>8.8</td>\n    </tr>\n    <tr>\n      <th>1</th>\n      <td>6.3</td>\n      <td>0.30</td>\n      <td>0.34</td>\n      <td>1.6</td>\n      <td>0.049</td>\n      <td>14.0</td>\n      <td>132.0</td>\n      <td>0.99400</td>\n      <td>3.30</td>\n      <td>0.49</td>\n      <td>9.5</td>\n    </tr>\n    <tr>\n      <th>2</th>\n      <td>8.1</td>\n      <td>0.28</td>\n      <td>0.40</td>\n      <td>6.9</td>\n      <td>0.050</td>\n      <td>30.0</td>\n      <td>97.0</td>\n      <td>0.99510</td>\n      <td>3.26</td>\n      <td>0.44</td>\n      <td>10.1</td>\n    </tr>\n    <tr>\n      <th>3</th>\n      <td>7.2</td>\n      <td>0.23</td>\n      <td>0.32</td>\n      <td>8.5</td>\n      <td>0.058</td>\n      <td>47.0</td>\n      <td>186.0</td>\n      <td>0.99560</td>\n      <td>3.19</td>\n      <td>0.40</td>\n      <td>9.9</td>\n    </tr>\n    <tr>\n      <th>4</th>\n      <td>7.2</td>\n      <td>0.23</td>\n      <td>0.32</td>\n      <td>8.5</td>\n      <td>0.058</td>\n      <td>47.0</td>\n      <td>186.0</td>\n      <td>0.99560</td>\n      <td>3.19</td>\n      <td>0.40</td>\n      <td>9.9</td>\n    </tr>\n    <tr>\n      <th>...</th>\n      <td>...</td>\n      <td>...</td>\n      <td>...</td>\n      <td>...</td>\n      <td>...</td>\n      <td>...</td>\n      <td>...</td>\n      <td>...</td>\n      <td>...</td>\n      <td>...</td>\n      <td>...</td>\n    </tr>\n    <tr>\n      <th>4893</th>\n      <td>6.2</td>\n      <td>0.21</td>\n      <td>0.29</td>\n      <td>1.6</td>\n      <td>0.039</td>\n      <td>24.0</td>\n      <td>92.0</td>\n      <td>0.99114</td>\n      <td>3.27</td>\n      <td>0.50</td>\n      <td>11.2</td>\n    </tr>\n    <tr>\n      <th>4894</th>\n      <td>6.6</td>\n      <td>0.32</td>\n      <td>0.36</td>\n      <td>8.0</td>\n      <td>0.047</td>\n      <td>57.0</td>\n      <td>168.0</td>\n      <td>0.99490</td>\n      <td>3.15</td>\n      <td>0.46</td>\n      <td>9.6</td>\n    </tr>\n    <tr>\n      <th>4895</th>\n      <td>6.5</td>\n      <td>0.24</td>\n      <td>0.19</td>\n      <td>1.2</td>\n      <td>0.041</td>\n      <td>30.0</td>\n      <td>111.0</td>\n      <td>0.99254</td>\n      <td>2.99</td>\n      <td>0.46</td>\n      <td>9.4</td>\n    </tr>\n    <tr>\n      <th>4896</th>\n      <td>5.5</td>\n      <td>0.29</td>\n      <td>0.30</td>\n      <td>1.1</td>\n      <td>0.022</td>\n      <td>20.0</td>\n      <td>110.0</td>\n      <td>0.98869</td>\n      <td>3.34</td>\n      <td>0.38</td>\n      <td>12.8</td>\n    </tr>\n    <tr>\n      <th>4897</th>\n      <td>6.0</td>\n      <td>0.21</td>\n      <td>0.38</td>\n      <td>0.8</td>\n      <td>0.020</td>\n      <td>22.0</td>\n      <td>98.0</td>\n      <td>0.98941</td>\n      <td>3.26</td>\n      <td>0.32</td>\n      <td>11.8</td>\n    </tr>\n  </tbody>\n</table>\n<p>4898 rows × 11 columns</p>\n</div>"
     },
     "execution_count": 19,
     "metadata": {},
     "output_type": "execute_result"
    }
   ],
   "source": [
    "X"
   ],
   "metadata": {
    "collapsed": false,
    "ExecuteTime": {
     "end_time": "2023-10-22T22:32:20.582598Z",
     "start_time": "2023-10-22T22:32:20.570066Z"
    }
   }
  },
  {
   "cell_type": "markdown",
   "source": [
    "A variável de saída é:"
   ],
   "metadata": {
    "collapsed": false
   }
  },
  {
   "cell_type": "code",
   "execution_count": 21,
   "outputs": [
    {
     "data": {
      "text/plain": "      quality\n0           6\n1           6\n2           6\n3           6\n4           6\n...       ...\n4893        6\n4894        5\n4895        6\n4896        7\n4897        6\n\n[4898 rows x 1 columns]",
      "text/html": "<div>\n<style scoped>\n    .dataframe tbody tr th:only-of-type {\n        vertical-align: middle;\n    }\n\n    .dataframe tbody tr th {\n        vertical-align: top;\n    }\n\n    .dataframe thead th {\n        text-align: right;\n    }\n</style>\n<table border=\"1\" class=\"dataframe\">\n  <thead>\n    <tr style=\"text-align: right;\">\n      <th></th>\n      <th>quality</th>\n    </tr>\n  </thead>\n  <tbody>\n    <tr>\n      <th>0</th>\n      <td>6</td>\n    </tr>\n    <tr>\n      <th>1</th>\n      <td>6</td>\n    </tr>\n    <tr>\n      <th>2</th>\n      <td>6</td>\n    </tr>\n    <tr>\n      <th>3</th>\n      <td>6</td>\n    </tr>\n    <tr>\n      <th>4</th>\n      <td>6</td>\n    </tr>\n    <tr>\n      <th>...</th>\n      <td>...</td>\n    </tr>\n    <tr>\n      <th>4893</th>\n      <td>6</td>\n    </tr>\n    <tr>\n      <th>4894</th>\n      <td>5</td>\n    </tr>\n    <tr>\n      <th>4895</th>\n      <td>6</td>\n    </tr>\n    <tr>\n      <th>4896</th>\n      <td>7</td>\n    </tr>\n    <tr>\n      <th>4897</th>\n      <td>6</td>\n    </tr>\n  </tbody>\n</table>\n<p>4898 rows × 1 columns</p>\n</div>"
     },
     "execution_count": 21,
     "metadata": {},
     "output_type": "execute_result"
    }
   ],
   "source": [
    "y"
   ],
   "metadata": {
    "collapsed": false,
    "ExecuteTime": {
     "end_time": "2023-10-22T22:32:42.480762Z",
     "start_time": "2023-10-22T22:32:42.454005Z"
    }
   }
  },
  {
   "cell_type": "markdown",
   "source": [
    "# Problema de classificação\n",
    "\n",
    "## Dados originais\n",
    "\n",
    "Treine um classificador kNN com os dados de treino e calcule a acurácia do classificador com os dados de teste.\n",
    "\n",
    "Para tal comece por utilizar a função `train_test_split` do scikit-learn para dividir os dados em treino e teste. Por exemplo, para dividir os dados em 70% para treino e 30% para teste."
   ],
   "metadata": {
    "collapsed": false
   }
  },
  {
   "cell_type": "code",
   "execution_count": null,
   "outputs": [],
   "source": [
    "# TODO: importar train_test_split\n",
    "\n",
    "# TODO: dividir os dados em treino e teste\n"
   ],
   "metadata": {
    "collapsed": false
   }
  },
  {
   "cell_type": "markdown",
   "source": [
    "Agora, descubra qual o melhor valor de k (para k $\\in$ {1, 3, 5, 7, 9, 11, 13, 15, 17, 19}) para o classificador kNN. Para tal, treine o classificador kNN com os dados de treino e calcule a acurácia do classificador com os dados de teste."
   ],
   "metadata": {
    "collapsed": false
   }
  },
  {
   "cell_type": "code",
   "execution_count": null,
   "outputs": [],
   "source": [
    "# TODO: importar KNeighborsClassifier\n",
    "\n",
    "for k in [1, 3, 5, 7, 9, 11, 13, 15, 17, 19]:\n",
    "\n",
    "    # TODO: treinar o classificador kNN com os dados de treino\n",
    "\n",
    "    # TODO: calcular a acurácia do classificador com os dados de teste"
   ],
   "metadata": {
    "collapsed": false
   }
  },
  {
   "cell_type": "markdown",
   "source": [
    "## Dados normalizados\n",
    "Normalizar os dados pode melhorar o desempenho do classificador kNN. Para tal, utilize a função `StandardScaler` do scikit-learn para normalizar os dados."
   ],
   "metadata": {
    "collapsed": false
   }
  },
  {
   "cell_type": "code",
   "execution_count": 22,
   "outputs": [],
   "source": [
    "# TODO: importar StandardScaler\n",
    "\n",
    "# TODO: normalizar os dados\n",
    "\n"
   ],
   "metadata": {
    "collapsed": false,
    "ExecuteTime": {
     "end_time": "2023-10-22T22:34:14.877763Z",
     "start_time": "2023-10-22T22:34:14.867096Z"
    }
   }
  },
  {
   "cell_type": "markdown",
   "source": [
    "De seguida repita o procedimento anterior para descobrir qual o melhor valor de k (para k $\\in$ {1, 3, 5, 7, 9, 11, 13, 15, 17, 19}) para o classificador kNN. Para tal, treine o classificador kNN com os dados de treino e calcule a acurácia do classificador com os dados de teste."
   ],
   "metadata": {
    "collapsed": false
   }
  },
  {
   "cell_type": "code",
   "execution_count": null,
   "outputs": [],
   "source": [
    "# TODO: importar KNeighborsClassifier\n",
    "\n",
    "for k in [1, 3, 5, 7, 9, 11, 13, 15, 17, 19]:\n",
    "\n",
    "    # TODO: treinar o classificador kNN com os dados de treino\n",
    "\n",
    "    # TODO: calcular a acurácia do classificador com os dados de teste"
   ],
   "metadata": {
    "collapsed": false
   }
  },
  {
   "cell_type": "markdown",
   "source": [
    "## Que conclusões pode tirar?\n",
    "\n",
    "Tire conclusões sobre o desempenho do classificador kNN com e sem normalização dos dados."
   ],
   "metadata": {
    "collapsed": false
   }
  },
  {
   "cell_type": "markdown",
   "source": [
    "# Regressão\n",
    "\n",
    "Como já foi referido, o dataset wine quality pode ser utilizado para resolver um problema de classificação ou um problema de regressão. Repita o procedimento anterior para resolver um problema de regressão. Para tal, treine um regressor kNN com os dados de treino e calcule o erro quadrático médio (MSE) do regressor com os dados de teste. Teste novamente com e sem normalização dos dados."
   ],
   "metadata": {
    "collapsed": false
   }
  },
  {
   "cell_type": "code",
   "execution_count": null,
   "outputs": [],
   "source": [],
   "metadata": {
    "collapsed": false
   }
  },
  {
   "cell_type": "markdown",
   "source": [
    "# Outros classificadores / regressores\n",
    "\n",
    "Use outros classificadores / regressores para resolver o problema de classificação / regressão."
   ],
   "metadata": {
    "collapsed": false
   }
  }
 ],
 "metadata": {
  "kernelspec": {
   "display_name": "Python 3",
   "language": "python",
   "name": "python3"
  },
  "language_info": {
   "codemirror_mode": {
    "name": "ipython",
    "version": 2
   },
   "file_extension": ".py",
   "mimetype": "text/x-python",
   "name": "python",
   "nbconvert_exporter": "python",
   "pygments_lexer": "ipython2",
   "version": "2.7.6"
  }
 },
 "nbformat": 4,
 "nbformat_minor": 0
}
