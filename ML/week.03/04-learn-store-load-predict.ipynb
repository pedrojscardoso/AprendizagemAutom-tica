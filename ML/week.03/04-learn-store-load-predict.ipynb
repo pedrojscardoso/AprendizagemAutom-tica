{
 "cells": [
  {
   "cell_type": "markdown",
   "source": [
    "___\n",
    "<h1> Machine Learning </h1>\n",
    "<h2> Systems Engineering and Computer Technologies / Engenharia de Sistemas e Tecnologias Informáticas\n",
    "(LESTI)</h2>\n",
    "<h3> Instituto Superior de Engenharia / Universidade do Algarve </h3>\n",
    "\n",
    "[LESTI](https://ise.ualg.pt/curso/1941) / [ISE](https://ise.ualg.pt) / [UAlg](https://www.ualg.pt)\n",
    "\n",
    "Pedro J. S. Cardoso (pcardoso@ualg.pt)\n",
    "\n",
    "___"
   ],
   "metadata": {
    "collapsed": false
   }
  },
  {
   "cell_type": "markdown",
   "metadata": {},
   "source": [
    "# Model persistence\n",
    "\n",
    "In this section we will see how to save a model and load it for later use. This is known as model persistence.\n",
    "\n",
    "Saving a model in scikit-learn is very easy. It can be done using Python’s built-in persistence model, namely with pickle, or using joblib, an efficient implementation of the same algorithm specialized on big data, but only able to pickle to the disk and not to a string.\n",
    "\n",
    "The advantages of saving the model are the possibility to:\n",
    "- reuse the model without having to retrain (and possibly reconfigure) it.\n",
    "- share the model with others.\n",
    "- compare different models.\n",
    "- use it as part of a larger application of workflow.\n",
    "- save the model on a remote machine (with more resources) and use it later for predictions, as usually the predictions are much faster than the training.\n",
    "- use it as part of a service / web application / mobile application."
   ]
  },
  {
   "cell_type": "markdown",
   "metadata": {},
   "source": [
    "## Training of the model\n",
    "So, let start by training a model, as we did before..."
   ]
  },
  {
   "cell_type": "code",
   "execution_count": 1,
   "metadata": {
    "ExecuteTime": {
     "end_time": "2024-09-22T20:09:27.720147Z",
     "start_time": "2024-09-22T20:09:26.787907Z"
    }
   },
   "outputs": [
    {
     "data": {
      "text/plain": "SVC(C=100.0, gamma=0.001)",
      "text/html": "<style>#sk-container-id-1 {\n  /* Definition of color scheme common for light and dark mode */\n  --sklearn-color-text: black;\n  --sklearn-color-line: gray;\n  /* Definition of color scheme for unfitted estimators */\n  --sklearn-color-unfitted-level-0: #fff5e6;\n  --sklearn-color-unfitted-level-1: #f6e4d2;\n  --sklearn-color-unfitted-level-2: #ffe0b3;\n  --sklearn-color-unfitted-level-3: chocolate;\n  /* Definition of color scheme for fitted estimators */\n  --sklearn-color-fitted-level-0: #f0f8ff;\n  --sklearn-color-fitted-level-1: #d4ebff;\n  --sklearn-color-fitted-level-2: #b3dbfd;\n  --sklearn-color-fitted-level-3: cornflowerblue;\n\n  /* Specific color for light theme */\n  --sklearn-color-text-on-default-background: var(--sg-text-color, var(--theme-code-foreground, var(--jp-content-font-color1, black)));\n  --sklearn-color-background: var(--sg-background-color, var(--theme-background, var(--jp-layout-color0, white)));\n  --sklearn-color-border-box: var(--sg-text-color, var(--theme-code-foreground, var(--jp-content-font-color1, black)));\n  --sklearn-color-icon: #696969;\n\n  @media (prefers-color-scheme: dark) {\n    /* Redefinition of color scheme for dark theme */\n    --sklearn-color-text-on-default-background: var(--sg-text-color, var(--theme-code-foreground, var(--jp-content-font-color1, white)));\n    --sklearn-color-background: var(--sg-background-color, var(--theme-background, var(--jp-layout-color0, #111)));\n    --sklearn-color-border-box: var(--sg-text-color, var(--theme-code-foreground, var(--jp-content-font-color1, white)));\n    --sklearn-color-icon: #878787;\n  }\n}\n\n#sk-container-id-1 {\n  color: var(--sklearn-color-text);\n}\n\n#sk-container-id-1 pre {\n  padding: 0;\n}\n\n#sk-container-id-1 input.sk-hidden--visually {\n  border: 0;\n  clip: rect(1px 1px 1px 1px);\n  clip: rect(1px, 1px, 1px, 1px);\n  height: 1px;\n  margin: -1px;\n  overflow: hidden;\n  padding: 0;\n  position: absolute;\n  width: 1px;\n}\n\n#sk-container-id-1 div.sk-dashed-wrapped {\n  border: 1px dashed var(--sklearn-color-line);\n  margin: 0 0.4em 0.5em 0.4em;\n  box-sizing: border-box;\n  padding-bottom: 0.4em;\n  background-color: var(--sklearn-color-background);\n}\n\n#sk-container-id-1 div.sk-container {\n  /* jupyter's `normalize.less` sets `[hidden] { display: none; }`\n     but bootstrap.min.css set `[hidden] { display: none !important; }`\n     so we also need the `!important` here to be able to override the\n     default hidden behavior on the sphinx rendered scikit-learn.org.\n     See: https://github.com/scikit-learn/scikit-learn/issues/21755 */\n  display: inline-block !important;\n  position: relative;\n}\n\n#sk-container-id-1 div.sk-text-repr-fallback {\n  display: none;\n}\n\ndiv.sk-parallel-item,\ndiv.sk-serial,\ndiv.sk-item {\n  /* draw centered vertical line to link estimators */\n  background-image: linear-gradient(var(--sklearn-color-text-on-default-background), var(--sklearn-color-text-on-default-background));\n  background-size: 2px 100%;\n  background-repeat: no-repeat;\n  background-position: center center;\n}\n\n/* Parallel-specific style estimator block */\n\n#sk-container-id-1 div.sk-parallel-item::after {\n  content: \"\";\n  width: 100%;\n  border-bottom: 2px solid var(--sklearn-color-text-on-default-background);\n  flex-grow: 1;\n}\n\n#sk-container-id-1 div.sk-parallel {\n  display: flex;\n  align-items: stretch;\n  justify-content: center;\n  background-color: var(--sklearn-color-background);\n  position: relative;\n}\n\n#sk-container-id-1 div.sk-parallel-item {\n  display: flex;\n  flex-direction: column;\n}\n\n#sk-container-id-1 div.sk-parallel-item:first-child::after {\n  align-self: flex-end;\n  width: 50%;\n}\n\n#sk-container-id-1 div.sk-parallel-item:last-child::after {\n  align-self: flex-start;\n  width: 50%;\n}\n\n#sk-container-id-1 div.sk-parallel-item:only-child::after {\n  width: 0;\n}\n\n/* Serial-specific style estimator block */\n\n#sk-container-id-1 div.sk-serial {\n  display: flex;\n  flex-direction: column;\n  align-items: center;\n  background-color: var(--sklearn-color-background);\n  padding-right: 1em;\n  padding-left: 1em;\n}\n\n\n/* Toggleable style: style used for estimator/Pipeline/ColumnTransformer box that is\nclickable and can be expanded/collapsed.\n- Pipeline and ColumnTransformer use this feature and define the default style\n- Estimators will overwrite some part of the style using the `sk-estimator` class\n*/\n\n/* Pipeline and ColumnTransformer style (default) */\n\n#sk-container-id-1 div.sk-toggleable {\n  /* Default theme specific background. It is overwritten whether we have a\n  specific estimator or a Pipeline/ColumnTransformer */\n  background-color: var(--sklearn-color-background);\n}\n\n/* Toggleable label */\n#sk-container-id-1 label.sk-toggleable__label {\n  cursor: pointer;\n  display: block;\n  width: 100%;\n  margin-bottom: 0;\n  padding: 0.5em;\n  box-sizing: border-box;\n  text-align: center;\n}\n\n#sk-container-id-1 label.sk-toggleable__label-arrow:before {\n  /* Arrow on the left of the label */\n  content: \"▸\";\n  float: left;\n  margin-right: 0.25em;\n  color: var(--sklearn-color-icon);\n}\n\n#sk-container-id-1 label.sk-toggleable__label-arrow:hover:before {\n  color: var(--sklearn-color-text);\n}\n\n/* Toggleable content - dropdown */\n\n#sk-container-id-1 div.sk-toggleable__content {\n  max-height: 0;\n  max-width: 0;\n  overflow: hidden;\n  text-align: left;\n  /* unfitted */\n  background-color: var(--sklearn-color-unfitted-level-0);\n}\n\n#sk-container-id-1 div.sk-toggleable__content.fitted {\n  /* fitted */\n  background-color: var(--sklearn-color-fitted-level-0);\n}\n\n#sk-container-id-1 div.sk-toggleable__content pre {\n  margin: 0.2em;\n  border-radius: 0.25em;\n  color: var(--sklearn-color-text);\n  /* unfitted */\n  background-color: var(--sklearn-color-unfitted-level-0);\n}\n\n#sk-container-id-1 div.sk-toggleable__content.fitted pre {\n  /* unfitted */\n  background-color: var(--sklearn-color-fitted-level-0);\n}\n\n#sk-container-id-1 input.sk-toggleable__control:checked~div.sk-toggleable__content {\n  /* Expand drop-down */\n  max-height: 200px;\n  max-width: 100%;\n  overflow: auto;\n}\n\n#sk-container-id-1 input.sk-toggleable__control:checked~label.sk-toggleable__label-arrow:before {\n  content: \"▾\";\n}\n\n/* Pipeline/ColumnTransformer-specific style */\n\n#sk-container-id-1 div.sk-label input.sk-toggleable__control:checked~label.sk-toggleable__label {\n  color: var(--sklearn-color-text);\n  background-color: var(--sklearn-color-unfitted-level-2);\n}\n\n#sk-container-id-1 div.sk-label.fitted input.sk-toggleable__control:checked~label.sk-toggleable__label {\n  background-color: var(--sklearn-color-fitted-level-2);\n}\n\n/* Estimator-specific style */\n\n/* Colorize estimator box */\n#sk-container-id-1 div.sk-estimator input.sk-toggleable__control:checked~label.sk-toggleable__label {\n  /* unfitted */\n  background-color: var(--sklearn-color-unfitted-level-2);\n}\n\n#sk-container-id-1 div.sk-estimator.fitted input.sk-toggleable__control:checked~label.sk-toggleable__label {\n  /* fitted */\n  background-color: var(--sklearn-color-fitted-level-2);\n}\n\n#sk-container-id-1 div.sk-label label.sk-toggleable__label,\n#sk-container-id-1 div.sk-label label {\n  /* The background is the default theme color */\n  color: var(--sklearn-color-text-on-default-background);\n}\n\n/* On hover, darken the color of the background */\n#sk-container-id-1 div.sk-label:hover label.sk-toggleable__label {\n  color: var(--sklearn-color-text);\n  background-color: var(--sklearn-color-unfitted-level-2);\n}\n\n/* Label box, darken color on hover, fitted */\n#sk-container-id-1 div.sk-label.fitted:hover label.sk-toggleable__label.fitted {\n  color: var(--sklearn-color-text);\n  background-color: var(--sklearn-color-fitted-level-2);\n}\n\n/* Estimator label */\n\n#sk-container-id-1 div.sk-label label {\n  font-family: monospace;\n  font-weight: bold;\n  display: inline-block;\n  line-height: 1.2em;\n}\n\n#sk-container-id-1 div.sk-label-container {\n  text-align: center;\n}\n\n/* Estimator-specific */\n#sk-container-id-1 div.sk-estimator {\n  font-family: monospace;\n  border: 1px dotted var(--sklearn-color-border-box);\n  border-radius: 0.25em;\n  box-sizing: border-box;\n  margin-bottom: 0.5em;\n  /* unfitted */\n  background-color: var(--sklearn-color-unfitted-level-0);\n}\n\n#sk-container-id-1 div.sk-estimator.fitted {\n  /* fitted */\n  background-color: var(--sklearn-color-fitted-level-0);\n}\n\n/* on hover */\n#sk-container-id-1 div.sk-estimator:hover {\n  /* unfitted */\n  background-color: var(--sklearn-color-unfitted-level-2);\n}\n\n#sk-container-id-1 div.sk-estimator.fitted:hover {\n  /* fitted */\n  background-color: var(--sklearn-color-fitted-level-2);\n}\n\n/* Specification for estimator info (e.g. \"i\" and \"?\") */\n\n/* Common style for \"i\" and \"?\" */\n\n.sk-estimator-doc-link,\na:link.sk-estimator-doc-link,\na:visited.sk-estimator-doc-link {\n  float: right;\n  font-size: smaller;\n  line-height: 1em;\n  font-family: monospace;\n  background-color: var(--sklearn-color-background);\n  border-radius: 1em;\n  height: 1em;\n  width: 1em;\n  text-decoration: none !important;\n  margin-left: 1ex;\n  /* unfitted */\n  border: var(--sklearn-color-unfitted-level-1) 1pt solid;\n  color: var(--sklearn-color-unfitted-level-1);\n}\n\n.sk-estimator-doc-link.fitted,\na:link.sk-estimator-doc-link.fitted,\na:visited.sk-estimator-doc-link.fitted {\n  /* fitted */\n  border: var(--sklearn-color-fitted-level-1) 1pt solid;\n  color: var(--sklearn-color-fitted-level-1);\n}\n\n/* On hover */\ndiv.sk-estimator:hover .sk-estimator-doc-link:hover,\n.sk-estimator-doc-link:hover,\ndiv.sk-label-container:hover .sk-estimator-doc-link:hover,\n.sk-estimator-doc-link:hover {\n  /* unfitted */\n  background-color: var(--sklearn-color-unfitted-level-3);\n  color: var(--sklearn-color-background);\n  text-decoration: none;\n}\n\ndiv.sk-estimator.fitted:hover .sk-estimator-doc-link.fitted:hover,\n.sk-estimator-doc-link.fitted:hover,\ndiv.sk-label-container:hover .sk-estimator-doc-link.fitted:hover,\n.sk-estimator-doc-link.fitted:hover {\n  /* fitted */\n  background-color: var(--sklearn-color-fitted-level-3);\n  color: var(--sklearn-color-background);\n  text-decoration: none;\n}\n\n/* Span, style for the box shown on hovering the info icon */\n.sk-estimator-doc-link span {\n  display: none;\n  z-index: 9999;\n  position: relative;\n  font-weight: normal;\n  right: .2ex;\n  padding: .5ex;\n  margin: .5ex;\n  width: min-content;\n  min-width: 20ex;\n  max-width: 50ex;\n  color: var(--sklearn-color-text);\n  box-shadow: 2pt 2pt 4pt #999;\n  /* unfitted */\n  background: var(--sklearn-color-unfitted-level-0);\n  border: .5pt solid var(--sklearn-color-unfitted-level-3);\n}\n\n.sk-estimator-doc-link.fitted span {\n  /* fitted */\n  background: var(--sklearn-color-fitted-level-0);\n  border: var(--sklearn-color-fitted-level-3);\n}\n\n.sk-estimator-doc-link:hover span {\n  display: block;\n}\n\n/* \"?\"-specific style due to the `<a>` HTML tag */\n\n#sk-container-id-1 a.estimator_doc_link {\n  float: right;\n  font-size: 1rem;\n  line-height: 1em;\n  font-family: monospace;\n  background-color: var(--sklearn-color-background);\n  border-radius: 1rem;\n  height: 1rem;\n  width: 1rem;\n  text-decoration: none;\n  /* unfitted */\n  color: var(--sklearn-color-unfitted-level-1);\n  border: var(--sklearn-color-unfitted-level-1) 1pt solid;\n}\n\n#sk-container-id-1 a.estimator_doc_link.fitted {\n  /* fitted */\n  border: var(--sklearn-color-fitted-level-1) 1pt solid;\n  color: var(--sklearn-color-fitted-level-1);\n}\n\n/* On hover */\n#sk-container-id-1 a.estimator_doc_link:hover {\n  /* unfitted */\n  background-color: var(--sklearn-color-unfitted-level-3);\n  color: var(--sklearn-color-background);\n  text-decoration: none;\n}\n\n#sk-container-id-1 a.estimator_doc_link.fitted:hover {\n  /* fitted */\n  background-color: var(--sklearn-color-fitted-level-3);\n}\n</style><div id=\"sk-container-id-1\" class=\"sk-top-container\"><div class=\"sk-text-repr-fallback\"><pre>SVC(C=100.0, gamma=0.001)</pre><b>In a Jupyter environment, please rerun this cell to show the HTML representation or trust the notebook. <br />On GitHub, the HTML representation is unable to render, please try loading this page with nbviewer.org.</b></div><div class=\"sk-container\" hidden><div class=\"sk-item\"><div class=\"sk-estimator fitted sk-toggleable\"><input class=\"sk-toggleable__control sk-hidden--visually\" id=\"sk-estimator-id-1\" type=\"checkbox\" checked><label for=\"sk-estimator-id-1\" class=\"sk-toggleable__label fitted sk-toggleable__label-arrow fitted\">&nbsp;&nbsp;SVC<a class=\"sk-estimator-doc-link fitted\" rel=\"noreferrer\" target=\"_blank\" href=\"https://scikit-learn.org/1.4/modules/generated/sklearn.svm.SVC.html\">?<span>Documentation for SVC</span></a><span class=\"sk-estimator-doc-link fitted\">i<span>Fitted</span></span></label><div class=\"sk-toggleable__content fitted\"><pre>SVC(C=100.0, gamma=0.001)</pre></div> </div></div></div></div>"
     },
     "execution_count": 1,
     "metadata": {},
     "output_type": "execute_result"
    }
   ],
   "source": [
    "from sklearn import datasets, svm\n",
    "\n",
    "digits = datasets.load_digits()\n",
    "training_set = digits.data\n",
    "target_set = digits.target\n",
    "\n",
    "clf = svm.SVC(gamma=0.001, C=100.)\n",
    "clf.fit(training_set, target_set)"
   ]
  },
  {
   "cell_type": "markdown",
   "metadata": {},
   "source": [
    "# Saving & loading the model\n",
    "\n",
    "Several ways of saving the model are possible. We will see two of them: pickle and joblib.\n",
    "\n",
    "## pickle\n",
    "It is possible to save a model in the scikit by using Python’s built-in persistence model, namely with pickle:"
   ]
  },
  {
   "cell_type": "code",
   "execution_count": 2,
   "metadata": {
    "ExecuteTime": {
     "end_time": "2024-09-22T20:09:27.725641Z",
     "start_time": "2024-09-22T20:09:27.721546Z"
    }
   },
   "outputs": [],
   "source": [
    "import pickle\n",
    "\n",
    "with open('models/digits-svc.pickle', 'wb') as f:\n",
    "    pickle.dump(clf, f)"
   ]
  },
  {
   "cell_type": "markdown",
   "metadata": {
    "ExecuteTime": {
     "end_time": "2018-04-11T20:45:26.486247Z",
     "start_time": "2018-04-11T20:45:26.481736Z"
    }
   },
   "source": [
    "And latter we can reload it"
   ]
  },
  {
   "cell_type": "code",
   "execution_count": 3,
   "metadata": {
    "ExecuteTime": {
     "end_time": "2024-09-22T20:09:27.729216Z",
     "start_time": "2024-09-22T20:09:27.726527Z"
    }
   },
   "outputs": [],
   "source": [
    "with open('models/digits-svc.pickle', 'rb') as f:\n",
    "    clf_copy = pickle.load(f)"
   ]
  },
  {
   "cell_type": "markdown",
   "metadata": {},
   "source": [
    "and do predictions"
   ]
  },
  {
   "cell_type": "code",
   "execution_count": 4,
   "metadata": {
    "ExecuteTime": {
     "end_time": "2024-09-22T20:09:27.733567Z",
     "start_time": "2024-09-22T20:09:27.729819Z"
    }
   },
   "outputs": [
    {
     "data": {
      "text/plain": "'predicting 8 for 8'"
     },
     "execution_count": 4,
     "metadata": {},
     "output_type": "execute_result"
    }
   ],
   "source": [
    "clf_copy.predict([digits.data[-1]])\n",
    "'predicting {} for {}'.format(clf_copy.predict([digits.data[-1]])[0], digits.target[-1])"
   ]
  },
  {
   "cell_type": "markdown",
   "metadata": {},
   "source": [
    "## joblib\n",
    "\n",
    "In the specific case of the scikit, it may be more interesting to use joblib’s replacement of pickle (joblib.dump & joblib.load), which is more efficient on big data, but can only pickle to the disk and not to a string, which is probably what you want to do if you want to send your model to another machine."
   ]
  },
  {
   "cell_type": "code",
   "execution_count": 5,
   "metadata": {
    "ExecuteTime": {
     "end_time": "2024-09-22T20:09:27.741456Z",
     "start_time": "2024-09-22T20:09:27.735572Z"
    }
   },
   "outputs": [
    {
     "data": {
      "text/plain": "['models/digits-svc.joblib']"
     },
     "execution_count": 5,
     "metadata": {},
     "output_type": "execute_result"
    }
   ],
   "source": [
    "import joblib\n",
    "joblib.dump(clf, 'models/digits-svc.joblib')"
   ]
  },
  {
   "cell_type": "markdown",
   "metadata": {
    "ExecuteTime": {
     "end_time": "2018-04-11T20:50:17.632684Z",
     "start_time": "2018-04-11T20:50:17.628171Z"
    }
   },
   "source": [
    "And, as before,  latter we can reload it"
   ]
  },
  {
   "cell_type": "code",
   "execution_count": 6,
   "metadata": {
    "ExecuteTime": {
     "end_time": "2024-09-22T20:09:27.745749Z",
     "start_time": "2024-09-22T20:09:27.742522Z"
    }
   },
   "outputs": [],
   "source": [
    "clf_copy = joblib.load('models/digits-svc.joblib')"
   ]
  },
  {
   "cell_type": "markdown",
   "source": [
    "and do predictions"
   ],
   "metadata": {
    "collapsed": false
   }
  },
  {
   "cell_type": "code",
   "execution_count": 7,
   "metadata": {
    "ExecuteTime": {
     "end_time": "2024-09-22T20:09:27.749830Z",
     "start_time": "2024-09-22T20:09:27.746782Z"
    }
   },
   "outputs": [
    {
     "data": {
      "text/plain": "'predicting 8 for 8'"
     },
     "execution_count": 7,
     "metadata": {},
     "output_type": "execute_result"
    }
   ],
   "source": [
    "clf_copy.predict([digits.data[-1]])\n",
    "'predicting {} for {}'.format(clf_copy.predict([digits.data[-1]])[0], digits.target[-1])"
   ]
  },
  {
   "cell_type": "markdown",
   "metadata": {},
   "source": [
    "# Model from Orange\n",
    "You can also use model prepared in other places, such as Orange. Don't forget to install run the Orange application, if needed, and run the iris.ows workflow located in the Orange folder of this repository.\n",
    "\n",
    "In other words, use Orange to train a model and save it, then load it and use it for predictions."
   ]
  },
  {
   "cell_type": "code",
   "execution_count": 8,
   "metadata": {
    "ExecuteTime": {
     "end_time": "2024-09-22T20:09:29.697421Z",
     "start_time": "2024-09-22T20:09:27.750590Z"
    }
   },
   "outputs": [
    {
     "data": {
      "text/plain": "SklModelClassification(skl_model=KNeighborsClassifier(metric='euclidean', n_neighbors=8))  # params={'n_neighbors': 8, 'weights': 'uniform', 'algorithm': 'auto', 'metric': 'euclidean', 'metric_params': None}"
     },
     "execution_count": 8,
     "metadata": {},
     "output_type": "execute_result"
    }
   ],
   "source": [
    "# you might need to install Orange3 and pyqt\n",
    "# !pip install Orange3\n",
    "# !pip install PyQt5\n",
    "\n",
    "import pickle\n",
    "from sklearn.datasets import load_iris\n",
    "iris = load_iris()\n",
    "\n",
    "# load the model from disk\n",
    "with open('../week.02/models/iris_orange_knn_model.pkcls', 'rb') as model:\n",
    "    knn = pickle.load(model)\n",
    "\n",
    "knn"
   ]
  },
  {
   "cell_type": "markdown",
   "source": [
    "And do predictions"
   ],
   "metadata": {
    "collapsed": false
   }
  },
  {
   "cell_type": "code",
   "execution_count": 9,
   "metadata": {
    "ExecuteTime": {
     "end_time": "2024-09-22T20:09:29.707998Z",
     "start_time": "2024-09-22T20:09:29.698150Z"
    }
   },
   "outputs": [
    {
     "data": {
      "text/plain": "(array([0., 0., 0., 0., 0., 0., 0., 0., 0., 0., 0., 0., 0., 0., 0., 0., 0.,\n        0., 0., 0., 0., 0., 0., 0., 0., 0., 0., 0., 0., 0., 0., 0., 0., 0.,\n        0., 0., 0., 0., 0., 0., 0., 0., 0., 0., 0., 0., 0., 0., 0., 0., 1.,\n        1., 1., 1., 1., 1., 1., 1., 1., 1., 1., 1., 1., 1., 1., 1., 1., 1.,\n        1., 1., 1., 1., 2., 1., 1., 1., 1., 1., 1., 1., 1., 1., 1., 2., 1.,\n        1., 1., 1., 1., 1., 1., 1., 1., 1., 1., 1., 1., 1., 1., 1., 2., 2.,\n        2., 2., 2., 2., 1., 2., 2., 2., 2., 2., 2., 2., 2., 2., 2., 2., 2.,\n        2., 2., 2., 2., 2., 2., 2., 2., 2., 2., 2., 2., 2., 2., 2., 2., 2.,\n        2., 2., 2., 2., 2., 2., 2., 2., 2., 2., 2., 2., 2., 2.]),\n array([[1.   , 0.   , 0.   ],\n        [1.   , 0.   , 0.   ],\n        [1.   , 0.   , 0.   ],\n        [1.   , 0.   , 0.   ],\n        [1.   , 0.   , 0.   ],\n        [1.   , 0.   , 0.   ],\n        [1.   , 0.   , 0.   ],\n        [1.   , 0.   , 0.   ],\n        [1.   , 0.   , 0.   ],\n        [1.   , 0.   , 0.   ],\n        [1.   , 0.   , 0.   ],\n        [1.   , 0.   , 0.   ],\n        [1.   , 0.   , 0.   ],\n        [1.   , 0.   , 0.   ],\n        [1.   , 0.   , 0.   ],\n        [1.   , 0.   , 0.   ],\n        [1.   , 0.   , 0.   ],\n        [1.   , 0.   , 0.   ],\n        [1.   , 0.   , 0.   ],\n        [1.   , 0.   , 0.   ],\n        [1.   , 0.   , 0.   ],\n        [1.   , 0.   , 0.   ],\n        [1.   , 0.   , 0.   ],\n        [1.   , 0.   , 0.   ],\n        [1.   , 0.   , 0.   ],\n        [1.   , 0.   , 0.   ],\n        [1.   , 0.   , 0.   ],\n        [1.   , 0.   , 0.   ],\n        [1.   , 0.   , 0.   ],\n        [1.   , 0.   , 0.   ],\n        [1.   , 0.   , 0.   ],\n        [1.   , 0.   , 0.   ],\n        [1.   , 0.   , 0.   ],\n        [1.   , 0.   , 0.   ],\n        [1.   , 0.   , 0.   ],\n        [1.   , 0.   , 0.   ],\n        [1.   , 0.   , 0.   ],\n        [1.   , 0.   , 0.   ],\n        [1.   , 0.   , 0.   ],\n        [1.   , 0.   , 0.   ],\n        [1.   , 0.   , 0.   ],\n        [1.   , 0.   , 0.   ],\n        [1.   , 0.   , 0.   ],\n        [1.   , 0.   , 0.   ],\n        [1.   , 0.   , 0.   ],\n        [1.   , 0.   , 0.   ],\n        [1.   , 0.   , 0.   ],\n        [1.   , 0.   , 0.   ],\n        [1.   , 0.   , 0.   ],\n        [1.   , 0.   , 0.   ],\n        [0.   , 1.   , 0.   ],\n        [0.   , 1.   , 0.   ],\n        [0.   , 1.   , 0.   ],\n        [0.   , 1.   , 0.   ],\n        [0.   , 1.   , 0.   ],\n        [0.   , 1.   , 0.   ],\n        [0.   , 0.75 , 0.25 ],\n        [0.   , 1.   , 0.   ],\n        [0.   , 1.   , 0.   ],\n        [0.   , 1.   , 0.   ],\n        [0.   , 1.   , 0.   ],\n        [0.   , 1.   , 0.   ],\n        [0.   , 1.   , 0.   ],\n        [0.   , 0.75 , 0.25 ],\n        [0.   , 1.   , 0.   ],\n        [0.   , 1.   , 0.   ],\n        [0.   , 1.   , 0.   ],\n        [0.   , 1.   , 0.   ],\n        [0.   , 0.625, 0.375],\n        [0.   , 1.   , 0.   ],\n        [0.   , 0.5  , 0.5  ],\n        [0.   , 1.   , 0.   ],\n        [0.   , 0.375, 0.625],\n        [0.   , 1.   , 0.   ],\n        [0.   , 1.   , 0.   ],\n        [0.   , 1.   , 0.   ],\n        [0.   , 1.   , 0.   ],\n        [0.   , 0.5  , 0.5  ],\n        [0.   , 1.   , 0.   ],\n        [0.   , 1.   , 0.   ],\n        [0.   , 1.   , 0.   ],\n        [0.   , 1.   , 0.   ],\n        [0.   , 1.   , 0.   ],\n        [0.   , 0.25 , 0.75 ],\n        [0.   , 1.   , 0.   ],\n        [0.   , 0.875, 0.125],\n        [0.   , 1.   , 0.   ],\n        [0.   , 1.   , 0.   ],\n        [0.   , 1.   , 0.   ],\n        [0.   , 1.   , 0.   ],\n        [0.   , 1.   , 0.   ],\n        [0.   , 1.   , 0.   ],\n        [0.   , 1.   , 0.   ],\n        [0.   , 1.   , 0.   ],\n        [0.   , 1.   , 0.   ],\n        [0.   , 1.   , 0.   ],\n        [0.   , 1.   , 0.   ],\n        [0.   , 1.   , 0.   ],\n        [0.   , 1.   , 0.   ],\n        [0.   , 1.   , 0.   ],\n        [0.   , 0.   , 1.   ],\n        [0.   , 0.125, 0.875],\n        [0.   , 0.   , 1.   ],\n        [0.   , 0.   , 1.   ],\n        [0.   , 0.   , 1.   ],\n        [0.   , 0.   , 1.   ],\n        [0.   , 0.875, 0.125],\n        [0.   , 0.   , 1.   ],\n        [0.   , 0.   , 1.   ],\n        [0.   , 0.   , 1.   ],\n        [0.   , 0.125, 0.875],\n        [0.   , 0.   , 1.   ],\n        [0.   , 0.   , 1.   ],\n        [0.   , 0.125, 0.875],\n        [0.   , 0.   , 1.   ],\n        [0.   , 0.   , 1.   ],\n        [0.   , 0.   , 1.   ],\n        [0.   , 0.   , 1.   ],\n        [0.   , 0.   , 1.   ],\n        [0.   , 0.375, 0.625],\n        [0.   , 0.   , 1.   ],\n        [0.   , 0.125, 0.875],\n        [0.   , 0.   , 1.   ],\n        [0.   , 0.25 , 0.75 ],\n        [0.   , 0.   , 1.   ],\n        [0.   , 0.   , 1.   ],\n        [0.   , 0.25 , 0.75 ],\n        [0.   , 0.25 , 0.75 ],\n        [0.   , 0.   , 1.   ],\n        [0.   , 0.   , 1.   ],\n        [0.   , 0.   , 1.   ],\n        [0.   , 0.   , 1.   ],\n        [0.   , 0.   , 1.   ],\n        [0.   , 0.375, 0.625],\n        [0.   , 0.125, 0.875],\n        [0.   , 0.   , 1.   ],\n        [0.   , 0.   , 1.   ],\n        [0.   , 0.   , 1.   ],\n        [0.   , 0.375, 0.625],\n        [0.   , 0.   , 1.   ],\n        [0.   , 0.   , 1.   ],\n        [0.   , 0.   , 1.   ],\n        [0.   , 0.125, 0.875],\n        [0.   , 0.   , 1.   ],\n        [0.   , 0.   , 1.   ],\n        [0.   , 0.   , 1.   ],\n        [0.   , 0.25 , 0.75 ],\n        [0.   , 0.125, 0.875],\n        [0.   , 0.   , 1.   ],\n        [0.   , 0.25 , 0.75 ]]))"
     },
     "execution_count": 9,
     "metadata": {},
     "output_type": "execute_result"
    }
   ],
   "source": [
    "pred = knn.predict(iris.data)\n",
    "pred"
   ]
  },
  {
   "cell_type": "markdown",
   "source": [
    "And check the accuracy (over many of the samples used to train the model! So, this is not a good measure of the accuracy of the model)"
   ],
   "metadata": {
    "collapsed": false
   }
  },
  {
   "cell_type": "code",
   "execution_count": 10,
   "metadata": {},
   "outputs": [
    {
     "data": {
      "text/plain": "array([ True,  True,  True,  True,  True,  True,  True,  True,  True,\n        True,  True,  True,  True,  True,  True,  True,  True,  True,\n        True,  True,  True,  True,  True,  True,  True,  True,  True,\n        True,  True,  True,  True,  True,  True,  True,  True,  True,\n        True,  True,  True,  True,  True,  True,  True,  True,  True,\n        True,  True,  True,  True,  True,  True,  True,  True,  True,\n        True,  True,  True,  True,  True,  True,  True,  True,  True,\n        True,  True,  True,  True,  True,  True,  True,  True,  True,\n       False,  True,  True,  True,  True,  True,  True,  True,  True,\n        True,  True, False,  True,  True,  True,  True,  True,  True,\n        True,  True,  True,  True,  True,  True,  True,  True,  True,\n        True,  True,  True,  True,  True,  True,  True, False,  True,\n        True,  True,  True,  True,  True,  True,  True,  True,  True,\n        True,  True,  True,  True,  True,  True,  True,  True,  True,\n        True,  True,  True,  True,  True,  True,  True,  True,  True,\n        True,  True,  True,  True,  True,  True,  True,  True,  True,\n        True,  True,  True,  True,  True,  True])"
     },
     "execution_count": 10,
     "metadata": {},
     "output_type": "execute_result"
    }
   ],
   "source": [
    "iris.target == pred[0]"
   ]
  },
  {
   "cell_type": "code",
   "execution_count": 11,
   "outputs": [
    {
     "name": "stdout",
     "output_type": "stream",
     "text": [
      "Precision is 0.98\n"
     ]
    }
   ],
   "source": [
    "print(\"Precision is\", sum(iris.target == pred[0]) / len(iris.target == pred[0]))"
   ],
   "metadata": {
    "collapsed": false,
    "ExecuteTime": {
     "end_time": "2024-09-22T20:09:29.714502Z",
     "start_time": "2024-09-22T20:09:29.711658Z"
    }
   }
  },
  {
   "cell_type": "markdown",
   "source": [
    "You can also check the probabilities of each class, for each sample, giving you a better idea of the confidence of the model. For this use the `predict_proba` method, common to many models in scikit-learn."
   ],
   "metadata": {
    "collapsed": false
   }
  },
  {
   "cell_type": "code",
   "execution_count": 12,
   "outputs": [
    {
     "data": {
      "text/plain": "array([[1.   , 0.   , 0.   ],\n       [1.   , 0.   , 0.   ],\n       [1.   , 0.   , 0.   ],\n       [1.   , 0.   , 0.   ],\n       [1.   , 0.   , 0.   ],\n       [1.   , 0.   , 0.   ],\n       [1.   , 0.   , 0.   ],\n       [1.   , 0.   , 0.   ],\n       [1.   , 0.   , 0.   ],\n       [1.   , 0.   , 0.   ],\n       [1.   , 0.   , 0.   ],\n       [1.   , 0.   , 0.   ],\n       [1.   , 0.   , 0.   ],\n       [1.   , 0.   , 0.   ],\n       [1.   , 0.   , 0.   ],\n       [1.   , 0.   , 0.   ],\n       [1.   , 0.   , 0.   ],\n       [1.   , 0.   , 0.   ],\n       [1.   , 0.   , 0.   ],\n       [1.   , 0.   , 0.   ],\n       [1.   , 0.   , 0.   ],\n       [1.   , 0.   , 0.   ],\n       [1.   , 0.   , 0.   ],\n       [1.   , 0.   , 0.   ],\n       [1.   , 0.   , 0.   ],\n       [1.   , 0.   , 0.   ],\n       [1.   , 0.   , 0.   ],\n       [1.   , 0.   , 0.   ],\n       [1.   , 0.   , 0.   ],\n       [1.   , 0.   , 0.   ],\n       [1.   , 0.   , 0.   ],\n       [1.   , 0.   , 0.   ],\n       [1.   , 0.   , 0.   ],\n       [1.   , 0.   , 0.   ],\n       [1.   , 0.   , 0.   ],\n       [1.   , 0.   , 0.   ],\n       [1.   , 0.   , 0.   ],\n       [1.   , 0.   , 0.   ],\n       [1.   , 0.   , 0.   ],\n       [1.   , 0.   , 0.   ],\n       [1.   , 0.   , 0.   ],\n       [1.   , 0.   , 0.   ],\n       [1.   , 0.   , 0.   ],\n       [1.   , 0.   , 0.   ],\n       [1.   , 0.   , 0.   ],\n       [1.   , 0.   , 0.   ],\n       [1.   , 0.   , 0.   ],\n       [1.   , 0.   , 0.   ],\n       [1.   , 0.   , 0.   ],\n       [1.   , 0.   , 0.   ],\n       [0.   , 1.   , 0.   ],\n       [0.   , 1.   , 0.   ],\n       [0.   , 1.   , 0.   ],\n       [0.   , 1.   , 0.   ],\n       [0.   , 1.   , 0.   ],\n       [0.   , 1.   , 0.   ],\n       [0.   , 0.75 , 0.25 ],\n       [0.   , 1.   , 0.   ],\n       [0.   , 1.   , 0.   ],\n       [0.   , 1.   , 0.   ],\n       [0.   , 1.   , 0.   ],\n       [0.   , 1.   , 0.   ],\n       [0.   , 1.   , 0.   ],\n       [0.   , 0.75 , 0.25 ],\n       [0.   , 1.   , 0.   ],\n       [0.   , 1.   , 0.   ],\n       [0.   , 1.   , 0.   ],\n       [0.   , 1.   , 0.   ],\n       [0.   , 0.625, 0.375],\n       [0.   , 1.   , 0.   ],\n       [0.   , 0.5  , 0.5  ],\n       [0.   , 1.   , 0.   ],\n       [0.   , 0.375, 0.625],\n       [0.   , 1.   , 0.   ],\n       [0.   , 1.   , 0.   ],\n       [0.   , 1.   , 0.   ],\n       [0.   , 1.   , 0.   ],\n       [0.   , 0.5  , 0.5  ],\n       [0.   , 1.   , 0.   ],\n       [0.   , 1.   , 0.   ],\n       [0.   , 1.   , 0.   ],\n       [0.   , 1.   , 0.   ],\n       [0.   , 1.   , 0.   ],\n       [0.   , 0.25 , 0.75 ],\n       [0.   , 1.   , 0.   ],\n       [0.   , 0.875, 0.125],\n       [0.   , 1.   , 0.   ],\n       [0.   , 1.   , 0.   ],\n       [0.   , 1.   , 0.   ],\n       [0.   , 1.   , 0.   ],\n       [0.   , 1.   , 0.   ],\n       [0.   , 1.   , 0.   ],\n       [0.   , 1.   , 0.   ],\n       [0.   , 1.   , 0.   ],\n       [0.   , 1.   , 0.   ],\n       [0.   , 1.   , 0.   ],\n       [0.   , 1.   , 0.   ],\n       [0.   , 1.   , 0.   ],\n       [0.   , 1.   , 0.   ],\n       [0.   , 1.   , 0.   ],\n       [0.   , 0.   , 1.   ],\n       [0.   , 0.125, 0.875],\n       [0.   , 0.   , 1.   ],\n       [0.   , 0.   , 1.   ],\n       [0.   , 0.   , 1.   ],\n       [0.   , 0.   , 1.   ],\n       [0.   , 0.875, 0.125],\n       [0.   , 0.   , 1.   ],\n       [0.   , 0.   , 1.   ],\n       [0.   , 0.   , 1.   ],\n       [0.   , 0.125, 0.875],\n       [0.   , 0.   , 1.   ],\n       [0.   , 0.   , 1.   ],\n       [0.   , 0.125, 0.875],\n       [0.   , 0.   , 1.   ],\n       [0.   , 0.   , 1.   ],\n       [0.   , 0.   , 1.   ],\n       [0.   , 0.   , 1.   ],\n       [0.   , 0.   , 1.   ],\n       [0.   , 0.375, 0.625],\n       [0.   , 0.   , 1.   ],\n       [0.   , 0.125, 0.875],\n       [0.   , 0.   , 1.   ],\n       [0.   , 0.25 , 0.75 ],\n       [0.   , 0.   , 1.   ],\n       [0.   , 0.   , 1.   ],\n       [0.   , 0.25 , 0.75 ],\n       [0.   , 0.25 , 0.75 ],\n       [0.   , 0.   , 1.   ],\n       [0.   , 0.   , 1.   ],\n       [0.   , 0.   , 1.   ],\n       [0.   , 0.   , 1.   ],\n       [0.   , 0.   , 1.   ],\n       [0.   , 0.375, 0.625],\n       [0.   , 0.125, 0.875],\n       [0.   , 0.   , 1.   ],\n       [0.   , 0.   , 1.   ],\n       [0.   , 0.   , 1.   ],\n       [0.   , 0.375, 0.625],\n       [0.   , 0.   , 1.   ],\n       [0.   , 0.   , 1.   ],\n       [0.   , 0.   , 1.   ],\n       [0.   , 0.125, 0.875],\n       [0.   , 0.   , 1.   ],\n       [0.   , 0.   , 1.   ],\n       [0.   , 0.   , 1.   ],\n       [0.   , 0.25 , 0.75 ],\n       [0.   , 0.125, 0.875],\n       [0.   , 0.   , 1.   ],\n       [0.   , 0.25 , 0.75 ]])"
     },
     "execution_count": 12,
     "metadata": {},
     "output_type": "execute_result"
    }
   ],
   "source": [
    "knn.predict_proba(iris.data)"
   ],
   "metadata": {
    "collapsed": false,
    "ExecuteTime": {
     "end_time": "2024-09-22T20:09:29.724898Z",
     "start_time": "2024-09-22T20:09:29.715775Z"
    }
   }
  },
  {
   "cell_type": "code",
   "execution_count": 12,
   "outputs": [],
   "source": [],
   "metadata": {
    "collapsed": false,
    "ExecuteTime": {
     "end_time": "2024-09-22T20:09:29.726979Z",
     "start_time": "2024-09-22T20:09:29.725515Z"
    }
   }
  }
 ],
 "metadata": {
  "finalized": {
   "timestamp": 1652118351651,
   "trusted": false
  },
  "kernelspec": {
   "display_name": "Python 3 (ipykernel)",
   "language": "python",
   "name": "python3"
  },
  "language_info": {
   "codemirror_mode": {
    "name": "ipython",
    "version": 3
   },
   "file_extension": ".py",
   "mimetype": "text/x-python",
   "name": "python",
   "nbconvert_exporter": "python",
   "pygments_lexer": "ipython3",
   "version": "3.10.6"
  },
  "latex_envs": {
   "LaTeX_envs_menu_present": true,
   "autoclose": true,
   "autocomplete": true,
   "bibliofile": "references.bib",
   "cite_by": "apalike",
   "current_citInitial": 1,
   "eqLabelWithNumbers": false,
   "eqNumInitial": 1,
   "hotkeys": {
    "equation": "Ctrl-E",
    "itemize": "Ctrl-I"
   },
   "labels_anchors": false,
   "latex_user_defs": false,
   "report_style_numbering": true,
   "user_envs_cfg": false
  },
  "nbTranslate": {
   "displayLangs": [
    "*"
   ],
   "hotkey": "alt-t",
   "langInMainMenu": true,
   "sourceLang": "en",
   "targetLang": "fr",
   "useGoogleTranslate": true
  },
  "toc": {
   "base_numbering": 1,
   "nav_menu": {},
   "number_sections": true,
   "sideBar": true,
   "skip_h1_title": false,
   "title_cell": "Table of Contents",
   "title_sidebar": "Contents",
   "toc_cell": false,
   "toc_position": {},
   "toc_section_display": "block",
   "toc_window_display": false
  },
  "varInspector": {
   "cols": {
    "lenName": 16,
    "lenType": 16,
    "lenVar": 40
   },
   "kernels_config": {
    "python": {
     "delete_cmd_postfix": "",
     "delete_cmd_prefix": "del ",
     "library": "var_list.py",
     "varRefreshCmd": "print(var_dic_list())"
    },
    "r": {
     "delete_cmd_postfix": ") ",
     "delete_cmd_prefix": "rm(",
     "library": "var_list.r",
     "varRefreshCmd": "cat(var_dic_list()) "
    }
   },
   "types_to_exclude": [
    "module",
    "function",
    "builtin_function_or_method",
    "instance",
    "_Feature"
   ],
   "window_display": false
  }
 },
 "nbformat": 4,
 "nbformat_minor": 2
}
