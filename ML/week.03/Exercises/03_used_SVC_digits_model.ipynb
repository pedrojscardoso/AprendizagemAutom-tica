{
 "cells": [
  {
   "cell_type": "markdown",
   "source": [
    "___\n",
    "<h1> Machine Learning </h1>\n",
    "<h2> Systems Engineering and Computer Technologies / Engenharia de Sistemas e Tecnologias Informáticas\n",
    "(LESTI)</h2>\n",
    "<h3> Instituto Superior de Engenharia / Universidade do Algarve </h3>\n",
    "\n",
    "[LESTI](https://ise.ualg.pt/curso/1941) / [ISE](https://ise.ualg.pt) / [UAlg](https://www.ualg.pt)\n",
    "\n",
    "Pedro J. S. Cardoso (pcardoso@ualg.pt)\n",
    "\n",
    "___"
   ],
   "metadata": {
    "collapsed": false
   },
   "id": "16a63dd7c54d74ff"
  },
  {
   "cell_type": "markdown",
   "source": [
    "In this notebook we will use the model trained in the previous notebook to predict the digit in a new image. So, go to paint or any other image editor and **draw a digit**. If you want, save it in a 8x8 png file (if not, we will resize it to 8x8), remember to use a white background and black color for the digit.\n",
    "\n",
    "Then, run the code below to load the image and predict the digit."
   ],
   "metadata": {
    "collapsed": false
   },
   "id": "1d3f70191e541a74"
  },
  {
   "cell_type": "code",
   "outputs": [],
   "source": [
    "from PIL import Image\n",
    "import numpy as np\n",
    "import matplotlib.pyplot as plt\n",
    "\n",
    "# Load the image\n",
    "image = Image.open('my_number.png')\n",
    "\n",
    "# Resize the image to 8x8\n",
    "image_8x8 = image.resize((8, 8))\n",
    "\n",
    "# Convert the image to grayscale \n",
    "image_8x8 = image_8x8.convert('L')  # 'L' mode is 8-bit grayscale\n",
    "\n",
    "# The original data, says \":Attribute Information: 8x8 image of integer pixels in the range 0..16.\n",
    "image_8x8 = image_8x8.point(lambda x: (256-x) // 16)  # Reduce 256 levels to 16\n",
    "\n",
    "# Convert to NumPy array to inspect pixel values (optional)\n",
    "image_8x8 = np.array(image_8x8)\n",
    "print(image_8x8)\n",
    "\n",
    "# Display the 8x8 image (optional)\n",
    "plt.imshow(image_8x8, cmap='gray')"
   ],
   "metadata": {
    "collapsed": false
   },
   "id": "711be948e93c521c",
   "execution_count": null
  },
  {
   "cell_type": "markdown",
   "source": [
    "Now, we will load a model trained in the previous notebook and use it to predict the digit in the image."
   ],
   "metadata": {
    "collapsed": false
   },
   "id": "9c69fa3025d77243"
  },
  {
   "cell_type": "code",
   "outputs": [],
   "source": [
    "import joblib\n",
    "model = joblib.load('../models/digits-svc.joblib')"
   ],
   "metadata": {
    "collapsed": false
   },
   "id": "eec875b431ef9a5a",
   "execution_count": null
  },
  {
   "cell_type": "markdown",
   "source": [
    "Let's predict the digit in the image."
   ],
   "metadata": {
    "collapsed": false
   },
   "id": "83255ec85cdfa4b7"
  },
  {
   "cell_type": "code",
   "outputs": [],
   "source": [
    "data = image_8x8.flatten()\n",
    "model.predict([data])"
   ],
   "metadata": {
    "collapsed": false
   },
   "id": "47b21b48e5d4379b",
   "execution_count": null
  }
 ],
 "metadata": {
  "kernelspec": {
   "display_name": "Python 3",
   "language": "python",
   "name": "python3"
  },
  "language_info": {
   "codemirror_mode": {
    "name": "ipython",
    "version": 2
   },
   "file_extension": ".py",
   "mimetype": "text/x-python",
   "name": "python",
   "nbconvert_exporter": "python",
   "pygments_lexer": "ipython2",
   "version": "2.7.6"
  }
 },
 "nbformat": 4,
 "nbformat_minor": 5
}
