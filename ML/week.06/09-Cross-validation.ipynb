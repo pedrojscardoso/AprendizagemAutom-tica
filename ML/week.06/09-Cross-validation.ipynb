{
 "cells": [
  {
   "cell_type": "markdown",
   "metadata": {},
   "source": [
    "___\n",
    "<h1> Machine Learning </h1>\n",
    "<h2> Systems Engineering and Computer Technologies / Engenharia de Sistemas e Tecnologias Informáticas\n",
    "(LESTI)</h2>\n",
    "<h3> Instituto Superior de Engenharia / Universidade do Algarve </h3>\n",
    "\n",
    "[LESTI](https://ise.ualg.pt/curso/1941) / [ISE](https://ise.ualg.pt) / [UAlg](https://www.ualg.pt)\n",
    "\n",
    "Pedro J. S. Cardoso (pcardoso@ualg.pt)\n",
    "\n",
    "___"
   ]
  },
  {
   "cell_type": "markdown",
   "metadata": {},
   "source": [
    "# Cross validation\n",
    "\n",
    "Cross-validation is a statistical method used to estimate the skill of machine learning models. It is commonly used in applied machine learning to compare and select a model for a given predictive modeling problem because it is easy to understand, easy to implement, and results in skill estimates that generally have a lower bias than other methods.\n",
    "\n",
    "In this notebook we will see how to use cross validation in scikit-learn.\n",
    "[see https://scikit-learn.org/stable/modules/generated/sklearn.model_selection.cross_val_score.html]"
   ]
  },
  {
   "cell_type": "markdown",
   "metadata": {},
   "source": [
    "## Cross validation in scikit-learn: example\n",
    "\n",
    "Let us start with a simple example. We will use the iris dataset and a Logistic Regression model. So, let us start by importing the necessary modules"
   ]
  },
  {
   "cell_type": "code",
   "execution_count": 1,
   "metadata": {
    "ExecuteTime": {
     "end_time": "2024-10-28T09:20:53.023006Z",
     "start_time": "2024-10-28T09:20:51.973517Z"
    }
   },
   "outputs": [],
   "source": [
    "from sklearn.model_selection import cross_val_score\n",
    "from sklearn.datasets import load_iris\n",
    "from sklearn.linear_model import LogisticRegression\n",
    "\n",
    "import matplotlib.pyplot as plt"
   ]
  },
  {
   "cell_type": "markdown",
   "metadata": {},
   "source": [
    "Now, load the iris dataset "
   ]
  },
  {
   "cell_type": "code",
   "execution_count": 2,
   "metadata": {
    "ExecuteTime": {
     "end_time": "2024-10-28T09:20:53.027881Z",
     "start_time": "2024-10-28T09:20:53.023979Z"
    }
   },
   "outputs": [],
   "source": [
    "iris = load_iris()"
   ]
  },
  {
   "cell_type": "markdown",
   "metadata": {},
   "source": [
    "And define a Logistic Regression classification model. Remember, Logistic Regression is a linear model for classification rather than regression. Logistic regression is also known in the literature as logit regression, maximum-entropy classification (MaxEnt) or the log-linear classifier. In this model, the probabilities describing the possible outcomes of a single trial are modeled using a logistic function.\n",
    "\n",
    "Just by curiosity, let us see a plot for the logistic function"
   ]
  },
  {
   "cell_type": "code",
   "execution_count": 3,
   "metadata": {
    "ExecuteTime": {
     "end_time": "2024-10-28T09:20:53.110504Z",
     "start_time": "2024-10-28T09:20:53.028447Z"
    }
   },
   "outputs": [
    {
     "data": {
      "text/plain": "<Figure size 640x480 with 1 Axes>",
      "image/png": "[encoded data removed]"
     },
     "metadata": {},
     "output_type": "display_data"
    }
   ],
   "source": [
    "import numpy as np\n",
    "import matplotlib.pyplot as plt\n",
    "\n",
    "def logistic(x):\n",
    "    return 1 / (1 + np.exp(-x))\n",
    "\n",
    "# x is from -6 to 6 with .1 steps\n",
    "x = np.linspace(-6, 6, 100)\n",
    "\n",
    "plt.plot(x, logistic(x))\n",
    "plt.show()"
   ]
  },
  {
   "cell_type": "markdown",
   "metadata": {},
   "source": [
    "Anyhow, let us define the model..."
   ]
  },
  {
   "cell_type": "code",
   "execution_count": 4,
   "metadata": {
    "ExecuteTime": {
     "end_time": "2024-10-28T09:20:53.125053Z",
     "start_time": "2024-10-28T09:20:53.121575Z"
    }
   },
   "outputs": [],
   "source": [
    "log_reg = LogisticRegression(\n",
    "                        random_state=1, \n",
    "                        C=200,\n",
    "                        solver='lbfgs',\n",
    "                        max_iter=10000)"
   ]
  },
  {
   "cell_type": "markdown",
   "metadata": {},
   "source": [
    "To compute the accuracy of the model a cross validation score is now used"
   ]
  },
  {
   "cell_type": "code",
   "execution_count": 5,
   "metadata": {
    "ExecuteTime": {
     "end_time": "2024-10-28T09:20:54.139714Z",
     "start_time": "2024-10-28T09:20:53.127941Z"
    }
   },
   "outputs": [
    {
     "name": "stderr",
     "output_type": "stream",
     "text": [
      "[Parallel(n_jobs=-1)]: Using backend LokyBackend with 8 concurrent workers.\n",
      "[Parallel(n_jobs=-1)]: Done   2 out of   5 | elapsed:    1.0s remaining:    1.5s\n",
      "[Parallel(n_jobs=-1)]: Done   5 out of   5 | elapsed:    1.0s finished\n"
     ]
    }
   ],
   "source": [
    "scores = cross_val_score(estimator=log_reg, # the model\n",
    "                         X=iris.data, y=iris.target, # X, y\n",
    "                         cv=5,       #number of folds - default 5-fold cross validation (see alternatives in documentation)\n",
    "                         n_jobs=-1,  # use all CPU\n",
    "                         verbose=1,   # verbose level \n",
    "                        )"
   ]
  },
  {
   "cell_type": "markdown",
   "metadata": {},
   "source": [
    "Note that for LogisticRegression, Score is the mean accuracy on the given test data and labels. And the scores for the different folds are: \n",
    "\n",
    "(https://scikit-learn.org/stable/modules/generated/sklearn.linear_model.LogisticRegression.html#sklearn.linear_model.LogisticRegression.score)"
   ]
  },
  {
   "cell_type": "code",
   "execution_count": 6,
   "metadata": {
    "ExecuteTime": {
     "end_time": "2024-10-28T09:20:54.144107Z",
     "start_time": "2024-10-28T09:20:54.140801Z"
    }
   },
   "outputs": [
    {
     "data": {
      "text/plain": "array([1.        , 1.        , 0.93333333, 0.93333333, 1.        ])"
     },
     "execution_count": 6,
     "metadata": {},
     "output_type": "execute_result"
    }
   ],
   "source": [
    "scores"
   ]
  },
  {
   "cell_type": "markdown",
   "metadata": {},
   "source": [
    "Computing the average CV score - we can conclude that we expect the model to be around x% accurate on average"
   ]
  },
  {
   "cell_type": "code",
   "execution_count": 7,
   "metadata": {
    "ExecuteTime": {
     "end_time": "2024-10-28T09:20:54.146823Z",
     "start_time": "2024-10-28T09:20:54.144592Z"
    }
   },
   "outputs": [
    {
     "data": {
      "text/plain": "0.9733333333333334"
     },
     "execution_count": 7,
     "metadata": {},
     "output_type": "execute_result"
    }
   ],
   "source": [
    "scores.mean()"
   ]
  },
  {
   "cell_type": "markdown",
   "metadata": {},
   "source": [
    "And the standard deviation is"
   ]
  },
  {
   "cell_type": "code",
   "execution_count": 8,
   "metadata": {
    "ExecuteTime": {
     "end_time": "2024-10-28T09:20:54.149756Z",
     "start_time": "2024-10-28T09:20:54.147478Z"
    }
   },
   "outputs": [
    {
     "data": {
      "text/plain": "0.03265986323710903"
     },
     "execution_count": 8,
     "metadata": {},
     "output_type": "execute_result"
    }
   ],
   "source": [
    "scores.std()"
   ]
  },
  {
   "cell_type": "markdown",
   "metadata": {},
   "source": [
    "Having multiple splits of the data also provides some information about how sensitive our model is to the selection of the training dataset. For the iris dataset, we saw accuracies between ~90% and 100%. This is quite a range, and it provides us with an idea about how the model might perform in the worst case and best case scenarios when applied to new data."
   ]
  },
  {
   "cell_type": "markdown",
   "metadata": {},
   "source": [
    "The main disadvantage of cross-validation is increased computational cost. As we are now training k models instead of a single model, cross-validation will be roughly $k$ times slower than doing a single split of the data.\n",
    "\n"
   ]
  },
  {
   "cell_type": "markdown",
   "metadata": {},
   "source": [
    "## Stratified k-Fold Cross-Validation and Other Strategies\n",
    "\n",
    "### k-fold's\n",
    "\n",
    "Splitting the dataset into k folds by starting with the first one-k-th part of the data, as described in the previous section, might not always be a good idea.\n",
    "\n",
    "How would a 3 fold CV work over a dataset with the data ordered as in the iris dataset!? \n",
    "\n",
    "Remember that the targer is ordered as follows:"
   ]
  },
  {
   "cell_type": "code",
   "execution_count": 9,
   "metadata": {
    "ExecuteTime": {
     "end_time": "2024-10-28T09:20:54.152191Z",
     "start_time": "2024-10-28T09:20:54.150342Z"
    }
   },
   "outputs": [
    {
     "name": "stdout",
     "output_type": "stream",
     "text": [
      "[0 0 0 0 0 0 0 0 0 0 0 0 0 0 0 0 0 0 0 0 0 0 0 0 0 0 0 0 0 0 0 0 0 0 0 0 0\n",
      " 0 0 0 0 0 0 0 0 0 0 0 0 0 1 1 1 1 1 1 1 1 1 1 1 1 1 1 1 1 1 1 1 1 1 1 1 1\n",
      " 1 1 1 1 1 1 1 1 1 1 1 1 1 1 1 1 1 1 1 1 1 1 1 1 1 1 2 2 2 2 2 2 2 2 2 2 2\n",
      " 2 2 2 2 2 2 2 2 2 2 2 2 2 2 2 2 2 2 2 2 2 2 2 2 2 2 2 2 2 2 2 2 2 2 2 2 2\n",
      " 2 2]\n"
     ]
    }
   ],
   "source": [
    "print(iris.target)"
   ]
  },
  {
   "cell_type": "markdown",
   "metadata": {},
   "source": [
    "Note that `cross_val_score` by default, uses **stratified k-fold cross-validation**: split the data such that the proportions between classes are the same in each fold as they are in the whole dataset. So the results were not so bad as using standard CV.\n",
    "\n",
    "Let us see how bad it could be (https://scikit-learn.org/stable/modules/generated/sklearn.model_selection.KFold.html) if we use a standard k-fold CV (without shuffling and without stratification)"
   ]
  },
  {
   "cell_type": "code",
   "execution_count": 10,
   "metadata": {
    "ExecuteTime": {
     "end_time": "2024-10-28T09:20:54.165593Z",
     "start_time": "2024-10-28T09:20:54.154246Z"
    }
   },
   "outputs": [],
   "source": [
    "from sklearn.model_selection import KFold\n",
    "kfold = KFold(n_splits=3, \n",
    "              shuffle=False)\n",
    "\n",
    "scores = cross_val_score(estimator=log_reg, \n",
    "                X=iris.data, \n",
    "                y=iris.target, \n",
    "                cv=kfold #  int, cross-validation generator or an iterable, optional\n",
    "               )"
   ]
  },
  {
   "cell_type": "markdown",
   "metadata": {},
   "source": [
    "And the score are... [drum roll...]"
   ]
  },
  {
   "cell_type": "code",
   "execution_count": 11,
   "metadata": {
    "ExecuteTime": {
     "end_time": "2024-10-28T09:20:54.168087Z",
     "start_time": "2024-10-28T09:20:54.166124Z"
    }
   },
   "outputs": [
    {
     "data": {
      "text/plain": "array([0., 0., 0.])"
     },
     "execution_count": 11,
     "metadata": {},
     "output_type": "execute_result"
    }
   ],
   "source": [
    "scores"
   ]
  },
  {
   "cell_type": "markdown",
   "metadata": {},
   "source": [
    "0! Why!!????? Can you guess?"
   ]
  },
  {
   "cell_type": "markdown",
   "metadata": {},
   "source": [
    "With a 5-fold we have some improvements, but..."
   ]
  },
  {
   "cell_type": "code",
   "execution_count": 12,
   "metadata": {
    "ExecuteTime": {
     "end_time": "2024-10-28T09:20:54.187309Z",
     "start_time": "2024-10-28T09:20:54.168647Z"
    }
   },
   "outputs": [
    {
     "data": {
      "text/plain": "array([1.        , 1.        , 0.86666667, 1.        , 0.83333333])"
     },
     "execution_count": 12,
     "metadata": {},
     "output_type": "execute_result"
    }
   ],
   "source": [
    "kfold = KFold(n_splits=5, \n",
    "              shuffle=False)\n",
    "\n",
    "cross_val_score(estimator=log_reg, \n",
    "                X=iris.data, \n",
    "                y=iris.target, \n",
    "                cv=kfold #  int, cross-validation generator or an iterable, optional\n",
    "               )"
   ]
  },
  {
   "cell_type": "markdown",
   "metadata": {},
   "source": [
    "But, Kfold class allows us to shuffle the data\n",
    "(https://scikit-learn.org/stable/modules/classes.html#module-sklearn.model_selection)"
   ]
  },
  {
   "cell_type": "code",
   "execution_count": 13,
   "metadata": {
    "ExecuteTime": {
     "end_time": "2024-10-28T09:20:54.202657Z",
     "start_time": "2024-10-28T09:20:54.188102Z"
    }
   },
   "outputs": [
    {
     "data": {
      "text/plain": "array([0.98, 0.98, 0.96])"
     },
     "execution_count": 13,
     "metadata": {},
     "output_type": "execute_result"
    }
   ],
   "source": [
    "kfold = KFold(n_splits=3, \n",
    "              shuffle=True, \n",
    "              random_state=0)\n",
    "\n",
    "cross_val_score(estimator=log_reg, \n",
    "                X=iris.data, \n",
    "                y=iris.target, \n",
    "                cv=kfold \n",
    "               )"
   ]
  },
  {
   "cell_type": "markdown",
   "metadata": {},
   "source": [
    "### Stratified k-fold\n",
    "\n",
    "Basically, this does the same as the first CV computation example, but with stratified data, i.e., the same proportion of classes in each fold as in the whole dataset. E.g., if the dataset has 100 samples of class 1 and 200 samples of class 2, each fold will have 33 samples of class 1 and 66 samples of class 2.\n",
    "\n",
    "https://scikit-learn.org/stable/modules/generated/sklearn.model_selection.StratifiedKFold.html#sklearn.model_selection.StratifiedKFold"
   ]
  },
  {
   "cell_type": "code",
   "execution_count": 14,
   "metadata": {
    "ExecuteTime": {
     "end_time": "2024-10-28T09:20:54.222359Z",
     "start_time": "2024-10-28T09:20:54.203400Z"
    }
   },
   "outputs": [
    {
     "name": "stdout",
     "output_type": "stream",
     "text": [
      "[1.         1.         0.93333333 0.93333333 1.        ]\n"
     ]
    }
   ],
   "source": [
    "from sklearn.model_selection import StratifiedKFold\n",
    "skf = StratifiedKFold()\n",
    "\n",
    "score = cross_val_score(estimator=log_reg, \n",
    "                X=iris.data, \n",
    "                y=iris.target, \n",
    "                cv=skf #  int, cross-validation generator or an iterable, optional\n",
    "               )\n",
    "print(score)"
   ]
  },
  {
   "cell_type": "markdown",
   "metadata": {},
   "source": [
    "### Leave-one-out CV\n",
    "\n",
    "Leave-one-out cross-validation: is as $k$-fold cross-validation where each fold is a single sample. For each split, you pick a single data point to be the test set. \n",
    "        \n",
    "This can be very time consuming, particularly for large datasets, but sometimes provides better estimates on small datasets because  you are using as much of the data as possible for training.\n",
    "\n",
    "https://scikit-learn.org/stable/modules/generated/sklearn.model_selection.LeaveOneOut.html#sklearn.model_selection.LeaveOneOut"
   ]
  },
  {
   "cell_type": "code",
   "execution_count": 15,
   "metadata": {
    "ExecuteTime": {
     "end_time": "2024-10-28T09:20:54.826736Z",
     "start_time": "2024-10-28T09:20:54.223034Z"
    }
   },
   "outputs": [
    {
     "name": "stderr",
     "output_type": "stream",
     "text": [
      "[Parallel(n_jobs=-1)]: Using backend LokyBackend with 8 concurrent workers.\n",
      "[Parallel(n_jobs=-1)]: Done  65 tasks      | elapsed:    0.1s\n"
     ]
    },
    {
     "name": "stdout",
     "output_type": "stream",
     "text": [
      "[1. 1. 1. 1. 1. 1. 1. 1. 1. 1. 1. 1. 1. 1. 1. 1. 1. 1. 1. 1. 1. 1. 1. 1.\n",
      " 1. 1. 1. 1. 1. 1. 1. 1. 1. 1. 1. 1. 1. 1. 1. 1. 1. 1. 1. 1. 1. 1. 1. 1.\n",
      " 1. 1. 1. 1. 1. 1. 1. 1. 1. 1. 1. 1. 1. 1. 1. 1. 1. 1. 1. 1. 1. 1. 0. 1.\n",
      " 1. 1. 1. 1. 1. 1. 1. 1. 1. 1. 1. 0. 1. 1. 1. 1. 1. 1. 1. 1. 1. 1. 1. 1.\n",
      " 1. 1. 1. 1. 1. 1. 1. 1. 1. 1. 1. 1. 1. 1. 1. 1. 1. 1. 1. 1. 1. 1. 1. 1.\n",
      " 1. 1. 1. 1. 1. 1. 1. 1. 1. 1. 1. 1. 1. 0. 1. 1. 1. 1. 1. 1. 1. 1. 1. 1.\n",
      " 1. 1. 1. 1. 1. 1.]\n"
     ]
    },
    {
     "name": "stderr",
     "output_type": "stream",
     "text": [
      "[Parallel(n_jobs=-1)]: Done 150 out of 150 | elapsed:    0.6s finished\n"
     ]
    }
   ],
   "source": [
    "from sklearn.model_selection import LeaveOneOut\n",
    "loo = LeaveOneOut()\n",
    "\n",
    "score = cross_val_score(estimator=log_reg, \n",
    "                X=iris.data, \n",
    "                y=iris.target, \n",
    "                cv=loo, #  int, cross-validation generator or an iterable, optional\n",
    "                verbose=True,\n",
    "                        n_jobs=-1\n",
    "               )\n",
    "\n",
    "print(score)"
   ]
  },
  {
   "cell_type": "markdown",
   "source": [
    "So, we have 150 samples, and we are training 150 models, meaning that we are training 150 models with 149 samples and testing them with the remaining sample. Resulting in a list of 150 scores."
   ],
   "metadata": {
    "collapsed": false
   }
  },
  {
   "cell_type": "code",
   "execution_count": 16,
   "metadata": {
    "ExecuteTime": {
     "end_time": "2024-10-28T09:20:54.832749Z",
     "start_time": "2024-10-28T09:20:54.829839Z"
    }
   },
   "outputs": [
    {
     "data": {
      "text/plain": "150"
     },
     "execution_count": 16,
     "metadata": {},
     "output_type": "execute_result"
    }
   ],
   "source": [
    "len(score)"
   ]
  },
  {
   "cell_type": "markdown",
   "source": [
    "Now, we can compute the mean and standard deviation of the scores"
   ],
   "metadata": {
    "collapsed": false
   }
  },
  {
   "cell_type": "code",
   "execution_count": 17,
   "metadata": {
    "ExecuteTime": {
     "end_time": "2024-10-28T09:20:54.835576Z",
     "start_time": "2024-10-28T09:20:54.833689Z"
    }
   },
   "outputs": [
    {
     "name": "stdout",
     "output_type": "stream",
     "text": [
      "Mean: 0.98\n",
      "Std: 0.13999999999999999\n"
     ]
    }
   ],
   "source": [
    "mean = score.mean()\n",
    "std = score.std()\n",
    "\n",
    "print(f\"Mean: {mean}\\nStd: {std}\")"
   ]
  },
  {
   "cell_type": "markdown",
   "source": [
    "We can also plot the scores and see how they vary. In this case, we see that the model fails to predict the class in 3 samples."
   ],
   "metadata": {
    "collapsed": false
   }
  },
  {
   "cell_type": "code",
   "execution_count": 18,
   "metadata": {
    "ExecuteTime": {
     "end_time": "2024-10-28T09:20:54.942530Z",
     "start_time": "2024-10-28T09:20:54.836140Z"
    }
   },
   "outputs": [
    {
     "data": {
      "text/plain": "<Figure size 640x480 with 1 Axes>",
      "image/png": "[encoded data removed]"
     },
     "metadata": {},
     "output_type": "display_data"
    }
   ],
   "source": [
    "plt.plot(score)\n",
    "plt.show()"
   ]
  },
  {
   "cell_type": "markdown",
   "metadata": {},
   "source": [
    "### Shuffle-split cross-validation\n",
    "\n",
    "In shuffle-split cross-validation, each split samples `train_size` many points for the training set and `test_size` many (disjoint) point for the test set.\n",
    "\n",
    "This splitting is repeated `n_iter` times. \n",
    "\n",
    "https://scikit-learn.org/stable/modules/generated/sklearn.model_selection.ShuffleSplit.html#sklearn.model_selection.ShuffleSplit"
   ]
  },
  {
   "cell_type": "code",
   "execution_count": 19,
   "metadata": {
    "ExecuteTime": {
     "end_time": "2024-10-28T09:20:55.025749Z",
     "start_time": "2024-10-28T09:20:54.944066Z"
    }
   },
   "outputs": [
    {
     "name": "stdout",
     "output_type": "stream",
     "text": [
      "[1.         0.97368421 0.97368421 1.         0.94736842 1.\n",
      " 0.97368421 1.         0.94736842 1.        ]\n"
     ]
    }
   ],
   "source": [
    "from sklearn.model_selection import ShuffleSplit\n",
    "\n",
    "ss = ShuffleSplit(n_splits=10,      # number of splits\n",
    "                  train_size=.75,   # test_size wil be complement of the train_size\n",
    "                  random_state=1)\n",
    "\n",
    "score = cross_val_score(estimator=log_reg, \n",
    "                X=iris.data, \n",
    "                y=iris.target,  \n",
    "                cv=ss)              #  use the ShuffleSplit object\n",
    "print(score)"
   ]
  },
  {
   "cell_type": "markdown",
   "source": [
    "And the mean and standard deviation of the scores are"
   ],
   "metadata": {
    "collapsed": false
   }
  },
  {
   "cell_type": "code",
   "execution_count": 20,
   "metadata": {
    "ExecuteTime": {
     "end_time": "2024-10-28T09:20:55.037431Z",
     "start_time": "2024-10-28T09:20:55.028248Z"
    }
   },
   "outputs": [
    {
     "name": "stdout",
     "output_type": "stream",
     "text": [
      "Mean: 0.9815789473684211\n",
      "Std: 0.020553288620807002\n"
     ]
    }
   ],
   "source": [
    "mean = score.mean()\n",
    "std = score.std()\n",
    "\n",
    "print(f\"Mean: {mean}\\nStd: {std}\")"
   ]
  },
  {
   "cell_type": "markdown",
   "metadata": {},
   "source": [
    "### Stratified Shuffle-split cross-validation\n",
    "There is also a stratified variant of ShuffleSplit, aptly named StratifiedShuffleSplit, which can provide more reliable results for predicition tasks.\n",
    "\n",
    "https://scikit-learn.org/stable/modules/generated/sklearn.model_selection.StratifiedShuffleSplit.html#sklearn.model_selection.StratifiedShuffleSplit"
   ]
  },
  {
   "cell_type": "code",
   "execution_count": 21,
   "metadata": {
    "ExecuteTime": {
     "end_time": "2024-10-28T09:20:55.102003Z",
     "start_time": "2024-10-28T09:20:55.040531Z"
    }
   },
   "outputs": [
    {
     "name": "stdout",
     "output_type": "stream",
     "text": [
      "[1.         1.         0.97368421 0.94736842 0.94736842 1.\n",
      " 0.94736842 1.         1.         0.94736842]\n"
     ]
    }
   ],
   "source": [
    "from sklearn.model_selection import StratifiedShuffleSplit\n",
    "sss = StratifiedShuffleSplit(\n",
    "    n_splits=10, \n",
    "    train_size=.75, \n",
    "#     test_size wil be complement of the train_size\n",
    "    random_state=1)\n",
    "\n",
    "score = cross_val_score(estimator=log_reg, \n",
    "                X=iris.data, \n",
    "                y=iris.target, \n",
    "                cv=sss)\n",
    "print(score)"
   ]
  },
  {
   "cell_type": "code",
   "execution_count": 22,
   "metadata": {
    "ExecuteTime": {
     "end_time": "2024-10-28T09:20:55.109815Z",
     "start_time": "2024-10-28T09:20:55.105247Z"
    }
   },
   "outputs": [
    {
     "name": "stdout",
     "output_type": "stream",
     "text": [
      "Mean: 0.9763157894736842\n",
      "Std: 0.024826266136991088\n"
     ]
    }
   ],
   "source": [
    "mean = score.mean()\n",
    "std = score.std()\n",
    "\n",
    "print(f\"Mean: {mean}\\nStd: {std}\")"
   ]
  },
  {
   "cell_type": "markdown",
   "metadata": {},
   "source": [
    "See https://scikit-learn.org/stable/modules/classes.html#module-sklearn.model_selection for other options"
   ]
  },
  {
   "cell_type": "code",
   "execution_count": 22,
   "metadata": {
    "ExecuteTime": {
     "end_time": "2024-10-28T09:20:55.113490Z",
     "start_time": "2024-10-28T09:20:55.111949Z"
    }
   },
   "outputs": [],
   "source": []
  }
 ],
 "metadata": {
  "kernelspec": {
   "display_name": "Python 3 (ipykernel)",
   "language": "python",
   "name": "python3"
  },
  "language_info": {
   "codemirror_mode": {
    "name": "ipython",
    "version": 3
   },
   "file_extension": ".py",
   "mimetype": "text/x-python",
   "name": "python",
   "nbconvert_exporter": "python",
   "pygments_lexer": "ipython3",
   "version": "3.11.8"
  },
  "nbTranslate": {
   "displayLangs": [
    "*"
   ],
   "hotkey": "alt-t",
   "langInMainMenu": true,
   "sourceLang": "en",
   "targetLang": "fr",
   "useGoogleTranslate": true
  },
  "toc": {
   "base_numbering": 1,
   "nav_menu": {},
   "number_sections": true,
   "sideBar": true,
   "skip_h1_title": false,
   "title_cell": "Table of Contents",
   "title_sidebar": "Contents",
   "toc_cell": false,
   "toc_position": {},
   "toc_section_display": true,
   "toc_window_display": false
  },
  "varInspector": {
   "cols": {
    "lenName": 16,
    "lenType": 16,
    "lenVar": 40
   },
   "kernels_config": {
    "python": {
     "delete_cmd_postfix": "",
     "delete_cmd_prefix": "del ",
     "library": "var_list.py",
     "varRefreshCmd": "print(var_dic_list())"
    },
    "r": {
     "delete_cmd_postfix": ") ",
     "delete_cmd_prefix": "rm(",
     "library": "var_list.r",
     "varRefreshCmd": "cat(var_dic_list()) "
    }
   },
   "types_to_exclude": [
    "module",
    "function",
    "builtin_function_or_method",
    "instance",
    "_Feature"
   ],
   "window_display": false
  }
 },
 "nbformat": 4,
 "nbformat_minor": 4
}
