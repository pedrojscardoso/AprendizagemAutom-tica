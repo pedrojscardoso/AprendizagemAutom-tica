{
 "cells": [
  {
   "cell_type": "markdown",
   "metadata": {
    "collapsed": false
   },
   "source": [
    "___\n",
    "<h1> Machine Learning </h1>\n",
    "<h2> Systems Engineering and Computer Technologies / Engenharia de Sistemas e Tecnologias Informáticas\n",
    "(LESTI)</h2>\n",
    "<h3> Instituto Superior de Engenharia / Universidade do Algarve </h3>\n",
    "\n",
    "[LESTI](https://ise.ualg.pt/curso/1941) / [ISE](https://ise.ualg.pt) / [UAlg](https://www.ualg.pt)\n",
    "\n",
    "Pedro J. S. Cardoso (pcardoso@ualg.pt)\n",
    "\n",
    "___"
   ]
  },
  {
   "cell_type": "code",
   "execution_count": 1,
   "metadata": {
    "ExecuteTime": {
     "end_time": "2023-11-17T13:08:12.358187Z",
     "start_time": "2023-11-17T13:08:11.399728Z"
    }
   },
   "outputs": [],
   "source": [
    "%matplotlib inline\n",
    "import matplotlib.pyplot as plt\n",
    "\n",
    "from sklearn.datasets import load_iris\n",
    "from sklearn.model_selection import train_test_split\n",
    "from sklearn.model_selection import cross_val_score\n",
    "from sklearn.model_selection import KFold, StratifiedShuffleSplit\n",
    "\n",
    "import pandas as pd"
   ]
  },
  {
   "cell_type": "markdown",
   "metadata": {},
   "source": [
    "# Random Forest\n",
    "\n",
    "A Random Forest is an ensemble learning method used for both classification and regression tasks. It is built upon the idea of decision trees, which are individual models that make decisions based on input features. However, instead of relying on a single decision tree, a Random Forest combines the predictions of multiple decision trees to improve overall accuracy and generalization.\n",
    "\n",
    "Here's how a Random Forest works:\n",
    "\n",
    "- Bootstrap Sampling (Bagging): Random Forest starts by creating multiple subsets of the original dataset through a process called **bootstrap sampling**. This involves randomly selecting samples from the dataset with replacement.\n",
    "- Random Feature Selection: When building each decision tree in the forest, a random subset of features is considered at each split. This helps to introduce diversity among the trees and reduces the risk of overfitting.\n",
    "- Decision Tree Construction: Decision trees are constructed based on the selected samples and features. Each tree in the forest is grown as a full tree without pruning.\n",
    "- Voting or Averaging: For classification tasks, the predictions of individual trees are combined through a majority voting process. In regression tasks, the predictions are averaged.\n",
    "\n",
    "Random Forests offer several advantages, including:\n",
    "- Reduced Overfitting: The combination of multiple trees reduces the risk of overfitting compared to a single decision tree.\n",
    "- Improved Accuracy: The ensemble approach often results in better overall predictive performance.\n",
    "- Feature Importance: Random Forests provide a measure of feature importance, indicating which features contribute more to the model's predictions.\n",
    "\n",
    "The pruning of the trees in the forest is not necessary since the random feature selection and the bootstrap sampling already reduce the risk of overfitting. However, pruning can be applied to further improve the model's performanc. E.g., we can limit the maximum depth of the trees or the maximum number of leaf nodes.\n",
    "\n",
    "Random Forests are widely used in machine learning due to their robustness and versatility. They can handle a variety of data types, handle missing values, and perform well in a range of applications.\n",
    "\n",
    "E.g., Random Forests can be applied to classification and regression tasks as we will see in the following. \n",
    "\n",
    "## Classification\n",
    "In this section we will examine the classification problem and the problem of training Random Forests for classification tasks. We use the Iris data set to train Random Forests.\n",
    "\n",
    "So, let's start..."
   ]
  },
  {
   "cell_type": "code",
   "execution_count": 2,
   "metadata": {
    "ExecuteTime": {
     "end_time": "2023-11-17T13:08:12.526463Z",
     "start_time": "2023-11-17T13:08:12.360185Z"
    }
   },
   "outputs": [],
   "source": [
    "from sklearn.ensemble import RandomForestClassifier\n",
    "\n",
    "iris = load_iris()\n",
    "X_train, X_test, y_train, y_test = train_test_split(iris.data,\n",
    "                                                    iris.target, \n",
    "                                                    train_size=.75,\n",
    "                                                    random_state=42)\n",
    "\n",
    "rfc = RandomForestClassifier(\n",
    "        n_estimators=100, # number of trees\n",
    "        n_jobs=-1, # use all cores\n",
    "        min_samples_leaf=3, # minimum number of samples required to be at a leaf node\n",
    "        max_leaf_nodes=20, # maximum number of leaf nodes\n",
    ").fit(X_train, y_train)"
   ]
  },
  {
   "cell_type": "markdown",
   "source": [
    "Now let's see how well the model performs on the training and test data."
   ],
   "metadata": {
    "collapsed": false
   }
  },
  {
   "cell_type": "code",
   "execution_count": 3,
   "metadata": {
    "ExecuteTime": {
     "end_time": "2023-11-17T13:08:12.536759Z",
     "start_time": "2023-11-17T13:08:12.527737Z"
    }
   },
   "outputs": [
    {
     "name": "stdout",
     "output_type": "stream",
     "text": [
      "scores:0.9642857142857143\n",
      "mu:0.9642857142857143\n"
     ]
    }
   ],
   "source": [
    "scores = rfc.score(X_train, y_train)\n",
    "print(f'scores:{scores}\\nmu:{scores.mean()}')      "
   ]
  },
  {
   "cell_type": "code",
   "execution_count": 4,
   "metadata": {
    "ExecuteTime": {
     "end_time": "2023-11-17T13:08:12.545571Z",
     "start_time": "2023-11-17T13:08:12.537384Z"
    }
   },
   "outputs": [
    {
     "name": "stdout",
     "output_type": "stream",
     "text": [
      "scores:1.0\n",
      "mu:1.0\n"
     ]
    }
   ],
   "source": [
    "scores = rfc.score(X_test, y_test)\n",
    "print(f'scores:{scores}\\nmu:{scores.mean()}')      "
   ]
  },
  {
   "cell_type": "markdown",
   "source": [
    "To make a more robust evaluation of the model, we can use cross-validation."
   ],
   "metadata": {
    "collapsed": false
   }
  },
  {
   "cell_type": "code",
   "execution_count": 5,
   "metadata": {
    "ExecuteTime": {
     "end_time": "2023-11-17T13:08:13.504400Z",
     "start_time": "2023-11-17T13:08:12.548382Z"
    }
   },
   "outputs": [
    {
     "name": "stdout",
     "output_type": "stream",
     "text": [
      "scores:[0.86666667 0.93333333 1.         1.         1.        ]\n",
      "mu:0.96\n"
     ]
    }
   ],
   "source": [
    "sss = StratifiedShuffleSplit(\n",
    "    n_splits=5, \n",
    "    random_state=42\n",
    ")\n",
    "\n",
    "rfc = RandomForestClassifier(\n",
    "        n_estimators=100,\n",
    "        n_jobs=-1,\n",
    "        min_samples_leaf=3, # minimum number of samples required to be at a leaf node\n",
    "        max_leaf_nodes=20, # maximum number of leaf nodes\n",
    ")\n",
    "\n",
    "scores = cross_val_score(\n",
    "    rfc,  \n",
    "    iris.data, \n",
    "    iris.target, \n",
    "    cv=sss\n",
    ")\n",
    "\n",
    "print(f'scores:{scores}\\nmu:{scores.mean()}')"
   ]
  },
  {
   "cell_type": "markdown",
   "source": [
    "What are you conclusions?"
   ],
   "metadata": {
    "collapsed": false
   }
  },
  {
   "cell_type": "markdown",
   "metadata": {},
   "source": [
    "## Regression\n",
    "\n",
    "As already mentioned, Random Forests can also be used for regression tasks. In this section we will examine the problem of training Random Forests for regression tasks. We use the Seoul Bike Sharing Demand data set to train Random Forests. This is a already preprocessed data set, so we can focus on the Random Forests."
   ]
  },
  {
   "cell_type": "code",
   "execution_count": 6,
   "metadata": {
    "ExecuteTime": {
     "end_time": "2023-11-17T13:08:13.544859Z",
     "start_time": "2023-11-17T13:08:13.506924Z"
    }
   },
   "outputs": [],
   "source": [
    "from sklearn.ensemble import RandomForestRegressor\n",
    "\n",
    "df = pd.read_csv('./../../Datasets/SeoulBikeData.csv')\n",
    "\n",
    "# transform categorical columns into dummy variables\n",
    "df = pd.get_dummies(df, columns=['Seasons', 'Holiday', 'Functioning Day'], drop_first=True)\n",
    "\n",
    "# make sure the date column is in datetime format\n",
    "df['Date'] = pd.to_datetime(df['Date'], format='%d/%m/%Y')\n",
    "# create new columns for month, day, and day of week\n",
    "df['month'] = df['Date'].dt.month\n",
    "df['day'] = df['Date'].dt.day\n",
    "df['day_of_week'] = df['Date'].dt.day_of_week\n",
    "\n",
    "# drop the original date column\n",
    "df.drop('Date', axis=1, inplace=True)\n",
    "\n",
    "# Get X and y data\n",
    "X = df.drop('Rented Bike Count', axis=1)\n",
    "y = df['Rented Bike Count']"
   ]
  },
  {
   "cell_type": "markdown",
   "source": [
    "As usual, we split the data into training and test sets."
   ],
   "metadata": {
    "collapsed": false
   }
  },
  {
   "cell_type": "code",
   "execution_count": 7,
   "outputs": [
    {
     "data": {
      "text/plain": "      Hour  Temperature(C)  Humidity(%)  Wind speed (m/s)  Visibility (10m)  \\\n6056     8            27.2           69               1.8              1999   \n5556    12            32.6           51               2.1               800   \n5990    14            34.0           50               1.2              1744   \n7674    18            16.9           47               1.4              1637   \n3319     7             6.4           51               1.0              1398   \n...    ...             ...          ...               ...               ...   \n3238    22             8.8           77               3.2              1258   \n7230     6            14.4           61               1.2              2000   \n7103    23            17.9           66               1.0              2000   \n1527    15             3.6           26               2.4              1687   \n172      4            -5.3           53               2.4              1936   \n\n      Dew point temperature(C)  Solar Radiation (MJ/m2)  Rainfall(mm)  \\\n6056                      21.0                     0.70           0.0   \n5556                      21.1                     3.21           0.0   \n5990                      22.1                     1.68           0.0   \n7674                       5.5                     0.11           0.0   \n3319                      -3.0                     0.19           0.0   \n...                        ...                      ...           ...   \n3238                       4.9                     0.00           0.0   \n7230                       6.9                     0.00           0.0   \n7103                      11.4                     0.00           0.0   \n1527                     -14.1                     0.99           0.0   \n172                      -13.4                     0.00           0.0   \n\n      Snowfall (cm)  Seasons_Spring  Seasons_Summer  Seasons_Winter  \\\n6056            0.0           False            True           False   \n5556            0.0           False            True           False   \n5990            0.0           False            True           False   \n7674            0.0           False           False           False   \n3319            0.0            True           False           False   \n...             ...             ...             ...             ...   \n3238            0.0            True           False           False   \n7230            0.0           False           False           False   \n7103            0.0           False           False           False   \n1527            0.0           False           False            True   \n172             0.0           False           False            True   \n\n      Holiday_No Holiday  Functioning Day_Yes  month  day  day_of_week  \n6056                True                 True      8   10            4  \n5556                True                 True      7   20            4  \n5990                True                 True      8    7            1  \n7674                True                 True     10   16            1  \n3319                True                 True      4   18            2  \n...                  ...                  ...    ...  ...          ...  \n3238                True                 True      4   14            5  \n7230                True                False      9   28            4  \n7103                True                 True      9   22            5  \n1527                True                 True      2    2            4  \n172                 True                 True     12    8            4  \n\n[876 rows x 17 columns]",
      "text/html": "<div>\n<style scoped>\n    .dataframe tbody tr th:only-of-type {\n        vertical-align: middle;\n    }\n\n    .dataframe tbody tr th {\n        vertical-align: top;\n    }\n\n    .dataframe thead th {\n        text-align: right;\n    }\n</style>\n<table border=\"1\" class=\"dataframe\">\n  <thead>\n    <tr style=\"text-align: right;\">\n      <th></th>\n      <th>Hour</th>\n      <th>Temperature(C)</th>\n      <th>Humidity(%)</th>\n      <th>Wind speed (m/s)</th>\n      <th>Visibility (10m)</th>\n      <th>Dew point temperature(C)</th>\n      <th>Solar Radiation (MJ/m2)</th>\n      <th>Rainfall(mm)</th>\n      <th>Snowfall (cm)</th>\n      <th>Seasons_Spring</th>\n      <th>Seasons_Summer</th>\n      <th>Seasons_Winter</th>\n      <th>Holiday_No Holiday</th>\n      <th>Functioning Day_Yes</th>\n      <th>month</th>\n      <th>day</th>\n      <th>day_of_week</th>\n    </tr>\n  </thead>\n  <tbody>\n    <tr>\n      <th>6056</th>\n      <td>8</td>\n      <td>27.2</td>\n      <td>69</td>\n      <td>1.8</td>\n      <td>1999</td>\n      <td>21.0</td>\n      <td>0.70</td>\n      <td>0.0</td>\n      <td>0.0</td>\n      <td>False</td>\n      <td>True</td>\n      <td>False</td>\n      <td>True</td>\n      <td>True</td>\n      <td>8</td>\n      <td>10</td>\n      <td>4</td>\n    </tr>\n    <tr>\n      <th>5556</th>\n      <td>12</td>\n      <td>32.6</td>\n      <td>51</td>\n      <td>2.1</td>\n      <td>800</td>\n      <td>21.1</td>\n      <td>3.21</td>\n      <td>0.0</td>\n      <td>0.0</td>\n      <td>False</td>\n      <td>True</td>\n      <td>False</td>\n      <td>True</td>\n      <td>True</td>\n      <td>7</td>\n      <td>20</td>\n      <td>4</td>\n    </tr>\n    <tr>\n      <th>5990</th>\n      <td>14</td>\n      <td>34.0</td>\n      <td>50</td>\n      <td>1.2</td>\n      <td>1744</td>\n      <td>22.1</td>\n      <td>1.68</td>\n      <td>0.0</td>\n      <td>0.0</td>\n      <td>False</td>\n      <td>True</td>\n      <td>False</td>\n      <td>True</td>\n      <td>True</td>\n      <td>8</td>\n      <td>7</td>\n      <td>1</td>\n    </tr>\n    <tr>\n      <th>7674</th>\n      <td>18</td>\n      <td>16.9</td>\n      <td>47</td>\n      <td>1.4</td>\n      <td>1637</td>\n      <td>5.5</td>\n      <td>0.11</td>\n      <td>0.0</td>\n      <td>0.0</td>\n      <td>False</td>\n      <td>False</td>\n      <td>False</td>\n      <td>True</td>\n      <td>True</td>\n      <td>10</td>\n      <td>16</td>\n      <td>1</td>\n    </tr>\n    <tr>\n      <th>3319</th>\n      <td>7</td>\n      <td>6.4</td>\n      <td>51</td>\n      <td>1.0</td>\n      <td>1398</td>\n      <td>-3.0</td>\n      <td>0.19</td>\n      <td>0.0</td>\n      <td>0.0</td>\n      <td>True</td>\n      <td>False</td>\n      <td>False</td>\n      <td>True</td>\n      <td>True</td>\n      <td>4</td>\n      <td>18</td>\n      <td>2</td>\n    </tr>\n    <tr>\n      <th>...</th>\n      <td>...</td>\n      <td>...</td>\n      <td>...</td>\n      <td>...</td>\n      <td>...</td>\n      <td>...</td>\n      <td>...</td>\n      <td>...</td>\n      <td>...</td>\n      <td>...</td>\n      <td>...</td>\n      <td>...</td>\n      <td>...</td>\n      <td>...</td>\n      <td>...</td>\n      <td>...</td>\n      <td>...</td>\n    </tr>\n    <tr>\n      <th>3238</th>\n      <td>22</td>\n      <td>8.8</td>\n      <td>77</td>\n      <td>3.2</td>\n      <td>1258</td>\n      <td>4.9</td>\n      <td>0.00</td>\n      <td>0.0</td>\n      <td>0.0</td>\n      <td>True</td>\n      <td>False</td>\n      <td>False</td>\n      <td>True</td>\n      <td>True</td>\n      <td>4</td>\n      <td>14</td>\n      <td>5</td>\n    </tr>\n    <tr>\n      <th>7230</th>\n      <td>6</td>\n      <td>14.4</td>\n      <td>61</td>\n      <td>1.2</td>\n      <td>2000</td>\n      <td>6.9</td>\n      <td>0.00</td>\n      <td>0.0</td>\n      <td>0.0</td>\n      <td>False</td>\n      <td>False</td>\n      <td>False</td>\n      <td>True</td>\n      <td>False</td>\n      <td>9</td>\n      <td>28</td>\n      <td>4</td>\n    </tr>\n    <tr>\n      <th>7103</th>\n      <td>23</td>\n      <td>17.9</td>\n      <td>66</td>\n      <td>1.0</td>\n      <td>2000</td>\n      <td>11.4</td>\n      <td>0.00</td>\n      <td>0.0</td>\n      <td>0.0</td>\n      <td>False</td>\n      <td>False</td>\n      <td>False</td>\n      <td>True</td>\n      <td>True</td>\n      <td>9</td>\n      <td>22</td>\n      <td>5</td>\n    </tr>\n    <tr>\n      <th>1527</th>\n      <td>15</td>\n      <td>3.6</td>\n      <td>26</td>\n      <td>2.4</td>\n      <td>1687</td>\n      <td>-14.1</td>\n      <td>0.99</td>\n      <td>0.0</td>\n      <td>0.0</td>\n      <td>False</td>\n      <td>False</td>\n      <td>True</td>\n      <td>True</td>\n      <td>True</td>\n      <td>2</td>\n      <td>2</td>\n      <td>4</td>\n    </tr>\n    <tr>\n      <th>172</th>\n      <td>4</td>\n      <td>-5.3</td>\n      <td>53</td>\n      <td>2.4</td>\n      <td>1936</td>\n      <td>-13.4</td>\n      <td>0.00</td>\n      <td>0.0</td>\n      <td>0.0</td>\n      <td>False</td>\n      <td>False</td>\n      <td>True</td>\n      <td>True</td>\n      <td>True</td>\n      <td>12</td>\n      <td>8</td>\n      <td>4</td>\n    </tr>\n  </tbody>\n</table>\n<p>876 rows × 17 columns</p>\n</div>"
     },
     "execution_count": 7,
     "metadata": {},
     "output_type": "execute_result"
    }
   ],
   "source": [
    "X_train, X_test, y_train, y_test = train_test_split(X,\n",
    "                                                    y,\n",
    "                                                    shuffle=True,\n",
    "                                                    random_state=42,\n",
    "                                                    test_size=0.1)\n",
    "\n",
    "X_test"
   ],
   "metadata": {
    "collapsed": false,
    "ExecuteTime": {
     "end_time": "2023-11-17T13:08:13.551386Z",
     "start_time": "2023-11-17T13:08:13.527589Z"
    }
   }
  },
  {
   "cell_type": "markdown",
   "source": [
    "Now let's train a Random Forest Regressor."
   ],
   "metadata": {
    "collapsed": false
   }
  },
  {
   "cell_type": "code",
   "execution_count": 8,
   "outputs": [
    {
     "data": {
      "text/plain": "0.7873710271859935"
     },
     "execution_count": 8,
     "metadata": {},
     "output_type": "execute_result"
    }
   ],
   "source": [
    "rfr = RandomForestRegressor( \n",
    "        n_estimators=100,\n",
    "        n_jobs=-1,\n",
    "        min_samples_leaf=3, # minimum number of samples required to be at a leaf node\n",
    "        max_leaf_nodes=20, # maximum number of leaf nodes\n",
    "        random_state=42).fit(X_train, y_train)\n",
    "\n",
    "y_pred = rfr.predict(X_test)\n",
    "\n",
    "score = rfr.score(X_test, y_test)\n",
    "score        "
   ],
   "metadata": {
    "collapsed": false,
    "ExecuteTime": {
     "end_time": "2023-11-17T13:08:13.765533Z",
     "start_time": "2023-11-17T13:08:13.538159Z"
    }
   }
  },
  {
   "cell_type": "code",
   "execution_count": 9,
   "metadata": {
    "ExecuteTime": {
     "end_time": "2023-11-17T13:08:13.992856Z",
     "start_time": "2023-11-17T13:08:13.767559Z"
    }
   },
   "outputs": [
    {
     "data": {
      "text/plain": "<matplotlib.legend.Legend at 0x1379eda20>"
     },
     "execution_count": 9,
     "metadata": {},
     "output_type": "execute_result"
    },
    {
     "data": {
      "text/plain": "<Figure size 1500x1000 with 1 Axes>",
      "image/png": "[encoded data removed]"
     },
     "metadata": {},
     "output_type": "display_data"
    }
   ],
   "source": [
    "y_pred = rfr.predict(X_test)\n",
    "\n",
    "plt.figure(figsize=(15,10))\n",
    "\n",
    "plt.plot(y_test, y_pred, c='b', marker='o', linestyle='')\n",
    "plt.plot(y_test, y_test, c='r', linestyle='--')\n",
    "plt.xlabel('test')\n",
    "plt.ylabel('pred')\n",
    "\n",
    "plt.legend([\"test\", '\"perfect regressor\"'])"
   ]
  },
  {
   "cell_type": "markdown",
   "source": [
    "To make a more robust evaluation of the model, we can use cross-validation."
   ],
   "metadata": {
    "collapsed": false
   }
  },
  {
   "cell_type": "code",
   "execution_count": 10,
   "metadata": {
    "ExecuteTime": {
     "end_time": "2023-11-17T13:08:16.460364Z",
     "start_time": "2023-11-17T13:08:13.995898Z"
    }
   },
   "outputs": [
    {
     "name": "stdout",
     "output_type": "stream",
     "text": [
      "scores:[-0.17014521  0.00998305 -0.0214858   0.04443584  0.70224263  0.78161885\n",
      "  0.69813152  0.74875121  0.55838061  0.7686028   0.63129036  0.32921734]\n",
      "mu:0.423418601017085\n"
     ]
    }
   ],
   "source": [
    "from sklearn.model_selection import ShuffleSplit\n",
    "\n",
    "\n",
    "rfr = RandomForestRegressor(\n",
    "    n_estimators=100,\n",
    "    n_jobs=-1,\n",
    "    min_samples_leaf=3, # minimum number of samples required to be at a leaf node\n",
    "    max_leaf_nodes=20, # maximum number of leaf nodes\n",
    ")\n",
    "\n",
    "scores = cross_val_score(\n",
    "    rfr, # model\n",
    "    X, \n",
    "    y,\n",
    "    cv=12\n",
    ")\n",
    "\n",
    "print(f'scores:{scores}\\nmu:{scores.mean()}')"
   ]
  },
  {
   "cell_type": "markdown",
   "source": [
    "Have a look at the following lines and propose a theory to explain the not so good results."
   ],
   "metadata": {
    "collapsed": false
   }
  },
  {
   "cell_type": "code",
   "execution_count": 11,
   "outputs": [
    {
     "data": {
      "text/plain": "'The records are from 2017-12-01 00:00:00 to 2018-11-30 00:00:00'"
     },
     "execution_count": 11,
     "metadata": {},
     "output_type": "execute_result"
    }
   ],
   "source": [
    "df = pd.read_csv('./../../Datasets/SeoulBikeData.csv')\n",
    "df['Date'] = pd.to_datetime(df['Date'], format='%d/%m/%Y')\n",
    "\n",
    "f'The records are from {df.Date.min()} to {df.Date.max()}'"
   ],
   "metadata": {
    "collapsed": false,
    "ExecuteTime": {
     "end_time": "2023-11-17T13:08:16.471426Z",
     "start_time": "2023-11-17T13:08:16.460990Z"
    }
   }
  },
  {
   "cell_type": "code",
   "execution_count": 11,
   "outputs": [],
   "source": [],
   "metadata": {
    "collapsed": false,
    "ExecuteTime": {
     "end_time": "2023-11-17T13:08:16.474656Z",
     "start_time": "2023-11-17T13:08:16.471697Z"
    }
   }
  }
 ],
 "metadata": {
  "kernelspec": {
   "display_name": "Python 3 (ipykernel)",
   "language": "python",
   "name": "python3"
  },
  "language_info": {
   "codemirror_mode": {
    "name": "ipython",
    "version": 3
   },
   "file_extension": ".py",
   "mimetype": "text/x-python",
   "name": "python",
   "nbconvert_exporter": "python",
   "pygments_lexer": "ipython3",
   "version": "3.10.13"
  },
  "nbTranslate": {
   "displayLangs": [
    "*"
   ],
   "hotkey": "alt-t",
   "langInMainMenu": true,
   "sourceLang": "en",
   "targetLang": "fr",
   "useGoogleTranslate": true
  },
  "toc": {
   "base_numbering": 1,
   "nav_menu": {},
   "number_sections": true,
   "sideBar": true,
   "skip_h1_title": false,
   "title_cell": "Table of Contents",
   "title_sidebar": "Contents",
   "toc_cell": false,
   "toc_position": {},
   "toc_section_display": true,
   "toc_window_display": false
  },
  "varInspector": {
   "cols": {
    "lenName": 16,
    "lenType": 16,
    "lenVar": 40
   },
   "kernels_config": {
    "python": {
     "delete_cmd_postfix": "",
     "delete_cmd_prefix": "del ",
     "library": "var_list.py",
     "varRefreshCmd": "print(var_dic_list())"
    },
    "r": {
     "delete_cmd_postfix": ") ",
     "delete_cmd_prefix": "rm(",
     "library": "var_list.r",
     "varRefreshCmd": "cat(var_dic_list()) "
    }
   },
   "types_to_exclude": [
    "module",
    "function",
    "builtin_function_or_method",
    "instance",
    "_Feature"
   ],
   "window_display": false
  }
 },
 "nbformat": 4,
 "nbformat_minor": 4
}
