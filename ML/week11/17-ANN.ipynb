{
 "cells": [
  {
   "cell_type": "markdown",
   "source": [],
   "metadata": {
    "collapsed": false
   }
  },
  {
   "cell_type": "markdown",
   "source": [
    "___\n",
    "<h1> Machine Learning </h1>\n",
    "<h2> Systems Engineering and Computer Technologies / Engenharia de Sistemas e Tecnologias Informáticas\n",
    "(LESTI)</h2>\n",
    "<h3> Instituto Superior de Engenharia / Universidade do Algarve </h3>\n",
    "\n",
    "[LESTI](https://ise.ualg.pt/curso/1941) / [ISE](https://ise.ualg.pt) / [UAlg](https://www.ualg.pt)\n",
    "\n",
    "Pedro J. S. Cardoso (pcardoso@ualg.pt)\n",
    "\n",
    "___"
   ],
   "metadata": {
    "collapsed": false
   }
  },
  {
   "cell_type": "markdown",
   "source": [
    "# Neural Networks in Sklearn"
   ],
   "metadata": {
    "collapsed": false
   }
  },
  {
   "cell_type": "code",
   "execution_count": 3,
   "metadata": {
    "ExecuteTime": {
     "end_time": "2023-11-13T10:49:58.309885Z",
     "start_time": "2023-11-13T10:49:58.306520Z"
    }
   },
   "outputs": [],
   "source": [
    "from sklearn.datasets import load_iris, load_digits\n",
    "from sklearn.neural_network import MLPClassifier\n",
    "from sklearn.model_selection import train_test_split\n",
    "\n",
    "import matplotlib.pyplot as plt"
   ]
  },
  {
   "cell_type": "markdown",
   "metadata": {},
   "source": [
    "## Iris dataset\n",
    "In this section, we'll use the Iris dataset to make out first example.\n",
    "\n",
    "So, load and split data:"
   ]
  },
  {
   "cell_type": "code",
   "execution_count": 4,
   "metadata": {
    "ExecuteTime": {
     "end_time": "2023-11-13T10:50:01.040142Z",
     "start_time": "2023-11-13T10:50:01.017788Z"
    }
   },
   "outputs": [],
   "source": [
    "iris = load_iris()\n",
    "X_train, X_test, y_train, y_test = train_test_split(iris.data, iris.target, random_state=1)"
   ]
  },
  {
   "cell_type": "markdown",
   "metadata": {},
   "source": [
    "Prepare a multi-layer perceptron classifier (MLPClassifier), train and get the score over the test data\n",
    "\n",
    "(https://scikit-learn.org/stable/modules/generated/sklearn.neural_network.MLPClassifier.html)"
   ]
  },
  {
   "cell_type": "code",
   "execution_count": 5,
   "metadata": {
    "scrolled": true,
    "ExecuteTime": {
     "end_time": "2023-11-13T10:50:06.234402Z",
     "start_time": "2023-11-13T10:50:06.176667Z"
    }
   },
   "outputs": [
    {
     "name": "stderr",
     "output_type": "stream",
     "text": [
      "/Users/pcardoso/anaconda3/envs/AprendizagemAutomatica/lib/python3.10/site-packages/sklearn/neural_network/_multilayer_perceptron.py:702: ConvergenceWarning: Stochastic Optimizer: Maximum iterations (200) reached and the optimization hasn't converged yet.\n",
      "  warnings.warn(\n"
     ]
    },
    {
     "data": {
      "text/plain": "0.8947368421052632"
     },
     "execution_count": 5,
     "metadata": {},
     "output_type": "execute_result"
    }
   ],
   "source": [
    "clf = MLPClassifier(\n",
    "    # verbose=True  # uncomment to see loss function evolution\n",
    "    random_state=1\n",
    ").fit(X_train, y_train)\n",
    "clf.score(X_test, y_test)"
   ]
  },
  {
   "cell_type": "markdown",
   "metadata": {},
   "source": [
    "ok...!? let us see if we can improve this... The used parameters were:"
   ]
  },
  {
   "cell_type": "code",
   "execution_count": 6,
   "metadata": {
    "ExecuteTime": {
     "end_time": "2023-11-13T10:50:12.127546Z",
     "start_time": "2023-11-13T10:50:12.116402Z"
    }
   },
   "outputs": [
    {
     "data": {
      "text/plain": "{'activation': 'relu',\n 'alpha': 0.0001,\n 'batch_size': 'auto',\n 'beta_1': 0.9,\n 'beta_2': 0.999,\n 'early_stopping': False,\n 'epsilon': 1e-08,\n 'hidden_layer_sizes': (100,),\n 'learning_rate': 'constant',\n 'learning_rate_init': 0.001,\n 'max_fun': 15000,\n 'max_iter': 200,\n 'momentum': 0.9,\n 'n_iter_no_change': 10,\n 'nesterovs_momentum': True,\n 'power_t': 0.5,\n 'random_state': 1,\n 'shuffle': True,\n 'solver': 'adam',\n 'tol': 0.0001,\n 'validation_fraction': 0.1,\n 'verbose': False,\n 'warm_start': False}"
     },
     "execution_count": 6,
     "metadata": {},
     "output_type": "execute_result"
    }
   ],
   "source": [
    "clf.get_params()"
   ]
  },
  {
   "cell_type": "markdown",
   "metadata": {},
   "source": [
    "What if the maximum number of iterations (epochs) is increased?"
   ]
  },
  {
   "cell_type": "code",
   "execution_count": 7,
   "metadata": {
    "ExecuteTime": {
     "end_time": "2023-11-13T10:50:19.600783Z",
     "start_time": "2023-11-13T10:50:19.453793Z"
    }
   },
   "outputs": [
    {
     "data": {
      "text/plain": "1.0"
     },
     "execution_count": 7,
     "metadata": {},
     "output_type": "execute_result"
    }
   ],
   "source": [
    "clf = MLPClassifier(\n",
    "    max_iter=1000,\n",
    "    random_state=1\n",
    "    # verbose=True  # uncomment to see loss function evolution\n",
    ").fit(X_train, y_train)\n",
    "\n",
    "clf.score(X_test, y_test)"
   ]
  },
  {
   "cell_type": "markdown",
   "metadata": {},
   "source": [
    "That is good! Maybe there were other alternatives, like using more layers...?"
   ]
  },
  {
   "cell_type": "code",
   "execution_count": 9,
   "metadata": {
    "scrolled": true,
    "ExecuteTime": {
     "end_time": "2023-11-13T10:50:47.530840Z",
     "start_time": "2023-11-13T10:50:46.648922Z"
    }
   },
   "outputs": [
    {
     "data": {
      "text/plain": "1.0"
     },
     "execution_count": 9,
     "metadata": {},
     "output_type": "execute_result"
    }
   ],
   "source": [
    "clf = MLPClassifier(\n",
    "    hidden_layer_sizes=(100, 100),\n",
    "    random_state=1,\n",
    "    max_iter=1000,\n",
    "    # verbose=True\n",
    ").fit(X_train, y_train)\n",
    "\n",
    "clf.score(X_test, y_test)"
   ]
  },
  {
   "cell_type": "markdown",
   "metadata": {},
   "source": [
    "The probabilities associated to each test instance are "
   ]
  },
  {
   "cell_type": "code",
   "execution_count": 10,
   "metadata": {
    "ExecuteTime": {
     "end_time": "2023-11-13T10:50:51.845677Z",
     "start_time": "2023-11-13T10:50:51.785966Z"
    }
   },
   "outputs": [
    {
     "data": {
      "text/plain": "array([[9.99977670e-01, 2.23300648e-05, 1.14731775e-12],\n       [1.98956861e-02, 9.79957823e-01, 1.46490654e-04],\n       [1.30671593e-04, 9.99606803e-01, 2.62525363e-04],\n       [9.99947954e-01, 5.20456751e-05, 1.00789476e-11],\n       [1.16690239e-06, 7.26287609e-02, 9.27370072e-01],\n       [2.40900080e-04, 9.89332609e-01, 1.04264913e-02],\n       [2.42611004e-06, 2.06088731e-02, 9.79388701e-01],\n       [9.99609767e-01, 3.90232551e-04, 1.54365975e-10],\n       [9.99195075e-01, 8.04924676e-04, 5.57143123e-10],\n       [4.51908145e-08, 5.80005239e-04, 9.99419950e-01],\n       [3.37350019e-04, 9.94578001e-01, 5.08464864e-03],\n       [9.99855213e-01, 1.44787366e-04, 2.90778563e-11],\n       [3.59169775e-08, 1.09643639e-03, 9.98903528e-01],\n       [2.10016310e-04, 9.98713929e-01, 1.07605461e-03],\n       [2.31323653e-04, 9.76361933e-01, 2.34067435e-02],\n       [9.99618878e-01, 3.81121384e-04, 4.46453745e-10],\n       [2.73978384e-04, 9.99344648e-01, 3.81373427e-04],\n       [4.30112552e-04, 9.34425499e-01, 6.51443882e-02],\n       [9.99618821e-01, 3.81178412e-04, 1.13727415e-10],\n       [9.99753133e-01, 2.46866556e-04, 9.54398948e-11],\n       [2.48698783e-04, 9.81717641e-01, 1.80336602e-02],\n       [5.20871303e-04, 8.66184813e-01, 1.33294315e-01],\n       [6.55378203e-05, 8.16635301e-01, 1.83299161e-01],\n       [9.99844905e-01, 1.55094773e-04, 6.30333629e-11],\n       [8.02552128e-07, 3.40831796e-02, 9.65916018e-01],\n       [3.75698809e-04, 9.98598511e-01, 1.02579033e-03],\n       [9.99976938e-01, 2.30618766e-05, 1.80305149e-12],\n       [9.99891395e-01, 1.08604953e-04, 3.00369300e-11],\n       [1.09670046e-04, 9.94957042e-01, 4.93328788e-03],\n       [1.44475240e-06, 1.50161502e-02, 9.84982405e-01],\n       [1.91919783e-04, 9.92948636e-01, 6.85944400e-03],\n       [9.95951423e-09, 6.16604924e-04, 9.99383385e-01],\n       [3.65893568e-04, 9.99308175e-01, 3.25931178e-04],\n       [2.14113971e-08, 2.31005423e-04, 9.99768973e-01],\n       [2.53575879e-08, 5.68786808e-05, 9.99943096e-01],\n       [9.99880558e-01, 1.19441822e-04, 1.89285485e-11],\n       [2.76002482e-04, 9.86325018e-01, 1.33989796e-02],\n       [9.99779865e-01, 2.20134596e-04, 5.16545465e-11]])"
     },
     "execution_count": 10,
     "metadata": {},
     "output_type": "execute_result"
    }
   ],
   "source": [
    "clf.predict_proba(X_test)"
   ]
  },
  {
   "cell_type": "code",
   "execution_count": 11,
   "metadata": {
    "ExecuteTime": {
     "end_time": "2023-11-13T10:50:54.633197Z",
     "start_time": "2023-11-13T10:50:54.376365Z"
    }
   },
   "outputs": [
    {
     "data": {
      "text/plain": "(array([[25.,  0.,  0.,  0.,  0.,  0.,  0.,  0.,  0., 13.],\n        [22.,  0.,  0.,  0.,  0.,  0.,  0.,  0.,  2., 14.],\n        [27.,  2.,  0.,  0.,  0.,  0.,  0.,  0.,  0.,  9.]]),\n array([1.14731775e-12, 9.99977670e-02, 1.99995534e-01, 2.99993301e-01,\n        3.99991068e-01, 4.99988835e-01, 5.99986602e-01, 6.99984369e-01,\n        7.99982136e-01, 8.99979903e-01, 9.99977670e-01]),\n <a list of 3 BarContainer objects>)"
     },
     "execution_count": 11,
     "metadata": {},
     "output_type": "execute_result"
    },
    {
     "data": {
      "text/plain": "<Figure size 640x480 with 1 Axes>",
      "image/png": "[encoded data removed]"
     },
     "metadata": {},
     "output_type": "display_data"
    }
   ],
   "source": [
    "plt.hist(clf.predict_proba(X_test))"
   ]
  },
  {
   "cell_type": "markdown",
   "metadata": {},
   "source": [
    "## Digits dataset\n",
    "\n",
    "Let us do a similar analysis using the digits dataset"
   ]
  },
  {
   "cell_type": "code",
   "execution_count": 12,
   "metadata": {
    "ExecuteTime": {
     "end_time": "2023-11-13T10:51:04.101099Z",
     "start_time": "2023-11-13T10:51:04.085549Z"
    }
   },
   "outputs": [],
   "source": [
    "digits = load_digits()\n",
    "X_train, X_test, y_train, y_test = train_test_split(digits.data, digits.target, random_state=1)"
   ]
  },
  {
   "cell_type": "markdown",
   "metadata": {},
   "source": [
    "With default parameters the results are the following"
   ]
  },
  {
   "cell_type": "code",
   "execution_count": 13,
   "metadata": {
    "ExecuteTime": {
     "end_time": "2023-11-13T10:51:09.799190Z",
     "start_time": "2023-11-13T10:51:08.639998Z"
    }
   },
   "outputs": [
    {
     "data": {
      "text/plain": "0.9755555555555555"
     },
     "execution_count": 13,
     "metadata": {},
     "output_type": "execute_result"
    }
   ],
   "source": [
    "clf = MLPClassifier(random_state=1).fit(X_train, y_train)\n",
    "\n",
    "clf.score(X_test, y_test)"
   ]
  },
  {
   "cell_type": "markdown",
   "metadata": {},
   "source": [
    "Not bad! Can it be improved?"
   ]
  },
  {
   "cell_type": "code",
   "execution_count": 14,
   "metadata": {
    "ExecuteTime": {
     "end_time": "2023-11-13T10:51:14.018115Z",
     "start_time": "2023-11-13T10:51:12.573338Z"
    }
   },
   "outputs": [
    {
     "data": {
      "text/plain": "0.9866666666666667"
     },
     "execution_count": 14,
     "metadata": {},
     "output_type": "execute_result"
    }
   ],
   "source": [
    "clf = MLPClassifier(\n",
    "    max_iter=1000,\n",
    "    hidden_layer_sizes=(100, 100),\n",
    "    random_state=1\n",
    ").fit(X_train, y_train)\n",
    "\n",
    "clf.score(X_test, y_test)"
   ]
  },
  {
   "cell_type": "markdown",
   "metadata": {},
   "source": [
    "It was not worst but there isn't much space to improve. Another try...?"
   ]
  },
  {
   "cell_type": "code",
   "execution_count": 15,
   "metadata": {
    "ExecuteTime": {
     "end_time": "2023-11-13T10:52:05.685240Z",
     "start_time": "2023-11-13T10:51:20.180687Z"
    }
   },
   "outputs": [
    {
     "name": "stderr",
     "output_type": "stream",
     "text": [
      "/Users/pcardoso/anaconda3/envs/AprendizagemAutomatica/lib/python3.10/site-packages/sklearn/neural_network/_multilayer_perceptron.py:702: ConvergenceWarning: Stochastic Optimizer: Maximum iterations (1000) reached and the optimization hasn't converged yet.\n",
      "  warnings.warn(\n"
     ]
    },
    {
     "data": {
      "text/plain": "0.9844444444444445"
     },
     "execution_count": 15,
     "metadata": {},
     "output_type": "execute_result"
    }
   ],
   "source": [
    "clf = MLPClassifier(\n",
    "    max_iter=1000,\n",
    "    tol=1e-10,\n",
    "    hidden_layer_sizes=(1000),\n",
    "    random_state=1\n",
    ").fit(X_train, y_train)\n",
    "\n",
    "clf.score(X_test, y_test)"
   ]
  },
  {
   "cell_type": "markdown",
   "metadata": {},
   "source": [
    "And again...!? Since it did not converge, let us increase the maximum iterations number"
   ]
  },
  {
   "cell_type": "code",
   "execution_count": 16,
   "metadata": {
    "ExecuteTime": {
     "end_time": "2023-11-13T10:54:03.687905Z",
     "start_time": "2023-11-13T10:52:05.688530Z"
    }
   },
   "outputs": [
    {
     "data": {
      "text/plain": "0.9911111111111112"
     },
     "execution_count": 16,
     "metadata": {},
     "output_type": "execute_result"
    }
   ],
   "source": [
    "clf = MLPClassifier(\n",
    "    max_iter=10000,\n",
    "    tol=1e-10,\n",
    "    hidden_layer_sizes=(1000,),\n",
    "    random_state=1,\n",
    "    activation='tanh',\n",
    ").fit(X_train, y_train)\n",
    "\n",
    "clf.score(X_test, y_test)"
   ]
  },
  {
   "cell_type": "code",
   "execution_count": null,
   "outputs": [],
   "source": [],
   "metadata": {
    "collapsed": false
   }
  }
 ],
 "metadata": {
  "kernelspec": {
   "display_name": "Python 3",
   "language": "python",
   "name": "python3"
  },
  "language_info": {
   "codemirror_mode": {
    "name": "ipython",
    "version": 3
   },
   "file_extension": ".py",
   "mimetype": "text/x-python",
   "name": "python",
   "nbconvert_exporter": "python",
   "pygments_lexer": "ipython3",
   "version": "3.8.5"
  },
  "nbTranslate": {
   "displayLangs": [
    "*"
   ],
   "hotkey": "alt-t",
   "langInMainMenu": true,
   "sourceLang": "en",
   "targetLang": "fr",
   "useGoogleTranslate": true
  },
  "toc": {
   "base_numbering": 1,
   "nav_menu": {},
   "number_sections": true,
   "sideBar": true,
   "skip_h1_title": false,
   "title_cell": "Table of Contents",
   "title_sidebar": "Contents",
   "toc_cell": false,
   "toc_position": {},
   "toc_section_display": true,
   "toc_window_display": false
  },
  "varInspector": {
   "cols": {
    "lenName": 16,
    "lenType": 16,
    "lenVar": 40
   },
   "kernels_config": {
    "python": {
     "delete_cmd_postfix": "",
     "delete_cmd_prefix": "del ",
     "library": "var_list.py",
     "varRefreshCmd": "print(var_dic_list())"
    },
    "r": {
     "delete_cmd_postfix": ") ",
     "delete_cmd_prefix": "rm(",
     "library": "var_list.r",
     "varRefreshCmd": "cat(var_dic_list()) "
    }
   },
   "types_to_exclude": [
    "module",
    "function",
    "builtin_function_or_method",
    "instance",
    "_Feature"
   ],
   "window_display": false
  }
 },
 "nbformat": 4,
 "nbformat_minor": 4
}
