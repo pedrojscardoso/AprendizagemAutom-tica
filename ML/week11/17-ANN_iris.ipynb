{
 "cells": [
  {
   "cell_type": "markdown",
   "source": [],
   "metadata": {
    "collapsed": false
   }
  },
  {
   "cell_type": "markdown",
   "source": [
    "___\n",
    "<h1> Machine Learning </h1>\n",
    "<h2> Systems Engineering and Computer Technologies / Engenharia de Sistemas e Tecnologias Informáticas\n",
    "(LESTI)</h2>\n",
    "<h3> Instituto Superior de Engenharia / Universidade do Algarve </h3>\n",
    "\n",
    "[LESTI](https://ise.ualg.pt/curso/1941) / [ISE](https://ise.ualg.pt) / [UAlg](https://www.ualg.pt)\n",
    "\n",
    "Pedro J. S. Cardoso (pcardoso@ualg.pt)\n",
    "\n",
    "___"
   ],
   "metadata": {
    "collapsed": false
   }
  },
  {
   "cell_type": "markdown",
   "source": [
    "# Neural Networks in Sklearn\n",
    "\n",
    "Several libraries implement Artificial Neural Networks. For example, you can find its implementation in \n",
    "- SKLearn (https://scikit-learn.org/stable/modules/neural_networks_supervised.html)\n",
    "- Keras (https://keras.io/)\n",
    "- Tensorflow (https://www.tensorflow.org/)\n",
    "- PyTorch (https://pytorch.org/)\n",
    "- ...\n",
    "\n",
    "Some of these can take advantage of the GPU to speed up the training process. That is the case of Tensorflow and PyTorch. But for now, we'll use the SKLearn implementation, which is simpler and enough for our purposes."
   ],
   "metadata": {
    "collapsed": false
   }
  },
  {
   "cell_type": "markdown",
   "metadata": {},
   "source": [
    "## Iris dataset\n",
    "\n",
    "Again, we'll use the Iris dataset. So, import necessary libraries, load, and split data:"
   ]
  },
  {
   "cell_type": "code",
   "execution_count": 17,
   "outputs": [],
   "source": [
    "from sklearn.datasets import load_iris, load_digits\n",
    "from sklearn.neural_network import MLPClassifier\n",
    "from sklearn.model_selection import train_test_split\n",
    "\n",
    "import matplotlib.pyplot as plt\n",
    "\n",
    "import numpy as np"
   ],
   "metadata": {
    "collapsed": false,
    "ExecuteTime": {
     "end_time": "2023-11-20T11:37:04.145611Z",
     "start_time": "2023-11-20T11:37:04.143108Z"
    }
   }
  },
  {
   "cell_type": "code",
   "execution_count": 18,
   "metadata": {
    "ExecuteTime": {
     "end_time": "2023-11-20T11:37:04.864790Z",
     "start_time": "2023-11-20T11:37:04.851903Z"
    }
   },
   "outputs": [],
   "source": [
    "iris = load_iris()\n",
    "X_train, X_test, y_train, y_test = train_test_split(iris.data, iris.target, random_state=1)"
   ]
  },
  {
   "cell_type": "markdown",
   "metadata": {},
   "source": [
    "Prepare a multi-layer perceptron classifier (MLPClassifier). By default it has a single hidden layer with 100 neurons, and uses the ReLU activation function. For more details, see the [documentation]\n",
    "\n",
    "(https://scikit-learn.org/stable/modules/generated/sklearn.neural_network.MLPClassifier.html)"
   ]
  },
  {
   "cell_type": "code",
   "execution_count": 19,
   "metadata": {
    "scrolled": true,
    "ExecuteTime": {
     "end_time": "2023-11-20T11:37:05.289769Z",
     "start_time": "2023-11-20T11:37:05.283002Z"
    }
   },
   "outputs": [],
   "source": [
    "clf = MLPClassifier(\n",
    "    verbose=True,  # uncomment to see loss function evolution\n",
    "    random_state=1\n",
    ")"
   ]
  },
  {
   "cell_type": "markdown",
   "source": [
    "Train the classifier and evaluate its performance"
   ],
   "metadata": {
    "collapsed": false
   }
  },
  {
   "cell_type": "code",
   "execution_count": 20,
   "outputs": [
    {
     "name": "stdout",
     "output_type": "stream",
     "text": [
      "Iteration 1, loss = 1.71069437\n",
      "Iteration 2, loss = 1.63629807\n",
      "Iteration 3, loss = 1.56591723\n",
      "Iteration 4, loss = 1.49981392\n",
      "Iteration 5, loss = 1.43858696\n",
      "Iteration 6, loss = 1.38270218\n",
      "Iteration 7, loss = 1.33281817\n",
      "Iteration 8, loss = 1.28931136\n",
      "Iteration 9, loss = 1.25225124\n",
      "Iteration 10, loss = 1.22155085\n",
      "Iteration 11, loss = 1.19690082\n",
      "Iteration 12, loss = 1.17768198\n",
      "Iteration 13, loss = 1.16289459\n",
      "Iteration 14, loss = 1.15122028\n",
      "Iteration 15, loss = 1.14139153\n",
      "Iteration 16, loss = 1.13221099\n",
      "Iteration 17, loss = 1.12273157\n",
      "Iteration 18, loss = 1.11224969\n",
      "Iteration 19, loss = 1.10051110\n",
      "Iteration 20, loss = 1.08736187\n",
      "Iteration 21, loss = 1.07294462\n",
      "Iteration 22, loss = 1.05751557\n",
      "Iteration 23, loss = 1.04149252\n",
      "Iteration 24, loss = 1.02524020\n",
      "Iteration 25, loss = 1.00908097\n",
      "Iteration 26, loss = 0.99331206\n",
      "Iteration 27, loss = 0.97815806\n",
      "Iteration 28, loss = 0.96379018\n",
      "Iteration 29, loss = 0.95036093\n",
      "Iteration 30, loss = 0.93779812\n",
      "Iteration 31, loss = 0.92603472\n",
      "Iteration 32, loss = 0.91494981\n",
      "Iteration 33, loss = 0.90439149\n",
      "Iteration 34, loss = 0.89424861\n",
      "Iteration 35, loss = 0.88432735\n",
      "Iteration 36, loss = 0.87451553\n",
      "Iteration 37, loss = 0.86478669\n",
      "Iteration 38, loss = 0.85505516\n",
      "Iteration 39, loss = 0.84534302\n",
      "Iteration 40, loss = 0.83567985\n",
      "Iteration 41, loss = 0.82605136\n",
      "Iteration 42, loss = 0.81647635\n",
      "Iteration 43, loss = 0.80707085\n",
      "Iteration 44, loss = 0.79787952\n",
      "Iteration 45, loss = 0.78892424\n",
      "Iteration 46, loss = 0.78018015\n",
      "Iteration 47, loss = 0.77172612\n",
      "Iteration 48, loss = 0.76364606\n",
      "Iteration 49, loss = 0.75591153\n",
      "Iteration 50, loss = 0.74845508\n",
      "Iteration 51, loss = 0.74128696\n",
      "Iteration 52, loss = 0.73431557\n",
      "Iteration 53, loss = 0.72749353\n",
      "Iteration 54, loss = 0.72080347\n",
      "Iteration 55, loss = 0.71420589\n",
      "Iteration 56, loss = 0.70771214\n",
      "Iteration 57, loss = 0.70131517\n",
      "Iteration 58, loss = 0.69502313\n",
      "Iteration 59, loss = 0.68884954\n",
      "Iteration 60, loss = 0.68280831\n",
      "Iteration 61, loss = 0.67697239\n",
      "Iteration 62, loss = 0.67131637\n",
      "Iteration 63, loss = 0.66583928\n",
      "Iteration 64, loss = 0.66057066\n",
      "Iteration 65, loss = 0.65550987\n",
      "Iteration 66, loss = 0.65062648\n",
      "Iteration 67, loss = 0.64590002\n",
      "Iteration 68, loss = 0.64127317\n",
      "Iteration 69, loss = 0.63673263\n",
      "Iteration 70, loss = 0.63227837\n",
      "Iteration 71, loss = 0.62791612\n",
      "Iteration 72, loss = 0.62363525\n",
      "Iteration 73, loss = 0.61942891\n",
      "Iteration 74, loss = 0.61529879\n",
      "Iteration 75, loss = 0.61124429\n",
      "Iteration 76, loss = 0.60726380\n",
      "Iteration 77, loss = 0.60335460\n",
      "Iteration 78, loss = 0.59950879\n",
      "Iteration 79, loss = 0.59572965\n",
      "Iteration 80, loss = 0.59201736\n",
      "Iteration 81, loss = 0.58836818\n",
      "Iteration 82, loss = 0.58477575\n",
      "Iteration 83, loss = 0.58124057\n",
      "Iteration 84, loss = 0.57776246\n",
      "Iteration 85, loss = 0.57433987\n",
      "Iteration 86, loss = 0.57097043\n",
      "Iteration 87, loss = 0.56765291\n",
      "Iteration 88, loss = 0.56438535\n",
      "Iteration 89, loss = 0.56116483\n",
      "Iteration 90, loss = 0.55798855\n",
      "Iteration 91, loss = 0.55485441\n",
      "Iteration 92, loss = 0.55176107\n",
      "Iteration 93, loss = 0.54870739\n",
      "Iteration 94, loss = 0.54569540\n",
      "Iteration 95, loss = 0.54272196\n",
      "Iteration 96, loss = 0.53978823\n",
      "Iteration 97, loss = 0.53689179\n",
      "Iteration 98, loss = 0.53403102\n",
      "Iteration 99, loss = 0.53120653\n",
      "Iteration 100, loss = 0.52841576\n",
      "Iteration 101, loss = 0.52566013\n",
      "Iteration 102, loss = 0.52293645\n",
      "Iteration 103, loss = 0.52024270\n",
      "Iteration 104, loss = 0.51758023\n",
      "Iteration 105, loss = 0.51494648\n",
      "Iteration 106, loss = 0.51234232\n",
      "Iteration 107, loss = 0.50976451\n",
      "Iteration 108, loss = 0.50721220\n",
      "Iteration 109, loss = 0.50468700\n",
      "Iteration 110, loss = 0.50218767\n",
      "Iteration 111, loss = 0.49971435\n",
      "Iteration 112, loss = 0.49726726\n",
      "Iteration 113, loss = 0.49484780\n",
      "Iteration 114, loss = 0.49245354\n",
      "Iteration 115, loss = 0.49008307\n",
      "Iteration 116, loss = 0.48773623\n",
      "Iteration 117, loss = 0.48541285\n",
      "Iteration 118, loss = 0.48311227\n",
      "Iteration 119, loss = 0.48083355\n",
      "Iteration 120, loss = 0.47857618\n",
      "Iteration 121, loss = 0.47633968\n",
      "Iteration 122, loss = 0.47412404\n",
      "Iteration 123, loss = 0.47192809\n",
      "Iteration 124, loss = 0.46974910\n",
      "Iteration 125, loss = 0.46758592\n",
      "Iteration 126, loss = 0.46541689\n",
      "Iteration 127, loss = 0.46328513\n",
      "Iteration 128, loss = 0.46111219\n",
      "Iteration 129, loss = 0.45894887\n",
      "Iteration 130, loss = 0.45684726\n",
      "Iteration 131, loss = 0.45477732\n",
      "Iteration 132, loss = 0.45272449\n",
      "Iteration 133, loss = 0.45068517\n",
      "Iteration 134, loss = 0.44865884\n",
      "Iteration 135, loss = 0.44664495\n",
      "Iteration 136, loss = 0.44464403\n",
      "Iteration 137, loss = 0.44265561\n",
      "Iteration 138, loss = 0.44067945\n",
      "Iteration 139, loss = 0.43871565\n",
      "Iteration 140, loss = 0.43676415\n",
      "Iteration 141, loss = 0.43482412\n",
      "Iteration 142, loss = 0.43289507\n",
      "Iteration 143, loss = 0.43097708\n",
      "Iteration 144, loss = 0.42906998\n",
      "Iteration 145, loss = 0.42717362\n",
      "Iteration 146, loss = 0.42528787\n",
      "Iteration 147, loss = 0.42341259\n",
      "Iteration 148, loss = 0.42154769\n",
      "Iteration 149, loss = 0.41969261\n",
      "Iteration 150, loss = 0.41784699\n",
      "Iteration 151, loss = 0.41601057\n",
      "Iteration 152, loss = 0.41418299\n",
      "Iteration 153, loss = 0.41236403\n",
      "Iteration 154, loss = 0.41057277\n",
      "Iteration 155, loss = 0.40880370\n",
      "Iteration 156, loss = 0.40704420\n",
      "Iteration 157, loss = 0.40530413\n",
      "Iteration 158, loss = 0.40357929\n",
      "Iteration 159, loss = 0.40186204\n",
      "Iteration 160, loss = 0.40014780\n",
      "Iteration 161, loss = 0.39843211\n",
      "Iteration 162, loss = 0.39671634\n",
      "Iteration 163, loss = 0.39500332\n",
      "Iteration 164, loss = 0.39329510\n",
      "Iteration 165, loss = 0.39159590\n",
      "Iteration 166, loss = 0.38990914\n",
      "Iteration 167, loss = 0.38823444\n",
      "Iteration 168, loss = 0.38657161\n",
      "Iteration 169, loss = 0.38491636\n",
      "Iteration 170, loss = 0.38326793\n",
      "Iteration 171, loss = 0.38162509\n",
      "Iteration 172, loss = 0.37998590\n",
      "Iteration 173, loss = 0.37834307\n",
      "Iteration 174, loss = 0.37668555\n",
      "Iteration 175, loss = 0.37501997\n",
      "Iteration 176, loss = 0.37338941\n",
      "Iteration 177, loss = 0.37176062\n",
      "Iteration 178, loss = 0.37013715\n",
      "Iteration 179, loss = 0.36851753\n",
      "Iteration 180, loss = 0.36689872\n",
      "Iteration 181, loss = 0.36527933\n",
      "Iteration 182, loss = 0.36366354\n",
      "Iteration 183, loss = 0.36205243\n",
      "Iteration 184, loss = 0.36043736\n",
      "Iteration 185, loss = 0.35882934\n",
      "Iteration 186, loss = 0.35722309\n",
      "Iteration 187, loss = 0.35561719\n",
      "Iteration 188, loss = 0.35401458\n",
      "Iteration 189, loss = 0.35241590\n",
      "Iteration 190, loss = 0.35081592\n",
      "Iteration 191, loss = 0.34921831\n",
      "Iteration 192, loss = 0.34761746\n",
      "Iteration 193, loss = 0.34601117\n",
      "Iteration 194, loss = 0.34439952\n",
      "Iteration 195, loss = 0.34279900\n",
      "Iteration 196, loss = 0.34120550\n",
      "Iteration 197, loss = 0.33960210\n",
      "Iteration 198, loss = 0.33799763\n",
      "Iteration 199, loss = 0.33640056\n",
      "Iteration 200, loss = 0.33480370\n"
     ]
    },
    {
     "name": "stderr",
     "output_type": "stream",
     "text": [
      "/Users/pcardoso/anaconda3/envs/AprendizagemAutomatica/lib/python3.10/site-packages/sklearn/neural_network/_multilayer_perceptron.py:702: ConvergenceWarning: Stochastic Optimizer: Maximum iterations (200) reached and the optimization hasn't converged yet.\n",
      "  warnings.warn(\n"
     ]
    },
    {
     "data": {
      "text/plain": "MLPClassifier(random_state=1, verbose=True)",
      "text/html": "<style>#sk-container-id-2 {color: black;background-color: white;}#sk-container-id-2 pre{padding: 0;}#sk-container-id-2 div.sk-toggleable {background-color: white;}#sk-container-id-2 label.sk-toggleable__label {cursor: pointer;display: block;width: 100%;margin-bottom: 0;padding: 0.3em;box-sizing: border-box;text-align: center;}#sk-container-id-2 label.sk-toggleable__label-arrow:before {content: \"▸\";float: left;margin-right: 0.25em;color: #696969;}#sk-container-id-2 label.sk-toggleable__label-arrow:hover:before {color: black;}#sk-container-id-2 div.sk-estimator:hover label.sk-toggleable__label-arrow:before {color: black;}#sk-container-id-2 div.sk-toggleable__content {max-height: 0;max-width: 0;overflow: hidden;text-align: left;background-color: #f0f8ff;}#sk-container-id-2 div.sk-toggleable__content pre {margin: 0.2em;color: black;border-radius: 0.25em;background-color: #f0f8ff;}#sk-container-id-2 input.sk-toggleable__control:checked~div.sk-toggleable__content {max-height: 200px;max-width: 100%;overflow: auto;}#sk-container-id-2 input.sk-toggleable__control:checked~label.sk-toggleable__label-arrow:before {content: \"▾\";}#sk-container-id-2 div.sk-estimator input.sk-toggleable__control:checked~label.sk-toggleable__label {background-color: #d4ebff;}#sk-container-id-2 div.sk-label input.sk-toggleable__control:checked~label.sk-toggleable__label {background-color: #d4ebff;}#sk-container-id-2 input.sk-hidden--visually {border: 0;clip: rect(1px 1px 1px 1px);clip: rect(1px, 1px, 1px, 1px);height: 1px;margin: -1px;overflow: hidden;padding: 0;position: absolute;width: 1px;}#sk-container-id-2 div.sk-estimator {font-family: monospace;background-color: #f0f8ff;border: 1px dotted black;border-radius: 0.25em;box-sizing: border-box;margin-bottom: 0.5em;}#sk-container-id-2 div.sk-estimator:hover {background-color: #d4ebff;}#sk-container-id-2 div.sk-parallel-item::after {content: \"\";width: 100%;border-bottom: 1px solid gray;flex-grow: 1;}#sk-container-id-2 div.sk-label:hover label.sk-toggleable__label {background-color: #d4ebff;}#sk-container-id-2 div.sk-serial::before {content: \"\";position: absolute;border-left: 1px solid gray;box-sizing: border-box;top: 0;bottom: 0;left: 50%;z-index: 0;}#sk-container-id-2 div.sk-serial {display: flex;flex-direction: column;align-items: center;background-color: white;padding-right: 0.2em;padding-left: 0.2em;position: relative;}#sk-container-id-2 div.sk-item {position: relative;z-index: 1;}#sk-container-id-2 div.sk-parallel {display: flex;align-items: stretch;justify-content: center;background-color: white;position: relative;}#sk-container-id-2 div.sk-item::before, #sk-container-id-2 div.sk-parallel-item::before {content: \"\";position: absolute;border-left: 1px solid gray;box-sizing: border-box;top: 0;bottom: 0;left: 50%;z-index: -1;}#sk-container-id-2 div.sk-parallel-item {display: flex;flex-direction: column;z-index: 1;position: relative;background-color: white;}#sk-container-id-2 div.sk-parallel-item:first-child::after {align-self: flex-end;width: 50%;}#sk-container-id-2 div.sk-parallel-item:last-child::after {align-self: flex-start;width: 50%;}#sk-container-id-2 div.sk-parallel-item:only-child::after {width: 0;}#sk-container-id-2 div.sk-dashed-wrapped {border: 1px dashed gray;margin: 0 0.4em 0.5em 0.4em;box-sizing: border-box;padding-bottom: 0.4em;background-color: white;}#sk-container-id-2 div.sk-label label {font-family: monospace;font-weight: bold;display: inline-block;line-height: 1.2em;}#sk-container-id-2 div.sk-label-container {text-align: center;}#sk-container-id-2 div.sk-container {/* jupyter's `normalize.less` sets `[hidden] { display: none; }` but bootstrap.min.css set `[hidden] { display: none !important; }` so we also need the `!important` here to be able to override the default hidden behavior on the sphinx rendered scikit-learn.org. See: https://github.com/scikit-learn/scikit-learn/issues/21755 */display: inline-block !important;position: relative;}#sk-container-id-2 div.sk-text-repr-fallback {display: none;}</style><div id=\"sk-container-id-2\" class=\"sk-top-container\"><div class=\"sk-text-repr-fallback\"><pre>MLPClassifier(random_state=1, verbose=True)</pre><b>In a Jupyter environment, please rerun this cell to show the HTML representation or trust the notebook. <br />On GitHub, the HTML representation is unable to render, please try loading this page with nbviewer.org.</b></div><div class=\"sk-container\" hidden><div class=\"sk-item\"><div class=\"sk-estimator sk-toggleable\"><input class=\"sk-toggleable__control sk-hidden--visually\" id=\"sk-estimator-id-2\" type=\"checkbox\" checked><label for=\"sk-estimator-id-2\" class=\"sk-toggleable__label sk-toggleable__label-arrow\">MLPClassifier</label><div class=\"sk-toggleable__content\"><pre>MLPClassifier(random_state=1, verbose=True)</pre></div></div></div></div></div>"
     },
     "execution_count": 20,
     "metadata": {},
     "output_type": "execute_result"
    }
   ],
   "source": [
    "clf.fit(X_train, y_train)"
   ],
   "metadata": {
    "collapsed": false,
    "ExecuteTime": {
     "end_time": "2023-11-20T11:37:05.682883Z",
     "start_time": "2023-11-20T11:37:05.633719Z"
    }
   }
  },
  {
   "cell_type": "code",
   "execution_count": 21,
   "outputs": [
    {
     "data": {
      "text/plain": "0.8947368421052632"
     },
     "execution_count": 21,
     "metadata": {},
     "output_type": "execute_result"
    }
   ],
   "source": [
    "\n",
    "clf.score(X_test, y_test)"
   ],
   "metadata": {
    "collapsed": false,
    "ExecuteTime": {
     "end_time": "2023-11-20T11:37:05.845888Z",
     "start_time": "2023-11-20T11:37:05.840114Z"
    }
   }
  },
  {
   "cell_type": "markdown",
   "metadata": {},
   "source": [
    "ok...!? let us see if we can improve this... The used parameters were:"
   ]
  },
  {
   "cell_type": "code",
   "execution_count": 22,
   "metadata": {
    "ExecuteTime": {
     "end_time": "2023-11-20T11:37:06.439211Z",
     "start_time": "2023-11-20T11:37:06.432987Z"
    }
   },
   "outputs": [
    {
     "data": {
      "text/plain": "{'activation': 'relu',\n 'alpha': 0.0001,\n 'batch_size': 'auto',\n 'beta_1': 0.9,\n 'beta_2': 0.999,\n 'early_stopping': False,\n 'epsilon': 1e-08,\n 'hidden_layer_sizes': (100,),\n 'learning_rate': 'constant',\n 'learning_rate_init': 0.001,\n 'max_fun': 15000,\n 'max_iter': 200,\n 'momentum': 0.9,\n 'n_iter_no_change': 10,\n 'nesterovs_momentum': True,\n 'power_t': 0.5,\n 'random_state': 1,\n 'shuffle': True,\n 'solver': 'adam',\n 'tol': 0.0001,\n 'validation_fraction': 0.1,\n 'verbose': True,\n 'warm_start': False}"
     },
     "execution_count": 22,
     "metadata": {},
     "output_type": "execute_result"
    }
   ],
   "source": [
    "clf.get_params()"
   ]
  },
  {
   "cell_type": "markdown",
   "metadata": {},
   "source": [
    "What if the maximum number of iterations (epochs) is increased?"
   ]
  },
  {
   "cell_type": "code",
   "execution_count": 23,
   "metadata": {
    "ExecuteTime": {
     "end_time": "2023-11-20T11:37:07.495647Z",
     "start_time": "2023-11-20T11:37:07.370643Z"
    }
   },
   "outputs": [
    {
     "data": {
      "text/plain": "1.0"
     },
     "execution_count": 23,
     "metadata": {},
     "output_type": "execute_result"
    }
   ],
   "source": [
    "clf = MLPClassifier(\n",
    "    max_iter=1000,\n",
    "    random_state=1\n",
    "    # verbose=True  # uncomment to see loss function evolution\n",
    ").fit(X_train, y_train)\n",
    "\n",
    "clf.score(X_test, y_test)"
   ]
  },
  {
   "cell_type": "markdown",
   "metadata": {},
   "source": [
    "That is good! Maybe there were other alternatives, like using more layers...?"
   ]
  },
  {
   "cell_type": "code",
   "execution_count": 24,
   "metadata": {
    "scrolled": true,
    "ExecuteTime": {
     "end_time": "2023-11-20T11:37:08.596174Z",
     "start_time": "2023-11-20T11:37:08.332555Z"
    }
   },
   "outputs": [
    {
     "name": "stdout",
     "output_type": "stream",
     "text": [
      "Iteration 1, loss = 1.12577806\n",
      "Iteration 2, loss = 1.08462926\n",
      "Iteration 3, loss = 1.04647274\n",
      "Iteration 4, loss = 1.00944437\n",
      "Iteration 5, loss = 0.97321567\n",
      "Iteration 6, loss = 0.93827986\n",
      "Iteration 7, loss = 0.90545869\n",
      "Iteration 8, loss = 0.87709269\n",
      "Iteration 9, loss = 0.85247616\n",
      "Iteration 10, loss = 0.82934909\n",
      "Iteration 11, loss = 0.80730649\n",
      "Iteration 12, loss = 0.78614771\n",
      "Iteration 13, loss = 0.76503677\n",
      "Iteration 14, loss = 0.74442324\n",
      "Iteration 15, loss = 0.72491816\n",
      "Iteration 16, loss = 0.70637435\n",
      "Iteration 17, loss = 0.68857067\n",
      "Iteration 18, loss = 0.67101687\n",
      "Iteration 19, loss = 0.65373462\n",
      "Iteration 20, loss = 0.63677055\n",
      "Iteration 21, loss = 0.62018511\n",
      "Iteration 22, loss = 0.60405072\n",
      "Iteration 23, loss = 0.58845549\n",
      "Iteration 24, loss = 0.57359984\n",
      "Iteration 25, loss = 0.55933994\n",
      "Iteration 26, loss = 0.54554743\n",
      "Iteration 27, loss = 0.53225229\n",
      "Iteration 28, loss = 0.51942032\n",
      "Iteration 29, loss = 0.50706917\n",
      "Iteration 30, loss = 0.49520369\n",
      "Iteration 31, loss = 0.48373069\n",
      "Iteration 32, loss = 0.47264780\n",
      "Iteration 33, loss = 0.46195823\n",
      "Iteration 34, loss = 0.45165249\n",
      "Iteration 35, loss = 0.44167245\n",
      "Iteration 36, loss = 0.43202456\n",
      "Iteration 37, loss = 0.42262892\n",
      "Iteration 38, loss = 0.41348102\n",
      "Iteration 39, loss = 0.40456789\n",
      "Iteration 40, loss = 0.39588697\n",
      "Iteration 41, loss = 0.38742709\n",
      "Iteration 42, loss = 0.37918932\n",
      "Iteration 43, loss = 0.37119036\n",
      "Iteration 44, loss = 0.36338137\n",
      "Iteration 45, loss = 0.35576438\n",
      "Iteration 46, loss = 0.34831876\n",
      "Iteration 47, loss = 0.34101583\n",
      "Iteration 48, loss = 0.33384205\n",
      "Iteration 49, loss = 0.32678776\n",
      "Iteration 50, loss = 0.31985278\n",
      "Iteration 51, loss = 0.31302755\n",
      "Iteration 52, loss = 0.30630128\n",
      "Iteration 53, loss = 0.29966703\n",
      "Iteration 54, loss = 0.29306789\n",
      "Iteration 55, loss = 0.28613423\n",
      "Iteration 56, loss = 0.27901527\n",
      "Iteration 57, loss = 0.27262918\n",
      "Iteration 58, loss = 0.26663807\n",
      "Iteration 59, loss = 0.26077639\n",
      "Iteration 60, loss = 0.25500547\n",
      "Iteration 61, loss = 0.24935977\n",
      "Iteration 62, loss = 0.24379904\n",
      "Iteration 63, loss = 0.23833277\n",
      "Iteration 64, loss = 0.23298193\n",
      "Iteration 65, loss = 0.22775456\n",
      "Iteration 66, loss = 0.22264233\n",
      "Iteration 67, loss = 0.21763455\n",
      "Iteration 68, loss = 0.21256646\n",
      "Iteration 69, loss = 0.20741797\n",
      "Iteration 70, loss = 0.20251587\n",
      "Iteration 71, loss = 0.19798009\n",
      "Iteration 72, loss = 0.19359674\n",
      "Iteration 73, loss = 0.18953107\n",
      "Iteration 74, loss = 0.18522654\n",
      "Iteration 75, loss = 0.18122909\n",
      "Iteration 76, loss = 0.17735715\n",
      "Iteration 77, loss = 0.17361706\n",
      "Iteration 78, loss = 0.16999729\n",
      "Iteration 79, loss = 0.16652325\n",
      "Iteration 80, loss = 0.16319196\n",
      "Iteration 81, loss = 0.15997827\n",
      "Iteration 82, loss = 0.15686982\n",
      "Iteration 83, loss = 0.15385355\n",
      "Iteration 84, loss = 0.15093327\n",
      "Iteration 85, loss = 0.14811422\n",
      "Iteration 86, loss = 0.14539613\n",
      "Iteration 87, loss = 0.14277356\n",
      "Iteration 88, loss = 0.14024852\n",
      "Iteration 89, loss = 0.13781619\n",
      "Iteration 90, loss = 0.13547001\n",
      "Iteration 91, loss = 0.13328490\n",
      "Iteration 92, loss = 0.13105861\n",
      "Iteration 93, loss = 0.12898391\n",
      "Iteration 94, loss = 0.12701394\n",
      "Iteration 95, loss = 0.12510688\n",
      "Iteration 96, loss = 0.12324823\n",
      "Iteration 97, loss = 0.12146331\n",
      "Iteration 98, loss = 0.11974878\n",
      "Iteration 99, loss = 0.11809382\n",
      "Iteration 100, loss = 0.11649788\n",
      "Iteration 101, loss = 0.11495136\n",
      "Iteration 102, loss = 0.11345244\n",
      "Iteration 103, loss = 0.11200644\n",
      "Iteration 104, loss = 0.11061077\n",
      "Iteration 105, loss = 0.10926776\n",
      "Iteration 106, loss = 0.10797974\n",
      "Iteration 107, loss = 0.10674635\n",
      "Iteration 108, loss = 0.10557301\n",
      "Iteration 109, loss = 0.10442677\n",
      "Iteration 110, loss = 0.10331818\n",
      "Iteration 111, loss = 0.10225708\n",
      "Iteration 112, loss = 0.10123637\n",
      "Iteration 113, loss = 0.10025057\n",
      "Iteration 114, loss = 0.09929986\n",
      "Iteration 115, loss = 0.09838255\n",
      "Iteration 116, loss = 0.09749694\n",
      "Iteration 117, loss = 0.09664102\n",
      "Iteration 118, loss = 0.09581364\n",
      "Iteration 119, loss = 0.09501413\n",
      "Iteration 120, loss = 0.09424224\n",
      "Iteration 121, loss = 0.09349726\n",
      "Iteration 122, loss = 0.09277953\n",
      "Iteration 123, loss = 0.09208792\n",
      "Iteration 124, loss = 0.09142038\n",
      "Iteration 125, loss = 0.09077394\n",
      "Iteration 126, loss = 0.09014525\n",
      "Iteration 127, loss = 0.08953068\n",
      "Iteration 128, loss = 0.08893961\n",
      "Iteration 129, loss = 0.08836901\n",
      "Iteration 130, loss = 0.08781640\n",
      "Iteration 131, loss = 0.08727983\n",
      "Iteration 132, loss = 0.08675830\n",
      "Iteration 133, loss = 0.08625102\n",
      "Iteration 134, loss = 0.08575766\n",
      "Iteration 135, loss = 0.08527842\n",
      "Iteration 136, loss = 0.08481266\n",
      "Iteration 137, loss = 0.08435980\n",
      "Iteration 138, loss = 0.08391905\n",
      "Iteration 139, loss = 0.08348993\n",
      "Iteration 140, loss = 0.08307207\n",
      "Iteration 141, loss = 0.08266486\n",
      "Iteration 142, loss = 0.08226807\n",
      "Iteration 143, loss = 0.08188123\n",
      "Iteration 144, loss = 0.08150388\n",
      "Iteration 145, loss = 0.08113567\n",
      "Iteration 146, loss = 0.08077604\n",
      "Iteration 147, loss = 0.08042444\n",
      "Iteration 148, loss = 0.08008040\n",
      "Iteration 149, loss = 0.07974340\n",
      "Iteration 150, loss = 0.07941334\n",
      "Iteration 151, loss = 0.07909016\n",
      "Iteration 152, loss = 0.07877328\n",
      "Iteration 153, loss = 0.07846163\n",
      "Iteration 154, loss = 0.07815577\n",
      "Iteration 155, loss = 0.07785650\n",
      "Iteration 156, loss = 0.07756351\n",
      "Iteration 157, loss = 0.07728092\n",
      "Iteration 158, loss = 0.07700606\n",
      "Iteration 159, loss = 0.07673500\n",
      "Iteration 160, loss = 0.07646834\n",
      "Iteration 161, loss = 0.07620584\n",
      "Iteration 162, loss = 0.07594648\n",
      "Iteration 163, loss = 0.07568605\n",
      "Iteration 164, loss = 0.07543761\n",
      "Iteration 165, loss = 0.07519845\n",
      "Iteration 166, loss = 0.07497028\n",
      "Iteration 167, loss = 0.07472387\n",
      "Iteration 168, loss = 0.07449713\n",
      "Iteration 169, loss = 0.07428099\n",
      "Iteration 170, loss = 0.07406356\n",
      "Iteration 171, loss = 0.07384338\n",
      "Iteration 172, loss = 0.07362464\n",
      "Iteration 173, loss = 0.07341107\n",
      "Iteration 174, loss = 0.07320176\n",
      "Iteration 175, loss = 0.07299223\n",
      "Iteration 176, loss = 0.07280426\n",
      "Iteration 177, loss = 0.07260968\n",
      "Iteration 178, loss = 0.07240773\n",
      "Iteration 179, loss = 0.07222818\n",
      "Iteration 180, loss = 0.07205119\n",
      "Iteration 181, loss = 0.07184910\n",
      "Iteration 182, loss = 0.07168415\n",
      "Iteration 183, loss = 0.07152010\n",
      "Iteration 184, loss = 0.07133723\n",
      "Iteration 185, loss = 0.07114526\n",
      "Iteration 186, loss = 0.07099198\n",
      "Iteration 187, loss = 0.07083266\n",
      "Iteration 188, loss = 0.07064768\n",
      "Iteration 189, loss = 0.07049191\n",
      "Iteration 190, loss = 0.07034309\n",
      "Iteration 191, loss = 0.07017784\n",
      "Iteration 192, loss = 0.07000376\n",
      "Iteration 193, loss = 0.06985483\n",
      "Iteration 194, loss = 0.06970213\n",
      "Iteration 195, loss = 0.06954332\n",
      "Iteration 196, loss = 0.06939175\n",
      "Iteration 197, loss = 0.06923728\n",
      "Iteration 198, loss = 0.06908950\n",
      "Iteration 199, loss = 0.06894141\n",
      "Iteration 200, loss = 0.06878667\n"
     ]
    },
    {
     "name": "stderr",
     "output_type": "stream",
     "text": [
      "/Users/pcardoso/anaconda3/envs/AprendizagemAutomatica/lib/python3.10/site-packages/sklearn/neural_network/_multilayer_perceptron.py:702: ConvergenceWarning: Stochastic Optimizer: Maximum iterations (200) reached and the optimization hasn't converged yet.\n",
      "  warnings.warn(\n"
     ]
    },
    {
     "data": {
      "text/plain": "1.0"
     },
     "execution_count": 24,
     "metadata": {},
     "output_type": "execute_result"
    }
   ],
   "source": [
    "clf = MLPClassifier(\n",
    "    hidden_layer_sizes=(100, 100),\n",
    "    random_state=1,\n",
    "    #max_iter=1000,\n",
    "    verbose=True\n",
    ").fit(X_train, y_train)\n",
    "\n",
    "clf.score(X_test, y_test)"
   ]
  },
  {
   "cell_type": "markdown",
   "metadata": {},
   "source": [
    "The probabilities associated to each test instance are "
   ]
  },
  {
   "cell_type": "code",
   "execution_count": 29,
   "metadata": {
    "ExecuteTime": {
     "end_time": "2023-11-20T11:38:22.595162Z",
     "start_time": "2023-11-20T11:38:22.544325Z"
    }
   },
   "outputs": [
    {
     "data": {
      "text/plain": "array([[1.00e+00, 8.97e-05, 2.77e-10],\n       [3.39e-02, 9.65e-01, 9.75e-04],\n       [4.93e-04, 9.99e-01, 9.69e-04],\n       [1.00e+00, 1.72e-04, 1.50e-09],\n       [1.14e-05, 1.69e-01, 8.31e-01],\n       [8.66e-04, 9.73e-01, 2.63e-02],\n       [2.60e-05, 6.93e-02, 9.31e-01],\n       [9.99e-01, 9.07e-04, 1.32e-08],\n       [9.98e-01, 1.95e-03, 4.39e-08],\n       [7.31e-07, 2.83e-03, 9.97e-01],\n       [1.15e-03, 9.78e-01, 2.11e-02],\n       [1.00e+00, 3.84e-04, 3.23e-09],\n       [5.23e-07, 4.50e-03, 9.95e-01],\n       [7.77e-04, 9.96e-01, 3.64e-03],\n       [7.78e-04, 9.44e-01, 5.56e-02],\n       [9.99e-01, 1.06e-03, 4.25e-08],\n       [9.07e-04, 9.97e-01, 1.95e-03],\n       [1.31e-03, 8.33e-01, 1.66e-01],\n       [9.99e-01, 9.65e-04, 9.23e-09],\n       [9.99e-01, 7.61e-04, 1.08e-08],\n       [8.30e-04, 9.28e-01, 7.07e-02],\n       [1.40e-03, 6.91e-01, 3.08e-01],\n       [2.29e-04, 8.02e-01, 1.98e-01],\n       [1.00e+00, 4.71e-04, 7.41e-09],\n       [5.99e-06, 6.51e-02, 9.35e-01],\n       [1.30e-03, 9.94e-01, 5.18e-03],\n       [1.00e+00, 8.67e-05, 4.26e-10],\n       [1.00e+00, 3.25e-04, 4.00e-09],\n       [4.13e-04, 9.80e-01, 1.93e-02],\n       [9.13e-06, 2.98e-02, 9.70e-01],\n       [6.94e-04, 9.77e-01, 2.21e-02],\n       [2.02e-07, 3.61e-03, 9.96e-01],\n       [1.09e-03, 9.97e-01, 1.75e-03],\n       [2.34e-07, 8.15e-04, 9.99e-01],\n       [2.30e-07, 1.95e-04, 1.00e+00],\n       [1.00e+00, 3.70e-04, 2.73e-09],\n       [8.75e-04, 9.56e-01, 4.26e-02],\n       [9.99e-01, 6.51e-04, 6.04e-09]])"
     },
     "execution_count": 29,
     "metadata": {},
     "output_type": "execute_result"
    }
   ],
   "source": [
    "clf.predict_proba(X_test)"
   ]
  },
  {
   "cell_type": "markdown",
   "source": [
    "The histogram of these probabilities is the following, where we can see that the classifier is very confident about its predictions"
   ],
   "metadata": {
    "collapsed": false
   }
  },
  {
   "cell_type": "code",
   "execution_count": 31,
   "metadata": {
    "ExecuteTime": {
     "end_time": "2023-11-20T11:39:18.181277Z",
     "start_time": "2023-11-20T11:39:17.986688Z"
    }
   },
   "outputs": [
    {
     "data": {
      "text/plain": "<Figure size 640x480 with 1 Axes>",
      "image/png": "[encoded data removed]"
     },
     "metadata": {},
     "output_type": "display_data"
    }
   ],
   "source": [
    "_ = plt.hist(clf.predict_proba(X_test))"
   ]
  },
  {
   "cell_type": "markdown",
   "metadata": {},
   "source": [
    "## Digits dataset\n",
    "\n",
    "Let us do a similar analysis using the digits dataset"
   ]
  },
  {
   "cell_type": "code",
   "execution_count": 12,
   "metadata": {
    "ExecuteTime": {
     "end_time": "2023-11-13T10:51:04.101099Z",
     "start_time": "2023-11-13T10:51:04.085549Z"
    }
   },
   "outputs": [],
   "source": [
    "digits = load_digits()\n",
    "X_train, X_test, y_train, y_test = train_test_split(digits.data, digits.target, random_state=1)"
   ]
  },
  {
   "cell_type": "markdown",
   "metadata": {},
   "source": [
    "With default parameters the results are the following"
   ]
  },
  {
   "cell_type": "code",
   "execution_count": 13,
   "metadata": {
    "ExecuteTime": {
     "end_time": "2023-11-13T10:51:09.799190Z",
     "start_time": "2023-11-13T10:51:08.639998Z"
    }
   },
   "outputs": [
    {
     "data": {
      "text/plain": "0.9755555555555555"
     },
     "execution_count": 13,
     "metadata": {},
     "output_type": "execute_result"
    }
   ],
   "source": [
    "clf = MLPClassifier(random_state=1).fit(X_train, y_train)\n",
    "\n",
    "clf.score(X_test, y_test)"
   ]
  },
  {
   "cell_type": "markdown",
   "metadata": {},
   "source": [
    "Not bad! Can it be improved?"
   ]
  },
  {
   "cell_type": "code",
   "execution_count": 14,
   "metadata": {
    "ExecuteTime": {
     "end_time": "2023-11-13T10:51:14.018115Z",
     "start_time": "2023-11-13T10:51:12.573338Z"
    }
   },
   "outputs": [
    {
     "data": {
      "text/plain": "0.9866666666666667"
     },
     "execution_count": 14,
     "metadata": {},
     "output_type": "execute_result"
    }
   ],
   "source": [
    "clf = MLPClassifier(\n",
    "    max_iter=1000,\n",
    "    hidden_layer_sizes=(100, 100),\n",
    "    random_state=1\n",
    ").fit(X_train, y_train)\n",
    "\n",
    "clf.score(X_test, y_test)"
   ]
  },
  {
   "cell_type": "markdown",
   "metadata": {},
   "source": [
    "It was not worst but there isn't much space to improve. Another try...?"
   ]
  },
  {
   "cell_type": "code",
   "execution_count": 15,
   "metadata": {
    "ExecuteTime": {
     "end_time": "2023-11-13T10:52:05.685240Z",
     "start_time": "2023-11-13T10:51:20.180687Z"
    }
   },
   "outputs": [
    {
     "name": "stderr",
     "output_type": "stream",
     "text": [
      "/Users/pcardoso/anaconda3/envs/AprendizagemAutomatica/lib/python3.10/site-packages/sklearn/neural_network/_multilayer_perceptron.py:702: ConvergenceWarning: Stochastic Optimizer: Maximum iterations (1000) reached and the optimization hasn't converged yet.\n",
      "  warnings.warn(\n"
     ]
    },
    {
     "data": {
      "text/plain": "0.9844444444444445"
     },
     "execution_count": 15,
     "metadata": {},
     "output_type": "execute_result"
    }
   ],
   "source": [
    "clf = MLPClassifier(\n",
    "    max_iter=1000,\n",
    "    tol=1e-10,\n",
    "    hidden_layer_sizes=(1000),\n",
    "    random_state=1\n",
    ").fit(X_train, y_train)\n",
    "\n",
    "clf.score(X_test, y_test)"
   ]
  },
  {
   "cell_type": "markdown",
   "metadata": {},
   "source": [
    "And again...!? Since it did not converge, let us increase the maximum iterations number"
   ]
  },
  {
   "cell_type": "code",
   "execution_count": 16,
   "metadata": {
    "ExecuteTime": {
     "end_time": "2023-11-13T10:54:03.687905Z",
     "start_time": "2023-11-13T10:52:05.688530Z"
    }
   },
   "outputs": [
    {
     "data": {
      "text/plain": "0.9911111111111112"
     },
     "execution_count": 16,
     "metadata": {},
     "output_type": "execute_result"
    }
   ],
   "source": [
    "clf = MLPClassifier(\n",
    "    max_iter=10000,\n",
    "    tol=1e-10,\n",
    "    hidden_layer_sizes=(1000,),\n",
    "    random_state=1,\n",
    "    activation='tanh',\n",
    ").fit(X_train, y_train)\n",
    "\n",
    "clf.score(X_test, y_test)"
   ]
  },
  {
   "cell_type": "code",
   "execution_count": null,
   "outputs": [],
   "source": [],
   "metadata": {
    "collapsed": false
   }
  }
 ],
 "metadata": {
  "kernelspec": {
   "display_name": "Python 3",
   "language": "python",
   "name": "python3"
  },
  "language_info": {
   "codemirror_mode": {
    "name": "ipython",
    "version": 3
   },
   "file_extension": ".py",
   "mimetype": "text/x-python",
   "name": "python",
   "nbconvert_exporter": "python",
   "pygments_lexer": "ipython3",
   "version": "3.8.5"
  },
  "nbTranslate": {
   "displayLangs": [
    "*"
   ],
   "hotkey": "alt-t",
   "langInMainMenu": true,
   "sourceLang": "en",
   "targetLang": "fr",
   "useGoogleTranslate": true
  },
  "toc": {
   "base_numbering": 1,
   "nav_menu": {},
   "number_sections": true,
   "sideBar": true,
   "skip_h1_title": false,
   "title_cell": "Table of Contents",
   "title_sidebar": "Contents",
   "toc_cell": false,
   "toc_position": {},
   "toc_section_display": true,
   "toc_window_display": false
  },
  "varInspector": {
   "cols": {
    "lenName": 16,
    "lenType": 16,
    "lenVar": 40
   },
   "kernels_config": {
    "python": {
     "delete_cmd_postfix": "",
     "delete_cmd_prefix": "del ",
     "library": "var_list.py",
     "varRefreshCmd": "print(var_dic_list())"
    },
    "r": {
     "delete_cmd_postfix": ") ",
     "delete_cmd_prefix": "rm(",
     "library": "var_list.r",
     "varRefreshCmd": "cat(var_dic_list()) "
    }
   },
   "types_to_exclude": [
    "module",
    "function",
    "builtin_function_or_method",
    "instance",
    "_Feature"
   ],
   "window_display": false
  }
 },
 "nbformat": 4,
 "nbformat_minor": 4
}
