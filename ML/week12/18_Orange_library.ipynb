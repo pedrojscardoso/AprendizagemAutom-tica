{
 "cells": [
  {
   "cell_type": "markdown",
   "source": [
    "___\n",
    "<h1> Machine Learning </h1>\n",
    "<h2> Systems Engineering and Computer Technologies / Engenharia de Sistemas e Tecnologias Informáticas\n",
    "(LESTI)</h2>\n",
    "<h3> Instituto Superior de Engenharia / Universidade do Algarve </h3>\n",
    "\n",
    "[LESTI](https://ise.ualg.pt/curso/1941) / [ISE](https://ise.ualg.pt) / [UAlg](https://www.ualg.pt)\n",
    "\n",
    "Pedro J. S. Cardoso (pcardoso@ualg.pt)\n",
    "\n",
    "___"
   ],
   "metadata": {
    "collapsed": false
   },
   "id": "d5c0434f5411af28"
  },
  {
   "cell_type": "markdown",
   "source": [
    "# Orange Data Mining Library\n",
    "\n",
    "The Orange Data Mining Library is a data mining library for Python, which also contains a collection of visual programming front-ends for common data mining tasks. In the python programming language, it is possible to use the library to create your own data mining applications. The library is distributed under the terms of the GNU General Public License.\n",
    "\n",
    "Let us start by importing the model created with the visual programming interface. The model is saved in a pickle file (a binary file that contains the model)."
   ],
   "metadata": {
    "collapsed": false
   },
   "id": "c23fdd2b39b071bd"
  },
  {
   "cell_type": "code",
   "execution_count": 1,
   "outputs": [
    {
     "data": {
      "text/plain": "TreeModel(data=<?>, root=<Orange.tree.NumericNode at 0x175644b80>)"
     },
     "execution_count": 1,
     "metadata": {},
     "output_type": "execute_result"
    }
   ],
   "source": [
    "import pickle\n",
    "model = pickle.load(open(\"models/model_tree.pkcls\", \"rb\"))\n",
    "model"
   ],
   "metadata": {
    "collapsed": false,
    "ExecuteTime": {
     "end_time": "2023-11-21T19:07:40.963018Z",
     "start_time": "2023-11-21T19:07:37.838159Z"
    }
   },
   "id": "ade030d33f6ccf19"
  },
  {
   "cell_type": "markdown",
   "source": [
    "The help method can be used to obtain information about the model object:"
   ],
   "metadata": {
    "collapsed": false
   },
   "id": "9bd13e5e09cd732e"
  },
  {
   "cell_type": "code",
   "execution_count": 2,
   "outputs": [
    {
     "name": "stdout",
     "output_type": "stream",
     "text": [
      "Help on TreeModel in module Orange.tree object:\n",
      "\n",
      "class TreeModel(Orange.base.TreeModel)\n",
      " |  TreeModel(data, root)\n",
      " |  \n",
      " |  Tree classifier with proper handling of nominal attributes and binarization\n",
      " |  and the interface API for visualization.\n",
      " |  \n",
      " |  Method resolution order:\n",
      " |      TreeModel\n",
      " |      Orange.base.TreeModel\n",
      " |      Orange.base.Model\n",
      " |      Orange.util.Reprable\n",
      " |      builtins.object\n",
      " |  \n",
      " |  Methods defined here:\n",
      " |  \n",
      " |  __init__(self, data, root)\n",
      " |      Initialize self.  See help(type(self)) for accurate signature.\n",
      " |  \n",
      " |  depth(self)\n",
      " |  \n",
      " |  get_indices(self, nodes)\n",
      " |  \n",
      " |  get_instances(self, nodes)\n",
      " |  \n",
      " |  get_values(self, X)\n",
      " |  \n",
      " |  get_values_by_nodes(self, X)\n",
      " |      Prediction that does not use compiled trees; for demo only\n",
      " |  \n",
      " |  get_values_in_python(self, X)\n",
      " |      Prediction with compiled code, but in Python; for demo only\n",
      " |  \n",
      " |  leaf_count(self)\n",
      " |  \n",
      " |  node_count(self)\n",
      " |  \n",
      " |  predict(self, X)\n",
      " |  \n",
      " |  predict_proba(self, data)\n",
      " |  \n",
      " |  print_tree(self, node=None, level=0)\n",
      " |      String representation of tree for debug purposees\n",
      " |  \n",
      " |  ----------------------------------------------------------------------\n",
      " |  Class methods defined here:\n",
      " |  \n",
      " |  rule(node) from builtins.type\n",
      " |  \n",
      " |  ----------------------------------------------------------------------\n",
      " |  Static methods defined here:\n",
      " |  \n",
      " |  climb(node)\n",
      " |  \n",
      " |  ----------------------------------------------------------------------\n",
      " |  Data and other attributes defined here:\n",
      " |  \n",
      " |  NODE_TYPES = [<class 'Orange.tree.Node'>, <class 'Orange.tree.Discrete...\n",
      " |  \n",
      " |  ----------------------------------------------------------------------\n",
      " |  Methods inherited from Orange.base.Model:\n",
      " |  \n",
      " |  __call__(self, data, ret=0)\n",
      " |      Call self as a function.\n",
      " |  \n",
      " |  __getstate__(self)\n",
      " |      Skip (possibly large) data when pickling models\n",
      " |  \n",
      " |  backmap_probs(self, probs, n_values, backmappers)\n",
      " |  \n",
      " |  backmap_value(self, value, mapped_probs, n_values, backmappers)\n",
      " |  \n",
      " |  data_to_model_domain(self, data: Orange.data.table.Table, progress_callback: Callable = <function dummy_callback at 0x1165da5f0>) -> Orange.data.table.Table\n",
      " |      Transforms data to the model domain if possible.\n",
      " |      \n",
      " |      Parameters\n",
      " |      ----------\n",
      " |      data\n",
      " |          Data to be transformed to the model domain\n",
      " |      progress_callback\n",
      " |          Callback - callable - to report the progress\n",
      " |      \n",
      " |      Returns\n",
      " |      -------\n",
      " |      Transformed data table\n",
      " |      \n",
      " |      Raises\n",
      " |      ------\n",
      " |      DomainTransformationError\n",
      " |          Error indicates that transformation is not possible since domains\n",
      " |          are not compatible\n",
      " |  \n",
      " |  get_backmappers(self, data)\n",
      " |  \n",
      " |  predict_storage(self, data)\n",
      " |  \n",
      " |  ----------------------------------------------------------------------\n",
      " |  Data and other attributes inherited from Orange.base.Model:\n",
      " |  \n",
      " |  Probs = 1\n",
      " |  \n",
      " |  Value = 0\n",
      " |  \n",
      " |  ValueProbs = 2\n",
      " |  \n",
      " |  supports_multiclass = False\n",
      " |  \n",
      " |  supports_weights = False\n",
      " |  \n",
      " |  ----------------------------------------------------------------------\n",
      " |  Methods inherited from Orange.util.Reprable:\n",
      " |  \n",
      " |  __repr__(self)\n",
      " |      Return repr(self).\n",
      " |  \n",
      " |  ----------------------------------------------------------------------\n",
      " |  Data descriptors inherited from Orange.util.Reprable:\n",
      " |  \n",
      " |  __dict__\n",
      " |      dictionary for instance variables (if defined)\n",
      " |  \n",
      " |  __weakref__\n",
      " |      list of weak references to the object (if defined)\n"
     ]
    }
   ],
   "source": [
    "help(model)"
   ],
   "metadata": {
    "collapsed": false,
    "ExecuteTime": {
     "end_time": "2023-11-21T19:07:41.016101Z",
     "start_time": "2023-11-21T19:07:40.699172Z"
    }
   },
   "id": "559f9b664a26a2bc"
  },
  {
   "cell_type": "markdown",
   "source": [
    "The model object contains the following attributes:"
   ],
   "metadata": {
    "collapsed": false
   },
   "id": "1d8b0411da00063c"
  },
  {
   "cell_type": "code",
   "execution_count": 30,
   "outputs": [
    {
     "data": {
      "text/plain": "(ContinuousVariable(name='sepal length', number_of_decimals=1),\n ContinuousVariable(name='sepal width', number_of_decimals=1),\n ContinuousVariable(name='petal length', number_of_decimals=1),\n ContinuousVariable(name='petal width', number_of_decimals=1))"
     },
     "execution_count": 30,
     "metadata": {},
     "output_type": "execute_result"
    }
   ],
   "source": [
    "model.domain.attributes"
   ],
   "metadata": {
    "collapsed": false,
    "ExecuteTime": {
     "end_time": "2023-11-21T19:22:08.224441Z",
     "start_time": "2023-11-21T19:22:08.220120Z"
    }
   },
   "id": "c786e2fca98fd3b"
  },
  {
   "cell_type": "code",
   "execution_count": 24,
   "outputs": [
    {
     "data": {
      "text/plain": "['sepal length', 'sepal width', 'petal length', 'petal width']"
     },
     "execution_count": 24,
     "metadata": {},
     "output_type": "execute_result"
    }
   ],
   "source": [
    "[var.name for var in model.domain.attributes]"
   ],
   "metadata": {
    "collapsed": false,
    "ExecuteTime": {
     "end_time": "2023-11-21T19:19:14.537638Z",
     "start_time": "2023-11-21T19:19:14.528021Z"
    }
   },
   "id": "c318911131473dd7"
  },
  {
   "cell_type": "code",
   "execution_count": 19,
   "outputs": [
    {
     "data": {
      "text/plain": "DiscreteVariable(name='iris',\n                 values=('Iris-setosa', 'Iris-versicolor', 'Iris-virginica'))"
     },
     "execution_count": 19,
     "metadata": {},
     "output_type": "execute_result"
    }
   ],
   "source": [
    "model.domain.class_var"
   ],
   "metadata": {
    "collapsed": false,
    "ExecuteTime": {
     "end_time": "2023-11-21T19:12:27.615999Z",
     "start_time": "2023-11-21T19:12:27.607321Z"
    }
   },
   "id": "90e30aa65c84815a"
  },
  {
   "cell_type": "markdown",
   "source": [
    "|And the classes are:"
   ],
   "metadata": {
    "collapsed": false
   },
   "id": "eb160cac438f5adf"
  },
  {
   "cell_type": "code",
   "execution_count": 4,
   "outputs": [
    {
     "data": {
      "text/plain": "('Iris-setosa', 'Iris-versicolor', 'Iris-virginica')"
     },
     "execution_count": 4,
     "metadata": {},
     "output_type": "execute_result"
    }
   ],
   "source": [
    "model.original_domain.class_var.values"
   ],
   "metadata": {
    "collapsed": false,
    "ExecuteTime": {
     "end_time": "2023-11-21T18:23:53.105679Z",
     "start_time": "2023-11-21T18:23:53.099498Z"
    }
   },
   "id": "ac1004f2362b1887"
  },
  {
   "cell_type": "markdown",
   "source": [
    " The following command can be used to obtain the predicted probabilities for each class, for each sample:\n",
    " "
   ],
   "metadata": {
    "collapsed": false
   },
   "id": "2d7dce55e19a4957"
  },
  {
   "cell_type": "code",
   "execution_count": 5,
   "outputs": [
    {
     "data": {
      "text/plain": "array([[0.        , 0.97916667, 0.02083333],\n       [1.        , 0.        , 0.        ],\n       [0.        , 0.02173913, 0.97826087]])"
     },
     "execution_count": 5,
     "metadata": {},
     "output_type": "execute_result"
    }
   ],
   "source": [
    "import numpy as np\n",
    "\n",
    "# define the samples\n",
    "samples = np.array([[6.3, 3.3, 4.7, 1.6], # versicolor\n",
    "                    [5.1, 3.5, 1.4, 0.2], # setosa\n",
    "                    [6.9, 3.1, 5.1, 2.3] # virginica\n",
    "                    ])\n",
    "\n",
    "# predict the probabilities\n",
    "pred = model.predict(samples)\n",
    "pred"
   ],
   "metadata": {
    "collapsed": false,
    "ExecuteTime": {
     "end_time": "2023-11-21T18:23:53.183966Z",
     "start_time": "2023-11-21T18:23:53.103291Z"
    }
   },
   "id": "d78ed56ed44c60ff"
  },
  {
   "cell_type": "markdown",
   "source": [
    "The following command can be used to obtain the index of the class:"
   ],
   "metadata": {
    "collapsed": false
   },
   "id": "d3ec5d873b9afc03"
  },
  {
   "cell_type": "code",
   "execution_count": 6,
   "outputs": [
    {
     "data": {
      "text/plain": "array([1, 0, 2])"
     },
     "execution_count": 6,
     "metadata": {},
     "output_type": "execute_result"
    }
   ],
   "source": [
    "predicted_classes = pred.argmax(axis=1)\n",
    "predicted_classes"
   ],
   "metadata": {
    "collapsed": false,
    "ExecuteTime": {
     "end_time": "2023-11-21T18:23:53.186978Z",
     "start_time": "2023-11-21T18:23:53.184223Z"
    }
   },
   "id": "a1a780e134dceb85"
  },
  {
   "cell_type": "markdown",
   "source": [
    "and to obtain the class names:"
   ],
   "metadata": {
    "collapsed": false
   },
   "id": "9b3e44f6380c2948"
  },
  {
   "cell_type": "code",
   "execution_count": 7,
   "outputs": [
    {
     "data": {
      "text/plain": "['Iris-versicolor', 'Iris-setosa', 'Iris-virginica']"
     },
     "execution_count": 7,
     "metadata": {},
     "output_type": "execute_result"
    }
   ],
   "source": [
    "[model.original_domain.class_var.values[predicted_class] for predicted_class in predicted_classes]"
   ],
   "metadata": {
    "collapsed": false,
    "ExecuteTime": {
     "end_time": "2023-11-21T18:23:53.190248Z",
     "start_time": "2023-11-21T18:23:53.188012Z"
    }
   },
   "id": "6aa1b8a9b4c93dbe"
  }
 ],
 "metadata": {
  "kernelspec": {
   "display_name": "Python 3",
   "language": "python",
   "name": "python3"
  },
  "language_info": {
   "codemirror_mode": {
    "name": "ipython",
    "version": 2
   },
   "file_extension": ".py",
   "mimetype": "text/x-python",
   "name": "python",
   "nbconvert_exporter": "python",
   "pygments_lexer": "ipython2",
   "version": "2.7.6"
  }
 },
 "nbformat": 4,
 "nbformat_minor": 5
}
